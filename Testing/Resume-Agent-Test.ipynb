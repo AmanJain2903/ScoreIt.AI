{
 "cells": [
  {
   "cell_type": "code",
   "execution_count": 1,
   "id": "bab24cb7",
   "metadata": {},
   "outputs": [],
   "source": [
    "from dotenv import load_dotenv\n",
    "import os\n",
    "from ai_agents.resume_extractor_agent import resume_agent, config\n",
    "ResumeAgent = None\n",
    "config = config.Config()"
   ]
  },
  {
   "cell_type": "code",
   "execution_count": 2,
   "id": "29273d5d",
   "metadata": {},
   "outputs": [],
   "source": [
    "def initializeAgent():\n",
    "    global ResumeAgent, config\n",
    "    if ResumeAgent:\n",
    "        return ResumeAgent.getAgentInfo()\n",
    "    load_dotenv()\n",
    "    API_NAME = config.API_NAME\n",
    "    if not os.getenv(API_NAME):\n",
    "        raise ValueError(f\"Environment variable {API_NAME} not set.\")\n",
    "    ResumeAgent = resume_agent.ResumeAgent(\n",
    "        apiKey=os.getenv(API_NAME),\n",
    "        modelName=config.MODEL_NAME,\n",
    "        systemPrompt=None,\n",
    "        useDefaultModelIfNone=True,\n",
    "        useDefaultSystemPromptIfNone=True,\n",
    "    )\n",
    "    return ResumeAgent.getAgentInfo()"
   ]
  },
  {
   "cell_type": "code",
   "execution_count": 3,
   "id": "4d1b7b8d",
   "metadata": {},
   "outputs": [],
   "source": [
    "def textPreprocessor(inputText):\n",
    "    text = inputText.replace(\"\\n\", \" \")\n",
    "    text = \" \".join(text.split())\n",
    "    return text"
   ]
  },
  {
   "cell_type": "code",
   "execution_count": 4,
   "id": "c48d3b0e",
   "metadata": {},
   "outputs": [],
   "source": [
    "def ExtractionPipeline(resumeText):\n",
    "    resumeText = textPreprocessor(resumeText)\n",
    "    initializeAgent()\n",
    "    ResumeAgent.getResponse(resumeText)\n",
    "    modelOutput = ResumeAgent.getJsonOutput()\n",
    "    ResumeAgent.resetAgent()\n",
    "    return modelOutput"
   ]
  },
  {
   "cell_type": "code",
   "execution_count": 5,
   "id": "25264f13",
   "metadata": {},
   "outputs": [],
   "source": [
    "resumeText = \"\"\"\n",
    "Aman Jain\n",
    "Santa Clara, CA, USA\n",
    "Email: amanjn2003@gmail.com\n",
    "Phone: +1 (425) 380-6319\n",
    "LinkedIn | GitHub\n",
    "VISA Status: F1\n",
    "\n",
    "EDUCATION\n",
    "\n",
    "Santa Clara University, CA, USA\n",
    "Master of Science in Computer Science\n",
    "September 2024 – Present\n",
    "GPA: 4.0/4.0\n",
    "Related Coursework: Design and Analysis of Algorithms, Computer Architecture, Machine Learning, Advanced Operating Systems.\n",
    "\n",
    "Jaypee Institute of Information Technology, India\n",
    "Bachelor’s in Computer Science & Engineering\n",
    "September 2020 – May 2024\n",
    "GPA: 3.2/4.0\n",
    "Related Coursework: Software Development Fundamentals, Data Structures & Algorithms, Object Oriented Design, Operating Systems, Computer Organization & Architecture, Computer Networks, Statistics & Probability, Soft Computing, Deep Learning, NLP & Big Data.\n",
    "\n",
    "TECHNICAL SKILLS\n",
    "\n",
    "Programming Languages: Python, C, C++, HTML, JavaScript, SQL\n",
    "Tools & Technologies: Machine Learning, Deep Learning, Computer Vision, TensorFlow, Keras, Git, Google Cloud Platform, Amazon Web Services\n",
    "\n",
    "EXPERIENCE\n",
    "\n",
    "AI/ML HUB OF JIIT | Founder & Instructor | Noida, India\n",
    "January 2024 – May 2024\n",
    "- Headed the first AI/ML hub at Jaypee Institute of Information Technology.\n",
    "- Managed a team of 50+ members.\n",
    "- Delivered weekly ML training sessions to 100 students.\n",
    "- Built an online ML/AI community of 500+ students.\n",
    "- Recognized by the Vice-Chancellor for contributions.\n",
    "- Serving as advisor to the hub.\n",
    "\n",
    "TALLY SOLUTIONS | Machine Learning Intern | Bangalore, India\n",
    "June 2023 – July 2023\n",
    "- Developed an invoice parser using ML to convert images into JSON.\n",
    "- Worked with GCP (Vertex AI, Document AI) and AWS (Sagemaker).\n",
    "- Optimized ML models for diverse systems, monitored CPU/GPU utilization.\n",
    "\n",
    "ACHIEVEMENTS\n",
    "\n",
    "Hack for Humanity 2025 | Best Graduate Hack | Santa Clara University\n",
    "- Built \"ReMind-AI\", an LLM-based cognitive behavior AI therapist.\n",
    "- Used Mistral LLM for local deployment to ensure user data security.\n",
    "\n",
    "Amazon ML Hackathon 2023 | Ranked 93rd out of 5000\n",
    "- Developed an LSTM model to predict product dimensions using 2.2M Amazon dataset entries.\n",
    "- Completed the challenge within 3 days.\n",
    "\n",
    "PROJECTS\n",
    "\n",
    "REVIVE AI – Image Resolution Up-scaler\n",
    "June 2024 – July 2024\n",
    "- Trained SR-CNN and Very Deep SR-CNN models on LSDIR dataset.\n",
    "- Built a Windows application using Tkinter and INNO Setup.\n",
    "\n",
    "POSTURE GUARD – Sitting Posture Detection System\n",
    "January 2024 – May 2024\n",
    "- Developed a CV-based real-time posture detection system.\n",
    "- Created dataset of 30,000 images from 10 volunteers.\n",
    "- Trained CNN models on Nvidia DGX workstation.\n",
    "- Built a Windows GUI application using Tkinter.\n",
    "\"\"\""
   ]
  },
  {
   "cell_type": "code",
   "execution_count": 6,
   "id": "fc6b0fe7",
   "metadata": {},
   "outputs": [
    {
     "data": {
      "text/plain": [
       "{'TECHNICAL_SKILL': 'Python, C, C++, HTML, JavaScript, SQL, Machine Learning, Deep Learning, Computer Vision, TensorFlow, Keras',\n",
       " 'COMPANY_NAME': 'TALLY SOLUTIONS',\n",
       " 'TOOL': 'Git, Google Cloud Platform, Amazon Web Services, Vertex AI, Document AI, Sagemaker, Tkinter, INNO Setup, Nvidia DGX',\n",
       " 'EDUCATION': 'Master of Science in Computer Science, Bachelor’s in Computer Science & Engineering',\n",
       " 'EXPERIENCE': '',\n",
       " 'DESIGNATION': 'Founder & Instructor, Machine Learning Intern',\n",
       " 'LOCATION': 'Santa Clara, CA, USA, Noida, India, Bangalore, India',\n",
       " 'LANGUAGE': '',\n",
       " 'SOFT_SKILL': '',\n",
       " 'PAY': '',\n",
       " 'CERTIFICATION': ''}"
      ]
     },
     "execution_count": 6,
     "metadata": {},
     "output_type": "execute_result"
    }
   ],
   "source": [
    "modelOutput = ExtractionPipeline(resumeText)\n",
    "modelOutput"
   ]
  }
 ],
 "metadata": {
  "kernelspec": {
   "display_name": "Python 3",
   "language": "python",
   "name": "python3"
  },
  "language_info": {
   "codemirror_mode": {
    "name": "ipython",
    "version": 3
   },
   "file_extension": ".py",
   "mimetype": "text/x-python",
   "name": "python",
   "nbconvert_exporter": "python",
   "pygments_lexer": "ipython3",
   "version": "3.11.12"
  }
 },
 "nbformat": 4,
 "nbformat_minor": 5
}
