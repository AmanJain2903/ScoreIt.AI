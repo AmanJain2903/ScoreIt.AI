{
 "cells": [
  {
   "cell_type": "code",
   "execution_count": 1,
   "id": "bab24cb7",
   "metadata": {},
   "outputs": [],
   "source": [
    "from dotenv import load_dotenv\n",
    "import os\n",
    "from ai_agents.jd_extractor_agent import jd_agent, config\n",
    "JDAgent = None\n",
    "config = config.Config()"
   ]
  },
  {
   "cell_type": "code",
   "execution_count": 2,
   "id": "9c7c9f03",
   "metadata": {},
   "outputs": [],
   "source": [
    "def initializeAgent():\n",
    "    global JDAgent, config\n",
    "    if JDAgent:\n",
    "        return JDAgent.getAgentInfo()\n",
    "    load_dotenv()\n",
    "    API_NAME = config.API_NAME\n",
    "    if not os.getenv(API_NAME):\n",
    "        raise ValueError(f\"Environment variable {API_NAME} not set.\")\n",
    "    JDAgent = jd_agent.JobDescriptionAgent(\n",
    "        apiKey=os.getenv(API_NAME),\n",
    "        modelName=config.MODEL_NAME,\n",
    "        systemPrompt=None,\n",
    "        useDefaultModelIfNone=True,\n",
    "        useDefaultSystemPromptIfNone=True,\n",
    "    )\n",
    "    return JDAgent.getAgentInfo()"
   ]
  },
  {
   "cell_type": "code",
   "execution_count": 3,
   "id": "25264f13",
   "metadata": {},
   "outputs": [],
   "source": [
    "def textPreprocessor(inputText):\n",
    "    text = inputText.replace(\"\\n\", \" \")\n",
    "    text = \" \".join(text.split())\n",
    "    return text"
   ]
  },
  {
   "cell_type": "code",
   "execution_count": 4,
   "id": "8ae83ffa",
   "metadata": {},
   "outputs": [],
   "source": [
    "def ExtractionPipeline(jdText):\n",
    "    jdText = textPreprocessor(jdText)\n",
    "    initializeAgent()\n",
    "    JDAgent.getResponse(jdText)\n",
    "    modelOutput = JDAgent.getJsonOutput()\n",
    "    JDAgent.resetAgent()\n",
    "    return modelOutput"
   ]
  },
  {
   "cell_type": "code",
   "execution_count": 5,
   "id": "0048e1f7",
   "metadata": {},
   "outputs": [],
   "source": [
    "jdText = \"\"\"\n",
    "Position: Machine Learning Engineer (Entry Level / Intern)\n",
    "\n",
    "Location: Santa Clara, CA (Hybrid)\n",
    "\n",
    "About the Role:\n",
    "We are seeking a highly motivated Machine Learning Engineer with a strong foundation in computer science, machine learning algorithms, deep learning frameworks, and cloud-based AI solutions. As a part of our AI Research and Development team, you will contribute to building intelligent systems that solve real-world problems in computer vision, natural language processing, and automation.\n",
    "\n",
    "Responsibilities:\n",
    "- Develop, train, and optimize machine learning models for classification, regression, and prediction tasks.\n",
    "- Work on computer vision pipelines including image classification, object detection, and image enhancement.\n",
    "- Deploy ML models to cloud platforms such as AWS SageMaker or Google Cloud Vertex AI.\n",
    "- Collaborate closely with software developers and data engineers to integrate ML models into production systems.\n",
    "- Conduct literature reviews and experiment with state-of-the-art AI technologies (like LLMs, GANs, CNNs, Transformers).\n",
    "- Participate in code reviews, model evaluation, and system architecture discussions.\n",
    "- Contribute to internal knowledge-sharing workshops and mentor junior members occasionally.\n",
    "\n",
    "Qualifications:\n",
    "- Currently pursuing or recently completed Master’s degree in Computer Science, Artificial Intelligence, Machine Learning, or a related field.\n",
    "- Strong programming skills in Python; knowledge of C++ and SQL is a plus.\n",
    "- Hands-on experience with machine learning and deep learning frameworks (TensorFlow, Keras, PyTorch).\n",
    "- Experience with cloud platforms (Google Cloud Platform, AWS) for model training and deployment.\n",
    "- Solid understanding of software engineering principles, version control (Git), and development workflows.\n",
    "- Previous experience building end-to-end AI/ML projects, preferably including GUI applications.\n",
    "- Good communication skills and ability to work in a fast-paced team environment.\n",
    "- Participation in hackathons, AI clubs, or open-source contributions is highly desirable.\n",
    "\n",
    "Nice to Have:\n",
    "- Experience working with Large Language Models (LLMs) or generative AI (e.g., Stable Diffusion, Mistral).\n",
    "- Familiarity with model optimization techniques like quantization, pruning, or multi-GPU training.\n",
    "- Knowledge of system design and architecture for scalable AI systems.\n",
    "\n",
    "Why Join Us:\n",
    "- Work directly with senior AI scientists and engineers.\n",
    "- Get exposure to cutting-edge AI technologies.\n",
    "- Mentorship-driven growth environment.\n",
    "- Flexible work schedule and hybrid opportunities.\n",
    "\n",
    "Salary:\n",
    "Competitive with bonus opportunities.\n",
    "\n",
    "Application Deadline:\n",
    "Rolling basis. Early applications encouraged.\n",
    "\"\"\""
   ]
  },
  {
   "cell_type": "code",
   "execution_count": 6,
   "id": "11b6f445",
   "metadata": {},
   "outputs": [
    {
     "data": {
      "text/plain": [
       "{'TECHNICAL_SKILL': 'machine learning algorithms, deep learning frameworks, cloud-based AI solutions, computer vision, natural language processing, automation, image classification, object detection, image enhancement, AWS SageMaker, Google Cloud Vertex AI, LLM, GAN, CNN, Transformer, Python, C++, SQL, TensorFlow, Keras, PyTorch, Google Cloud Platform, AWS, Git, Large Language Model, generative AI, Stable Diffusion, Mistral, quantization, pruning, multi-GPU training',\n",
       " 'COMPANY_NAME': '',\n",
       " 'TOOL': 'AWS SageMaker, Google Cloud Vertex AI, Git, Stable Diffusion, Mistral',\n",
       " 'EDUCATION': 'Master’s degree in Computer Science, Artificial Intelligence, Machine Learning',\n",
       " 'EXPERIENCE': '',\n",
       " 'DESIGNATION': 'Machine Learning Engineer (Entry Level / Intern)',\n",
       " 'LOCATION': 'Santa Clara, CA (Hybrid)',\n",
       " 'LANGUAGE': '',\n",
       " 'SOFT_SKILL': 'communication skills, ability to work in a fast-paced team environment',\n",
       " 'PAY': '',\n",
       " 'CERTIFICATION': ''}"
      ]
     },
     "execution_count": 6,
     "metadata": {},
     "output_type": "execute_result"
    }
   ],
   "source": [
    "modelOutput = ExtractionPipeline(jdText)\n",
    "modelOutput"
   ]
  }
 ],
 "metadata": {
  "kernelspec": {
   "display_name": "Python 3",
   "language": "python",
   "name": "python3"
  },
  "language_info": {
   "codemirror_mode": {
    "name": "ipython",
    "version": 3
   },
   "file_extension": ".py",
   "mimetype": "text/x-python",
   "name": "python",
   "nbconvert_exporter": "python",
   "pygments_lexer": "ipython3",
   "version": "3.11.12"
  }
 },
 "nbformat": 4,
 "nbformat_minor": 5
}
