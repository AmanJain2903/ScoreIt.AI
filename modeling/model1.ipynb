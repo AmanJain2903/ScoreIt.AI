{
  "cells": [
    {
      "cell_type": "markdown",
      "metadata": {
        "id": "A9CMk590ryHG"
      },
      "source": [
        "# Fine-Tune 'all-mpnet-base-v2' Sentence Transformer"
      ]
    },
    {
      "cell_type": "code",
      "execution_count": 113,
      "metadata": {
        "id": "YZGVSF55ryHH"
      },
      "outputs": [],
      "source": [
        "modelName=\"sentence-transformers/all-mpnet-base-v2\""
      ]
    },
    {
      "cell_type": "code",
      "execution_count": 114,
      "metadata": {
        "id": "1OizvZk9ryHH"
      },
      "outputs": [],
      "source": [
        "import pandas as pd\n",
        "from sklearn.preprocessing import LabelEncoder\n",
        "from torch.utils.data import Dataset, DataLoader\n",
        "import torch\n",
        "from torch import nn, optim\n",
        "from sentence_transformers import SentenceTransformer, models, losses, InputExample, models\n",
        "from sentence_transformers.evaluation import LabelAccuracyEvaluator\n",
        "from transformers import AutoTokenizer\n",
        "from tqdm import tqdm\n",
        "from sklearn.metrics.pairwise import cosine_similarity"
      ]
    },
    {
      "cell_type": "code",
      "execution_count": 115,
      "metadata": {
        "id": "nv7Vri9lryHI"
      },
      "outputs": [],
      "source": [
        "df = pd.read_csv(\"datasets/resume.csv\")  # Replace with actual path\n",
        "df = df[[\"Resume_str\", \"Category\"]]\n",
        "\n",
        "label_encoder = LabelEncoder()\n",
        "df['label'] = label_encoder.fit_transform(df['Category'])\n",
        "\n",
        "texts = df['Resume_str'].tolist()\n",
        "labels = df['label'].tolist()"
      ]
    },
    {
      "cell_type": "code",
      "execution_count": 116,
      "metadata": {
        "id": "YOpNdExFryHI"
      },
      "outputs": [],
      "source": [
        "class ResumeDataset(Dataset):\n",
        "    def __init__(self, texts, labels, tokenizer):\n",
        "        self.tokenized = tokenizer(texts, padding=True, truncation=True, return_tensors=\"pt\")\n",
        "        self.labels = labels\n",
        "\n",
        "    def __len__(self):\n",
        "        return len(self.labels)\n",
        "\n",
        "    def __getitem__(self, idx):\n",
        "        return {\n",
        "            \"input_ids\": self.tokenized[\"input_ids\"][idx],\n",
        "            \"attention_mask\": self.tokenized[\"attention_mask\"][idx],\n",
        "            \"label\": self.labels[idx]\n",
        "        }\n",
        "\n",
        "tokenizer = AutoTokenizer.from_pretrained(\"sentence-transformers/all-mpnet-base-v2\")\n",
        "dataset = ResumeDataset(texts, labels, tokenizer)\n",
        "dataloader = DataLoader(dataset, batch_size=16, shuffle=True)"
      ]
    },
    {
      "cell_type": "code",
      "execution_count": 117,
      "metadata": {
        "id": "YgsVFhGhryHI"
      },
      "outputs": [],
      "source": [
        "# Step 1: Build SentenceTransformer-style base model\n",
        "word_embedding_model = models.Transformer(modelName)\n",
        "pooling_model = models.Pooling(word_embedding_model.get_word_embedding_dimension())\n",
        "base_model = SentenceTransformer(modules=[word_embedding_model, pooling_model])\n",
        "\n",
        "# Step 2: Define classification head\n",
        "class SentenceClassifier(nn.Module):\n",
        "    def __init__(self, base_model, num_classes):\n",
        "        super(SentenceClassifier, self).__init__()\n",
        "        self.base_model = base_model  # SentenceTransformer model\n",
        "        self.classifier = nn.Sequential(\n",
        "            nn.Linear(base_model.get_sentence_embedding_dimension(), 256),\n",
        "            nn.ReLU(),\n",
        "            nn.Dropout(0.5),\n",
        "            nn.Linear(256, num_classes)\n",
        "        )\n",
        "\n",
        "    def forward(self, features):\n",
        "        # Allow gradients for fine-tuning base model\n",
        "        embeddings = self.base_model.forward(features)['sentence_embedding']\n",
        "        return self.classifier(embeddings)\n",
        "\n",
        "# Step 3: Instantiate classifier model\n",
        "model = SentenceClassifier(base_model, num_classes=len(label_encoder.classes_))"
      ]
    },
    {
      "cell_type": "code",
      "source": [
        "import torch\n",
        "import torch.nn as nn\n",
        "import torch.optim as optim\n",
        "from tqdm import tqdm\n",
        "\n",
        "# Early Stopping Setup\n",
        "best_loss = float('inf')\n",
        "patience = 6\n",
        "counter = 0\n",
        "\n",
        "# Training config\n",
        "baseEpochs = 200\n",
        "device = torch.device('cuda' if torch.cuda.is_available else 'mps' if torch.mps.is_available else 'cpu')\n",
        "print(\"Using device:\", device)\n",
        "model = model.to(device)\n",
        "\n",
        "# Freeze base model initially\n",
        "for param in model.base_model.parameters():\n",
        "    param.requires_grad = False\n",
        "\n",
        "criterion = nn.CrossEntropyLoss()\n",
        "optimizer = optim.AdamW(model.parameters(), lr=5e-4)\n",
        "\n",
        "# Learning Rate Scheduler (optional for frozen phase)\n",
        "scheduler = optim.lr_scheduler.ReduceLROnPlateau(optimizer, mode='min', patience=3, factor=0.5, verbose=True)\n",
        "\n",
        "torch.save(model.state_dict(), \"models/best_model.pt\")\n",
        "for epoch in range(baseEpochs):\n",
        "    model.load_state_dict(torch.load(\"models/best_model.pt\"))\n",
        "    model.train()\n",
        "    total_loss = 0\n",
        "    progress_bar = tqdm(dataloader, desc=f\"Epoch {epoch+1}\", leave=False)\n",
        "\n",
        "    for batch in progress_bar:\n",
        "        input_ids = batch[\"input_ids\"].to(device)\n",
        "        attention_mask = batch[\"attention_mask\"].to(device)\n",
        "        labels = torch.tensor(batch[\"label\"]).to(device)\n",
        "\n",
        "        features = {\"input_ids\": input_ids, \"attention_mask\": attention_mask}\n",
        "        outputs = model(features)\n",
        "\n",
        "        loss = criterion(outputs, labels)\n",
        "        loss.backward()\n",
        "        optimizer.step()\n",
        "        optimizer.zero_grad()\n",
        "\n",
        "        total_loss += loss.item()\n",
        "\n",
        "    avg_loss = total_loss / len(dataloader)\n",
        "    print(f\"Epoch {epoch+1} complete. Avg Loss: {avg_loss:.4f}\")\n",
        "\n",
        "    # Step the scheduler\n",
        "    scheduler.step(avg_loss)\n",
        "\n",
        "    # Early Stopping Check\n",
        "    if avg_loss < best_loss:\n",
        "        best_loss = avg_loss\n",
        "        counter = 0\n",
        "        print(\"✅ Improvement detected — saving model\")\n",
        "        torch.save(model.state_dict(), \"models/best_model.pt\")\n",
        "    else:\n",
        "        counter += 1\n",
        "        print(f\"⚠️ No improvement. Patience left: {patience - counter}\")\n",
        "        if counter >= patience:\n",
        "            print(\"⏹️ Early stopping triggered.\")\n",
        "            break"
      ],
      "metadata": {
        "colab": {
          "base_uri": "https://localhost:8080/"
        },
        "id": "m8kxjbc72XMf",
        "outputId": "b01a7b1f-705f-4f90-dd89-be0dc5772fc3"
      },
      "execution_count": 118,
      "outputs": [
        {
          "output_type": "stream",
          "name": "stdout",
          "text": [
            "Using device: cuda\n"
          ]
        },
        {
          "output_type": "stream",
          "name": "stderr",
          "text": [
            "Epoch 1:   0%|          | 0/156 [00:00<?, ?it/s]<ipython-input-118-f8a4cc2551eb>:37: UserWarning: To copy construct from a tensor, it is recommended to use sourceTensor.clone().detach() or sourceTensor.clone().detach().requires_grad_(True), rather than torch.tensor(sourceTensor).\n",
            "  labels = torch.tensor(batch[\"label\"]).to(device)\n"
          ]
        },
        {
          "output_type": "stream",
          "name": "stdout",
          "text": [
            "Epoch 1 complete. Avg Loss: 2.7746\n",
            "✅ Improvement detected — saving model\n"
          ]
        },
        {
          "output_type": "stream",
          "name": "stderr",
          "text": []
        },
        {
          "output_type": "stream",
          "name": "stdout",
          "text": [
            "Epoch 2 complete. Avg Loss: 1.8635\n",
            "✅ Improvement detected — saving model\n"
          ]
        },
        {
          "output_type": "stream",
          "name": "stderr",
          "text": []
        },
        {
          "output_type": "stream",
          "name": "stdout",
          "text": [
            "Epoch 3 complete. Avg Loss: 1.4548\n",
            "✅ Improvement detected — saving model\n"
          ]
        },
        {
          "output_type": "stream",
          "name": "stderr",
          "text": []
        },
        {
          "output_type": "stream",
          "name": "stdout",
          "text": [
            "Epoch 4 complete. Avg Loss: 1.3172\n",
            "✅ Improvement detected — saving model\n"
          ]
        },
        {
          "output_type": "stream",
          "name": "stderr",
          "text": []
        },
        {
          "output_type": "stream",
          "name": "stdout",
          "text": [
            "Epoch 5 complete. Avg Loss: 1.1880\n",
            "✅ Improvement detected — saving model\n"
          ]
        },
        {
          "output_type": "stream",
          "name": "stderr",
          "text": []
        },
        {
          "output_type": "stream",
          "name": "stdout",
          "text": [
            "Epoch 6 complete. Avg Loss: 1.1233\n",
            "✅ Improvement detected — saving model\n"
          ]
        },
        {
          "output_type": "stream",
          "name": "stderr",
          "text": []
        },
        {
          "output_type": "stream",
          "name": "stdout",
          "text": [
            "Epoch 7 complete. Avg Loss: 1.0585\n",
            "✅ Improvement detected — saving model\n"
          ]
        },
        {
          "output_type": "stream",
          "name": "stderr",
          "text": []
        },
        {
          "output_type": "stream",
          "name": "stdout",
          "text": [
            "Epoch 8 complete. Avg Loss: 1.0096\n",
            "✅ Improvement detected — saving model\n"
          ]
        },
        {
          "output_type": "stream",
          "name": "stderr",
          "text": []
        },
        {
          "output_type": "stream",
          "name": "stdout",
          "text": [
            "Epoch 9 complete. Avg Loss: 0.9687\n",
            "✅ Improvement detected — saving model\n"
          ]
        },
        {
          "output_type": "stream",
          "name": "stderr",
          "text": []
        },
        {
          "output_type": "stream",
          "name": "stdout",
          "text": [
            "Epoch 10 complete. Avg Loss: 0.9285\n",
            "✅ Improvement detected — saving model\n"
          ]
        },
        {
          "output_type": "stream",
          "name": "stderr",
          "text": []
        },
        {
          "output_type": "stream",
          "name": "stdout",
          "text": [
            "Epoch 11 complete. Avg Loss: 0.9002\n",
            "✅ Improvement detected — saving model\n"
          ]
        },
        {
          "output_type": "stream",
          "name": "stderr",
          "text": []
        },
        {
          "output_type": "stream",
          "name": "stdout",
          "text": [
            "Epoch 12 complete. Avg Loss: 0.8594\n",
            "✅ Improvement detected — saving model\n"
          ]
        },
        {
          "output_type": "stream",
          "name": "stderr",
          "text": []
        },
        {
          "output_type": "stream",
          "name": "stdout",
          "text": [
            "Epoch 13 complete. Avg Loss: 0.8571\n",
            "✅ Improvement detected — saving model\n"
          ]
        },
        {
          "output_type": "stream",
          "name": "stderr",
          "text": []
        },
        {
          "output_type": "stream",
          "name": "stdout",
          "text": [
            "Epoch 14 complete. Avg Loss: 0.8391\n",
            "✅ Improvement detected — saving model\n"
          ]
        },
        {
          "output_type": "stream",
          "name": "stderr",
          "text": []
        },
        {
          "output_type": "stream",
          "name": "stdout",
          "text": [
            "Epoch 15 complete. Avg Loss: 0.8122\n",
            "✅ Improvement detected — saving model\n"
          ]
        },
        {
          "output_type": "stream",
          "name": "stderr",
          "text": []
        },
        {
          "output_type": "stream",
          "name": "stdout",
          "text": [
            "Epoch 16 complete. Avg Loss: 0.7847\n",
            "✅ Improvement detected — saving model\n"
          ]
        },
        {
          "output_type": "stream",
          "name": "stderr",
          "text": []
        },
        {
          "output_type": "stream",
          "name": "stdout",
          "text": [
            "Epoch 17 complete. Avg Loss: 0.7690\n",
            "✅ Improvement detected — saving model\n"
          ]
        },
        {
          "output_type": "stream",
          "name": "stderr",
          "text": []
        },
        {
          "output_type": "stream",
          "name": "stdout",
          "text": [
            "Epoch 18 complete. Avg Loss: 0.7427\n",
            "✅ Improvement detected — saving model\n"
          ]
        },
        {
          "output_type": "stream",
          "name": "stderr",
          "text": []
        },
        {
          "output_type": "stream",
          "name": "stdout",
          "text": [
            "Epoch 19 complete. Avg Loss: 0.7218\n",
            "✅ Improvement detected — saving model\n"
          ]
        },
        {
          "output_type": "stream",
          "name": "stderr",
          "text": []
        },
        {
          "output_type": "stream",
          "name": "stdout",
          "text": [
            "Epoch 20 complete. Avg Loss: 0.7276\n",
            "⚠️ No improvement. Patience left: 5\n"
          ]
        },
        {
          "output_type": "stream",
          "name": "stderr",
          "text": []
        },
        {
          "output_type": "stream",
          "name": "stdout",
          "text": [
            "Epoch 21 complete. Avg Loss: 0.7038\n",
            "✅ Improvement detected — saving model\n"
          ]
        },
        {
          "output_type": "stream",
          "name": "stderr",
          "text": []
        },
        {
          "output_type": "stream",
          "name": "stdout",
          "text": [
            "Epoch 22 complete. Avg Loss: 0.6996\n",
            "✅ Improvement detected — saving model\n"
          ]
        },
        {
          "output_type": "stream",
          "name": "stderr",
          "text": []
        },
        {
          "output_type": "stream",
          "name": "stdout",
          "text": [
            "Epoch 23 complete. Avg Loss: 0.6970\n",
            "✅ Improvement detected — saving model\n"
          ]
        },
        {
          "output_type": "stream",
          "name": "stderr",
          "text": []
        },
        {
          "output_type": "stream",
          "name": "stdout",
          "text": [
            "Epoch 24 complete. Avg Loss: 0.6606\n",
            "✅ Improvement detected — saving model\n"
          ]
        },
        {
          "output_type": "stream",
          "name": "stderr",
          "text": []
        },
        {
          "output_type": "stream",
          "name": "stdout",
          "text": [
            "Epoch 25 complete. Avg Loss: 0.6581\n",
            "✅ Improvement detected — saving model\n"
          ]
        },
        {
          "output_type": "stream",
          "name": "stderr",
          "text": []
        },
        {
          "output_type": "stream",
          "name": "stdout",
          "text": [
            "Epoch 26 complete. Avg Loss: 0.6411\n",
            "✅ Improvement detected — saving model\n"
          ]
        },
        {
          "output_type": "stream",
          "name": "stderr",
          "text": []
        },
        {
          "output_type": "stream",
          "name": "stdout",
          "text": [
            "Epoch 27 complete. Avg Loss: 0.6520\n",
            "⚠️ No improvement. Patience left: 5\n"
          ]
        },
        {
          "output_type": "stream",
          "name": "stderr",
          "text": []
        },
        {
          "output_type": "stream",
          "name": "stdout",
          "text": [
            "Epoch 28 complete. Avg Loss: 0.6291\n",
            "✅ Improvement detected — saving model\n"
          ]
        },
        {
          "output_type": "stream",
          "name": "stderr",
          "text": []
        },
        {
          "output_type": "stream",
          "name": "stdout",
          "text": [
            "Epoch 29 complete. Avg Loss: 0.6187\n",
            "✅ Improvement detected — saving model\n"
          ]
        },
        {
          "output_type": "stream",
          "name": "stderr",
          "text": []
        },
        {
          "output_type": "stream",
          "name": "stdout",
          "text": [
            "Epoch 30 complete. Avg Loss: 0.6021\n",
            "✅ Improvement detected — saving model\n"
          ]
        },
        {
          "output_type": "stream",
          "name": "stderr",
          "text": []
        },
        {
          "output_type": "stream",
          "name": "stdout",
          "text": [
            "Epoch 31 complete. Avg Loss: 0.5922\n",
            "✅ Improvement detected — saving model\n"
          ]
        },
        {
          "output_type": "stream",
          "name": "stderr",
          "text": []
        },
        {
          "output_type": "stream",
          "name": "stdout",
          "text": [
            "Epoch 32 complete. Avg Loss: 0.5715\n",
            "✅ Improvement detected — saving model\n"
          ]
        },
        {
          "output_type": "stream",
          "name": "stderr",
          "text": []
        },
        {
          "output_type": "stream",
          "name": "stdout",
          "text": [
            "Epoch 33 complete. Avg Loss: 0.5674\n",
            "✅ Improvement detected — saving model\n"
          ]
        },
        {
          "output_type": "stream",
          "name": "stderr",
          "text": []
        },
        {
          "output_type": "stream",
          "name": "stdout",
          "text": [
            "Epoch 34 complete. Avg Loss: 0.5524\n",
            "✅ Improvement detected — saving model\n"
          ]
        },
        {
          "output_type": "stream",
          "name": "stderr",
          "text": []
        },
        {
          "output_type": "stream",
          "name": "stdout",
          "text": [
            "Epoch 35 complete. Avg Loss: 0.5519\n",
            "✅ Improvement detected — saving model\n"
          ]
        },
        {
          "output_type": "stream",
          "name": "stderr",
          "text": []
        },
        {
          "output_type": "stream",
          "name": "stdout",
          "text": [
            "Epoch 36 complete. Avg Loss: 0.5314\n",
            "✅ Improvement detected — saving model\n"
          ]
        },
        {
          "output_type": "stream",
          "name": "stderr",
          "text": []
        },
        {
          "output_type": "stream",
          "name": "stdout",
          "text": [
            "Epoch 37 complete. Avg Loss: 0.5060\n",
            "✅ Improvement detected — saving model\n"
          ]
        },
        {
          "output_type": "stream",
          "name": "stderr",
          "text": []
        },
        {
          "output_type": "stream",
          "name": "stdout",
          "text": [
            "Epoch 38 complete. Avg Loss: 0.5204\n",
            "⚠️ No improvement. Patience left: 5\n"
          ]
        },
        {
          "output_type": "stream",
          "name": "stderr",
          "text": []
        },
        {
          "output_type": "stream",
          "name": "stdout",
          "text": [
            "Epoch 39 complete. Avg Loss: 0.5093\n",
            "⚠️ No improvement. Patience left: 4\n"
          ]
        },
        {
          "output_type": "stream",
          "name": "stderr",
          "text": []
        },
        {
          "output_type": "stream",
          "name": "stdout",
          "text": [
            "Epoch 40 complete. Avg Loss: 0.5145\n",
            "⚠️ No improvement. Patience left: 3\n"
          ]
        },
        {
          "output_type": "stream",
          "name": "stderr",
          "text": []
        },
        {
          "output_type": "stream",
          "name": "stdout",
          "text": [
            "Epoch 41 complete. Avg Loss: 0.5129\n",
            "⚠️ No improvement. Patience left: 2\n"
          ]
        },
        {
          "output_type": "stream",
          "name": "stderr",
          "text": []
        },
        {
          "output_type": "stream",
          "name": "stdout",
          "text": [
            "Epoch 42 complete. Avg Loss: 0.5013\n",
            "✅ Improvement detected — saving model\n"
          ]
        },
        {
          "output_type": "stream",
          "name": "stderr",
          "text": []
        },
        {
          "output_type": "stream",
          "name": "stdout",
          "text": [
            "Epoch 43 complete. Avg Loss: 0.5023\n",
            "⚠️ No improvement. Patience left: 5\n"
          ]
        },
        {
          "output_type": "stream",
          "name": "stderr",
          "text": []
        },
        {
          "output_type": "stream",
          "name": "stdout",
          "text": [
            "Epoch 44 complete. Avg Loss: 0.4975\n",
            "✅ Improvement detected — saving model\n"
          ]
        },
        {
          "output_type": "stream",
          "name": "stderr",
          "text": []
        },
        {
          "output_type": "stream",
          "name": "stdout",
          "text": [
            "Epoch 45 complete. Avg Loss: 0.4886\n",
            "✅ Improvement detected — saving model\n"
          ]
        },
        {
          "output_type": "stream",
          "name": "stderr",
          "text": []
        },
        {
          "output_type": "stream",
          "name": "stdout",
          "text": [
            "Epoch 46 complete. Avg Loss: 0.4874\n",
            "✅ Improvement detected — saving model\n"
          ]
        },
        {
          "output_type": "stream",
          "name": "stderr",
          "text": []
        },
        {
          "output_type": "stream",
          "name": "stdout",
          "text": [
            "Epoch 47 complete. Avg Loss: 0.4707\n",
            "✅ Improvement detected — saving model\n"
          ]
        },
        {
          "output_type": "stream",
          "name": "stderr",
          "text": []
        },
        {
          "output_type": "stream",
          "name": "stdout",
          "text": [
            "Epoch 48 complete. Avg Loss: 0.4699\n",
            "✅ Improvement detected — saving model\n"
          ]
        },
        {
          "output_type": "stream",
          "name": "stderr",
          "text": []
        },
        {
          "output_type": "stream",
          "name": "stdout",
          "text": [
            "Epoch 49 complete. Avg Loss: 0.4593\n",
            "✅ Improvement detected — saving model\n"
          ]
        },
        {
          "output_type": "stream",
          "name": "stderr",
          "text": []
        },
        {
          "output_type": "stream",
          "name": "stdout",
          "text": [
            "Epoch 50 complete. Avg Loss: 0.4516\n",
            "✅ Improvement detected — saving model\n"
          ]
        },
        {
          "output_type": "stream",
          "name": "stderr",
          "text": []
        },
        {
          "output_type": "stream",
          "name": "stdout",
          "text": [
            "Epoch 51 complete. Avg Loss: 0.4622\n",
            "⚠️ No improvement. Patience left: 5\n"
          ]
        },
        {
          "output_type": "stream",
          "name": "stderr",
          "text": []
        },
        {
          "output_type": "stream",
          "name": "stdout",
          "text": [
            "Epoch 52 complete. Avg Loss: 0.4481\n",
            "✅ Improvement detected — saving model\n"
          ]
        },
        {
          "output_type": "stream",
          "name": "stderr",
          "text": []
        },
        {
          "output_type": "stream",
          "name": "stdout",
          "text": [
            "Epoch 53 complete. Avg Loss: 0.4542\n",
            "⚠️ No improvement. Patience left: 5\n"
          ]
        },
        {
          "output_type": "stream",
          "name": "stderr",
          "text": []
        },
        {
          "output_type": "stream",
          "name": "stdout",
          "text": [
            "Epoch 54 complete. Avg Loss: 0.4686\n",
            "⚠️ No improvement. Patience left: 4\n"
          ]
        },
        {
          "output_type": "stream",
          "name": "stderr",
          "text": []
        },
        {
          "output_type": "stream",
          "name": "stdout",
          "text": [
            "Epoch 55 complete. Avg Loss: 0.4572\n",
            "⚠️ No improvement. Patience left: 3\n"
          ]
        },
        {
          "output_type": "stream",
          "name": "stderr",
          "text": []
        },
        {
          "output_type": "stream",
          "name": "stdout",
          "text": [
            "Epoch 56 complete. Avg Loss: 0.4508\n",
            "⚠️ No improvement. Patience left: 2\n"
          ]
        },
        {
          "output_type": "stream",
          "name": "stderr",
          "text": []
        },
        {
          "output_type": "stream",
          "name": "stdout",
          "text": [
            "Epoch 57 complete. Avg Loss: 0.4566\n",
            "⚠️ No improvement. Patience left: 1\n"
          ]
        },
        {
          "output_type": "stream",
          "name": "stderr",
          "text": [
            "                                                           "
          ]
        },
        {
          "output_type": "stream",
          "name": "stdout",
          "text": [
            "Epoch 58 complete. Avg Loss: 0.4499\n",
            "⚠️ No improvement. Patience left: 0\n",
            "⏹️ Early stopping triggered.\n"
          ]
        },
        {
          "output_type": "stream",
          "name": "stderr",
          "text": [
            "\r"
          ]
        }
      ]
    },
    {
      "cell_type": "code",
      "source": [
        "tuneEpochs = 200\n",
        "\n",
        "# 🔓 Unfreeze base model\n",
        "for param in model.base_model.parameters():\n",
        "    param.requires_grad = True\n",
        "\n",
        "# 🔁 New optimizer & scheduler for fine-tuning\n",
        "optimizer = optim.AdamW(model.parameters(), lr=2e-5)\n",
        "scheduler = optim.lr_scheduler.ReduceLROnPlateau(optimizer, mode='min', patience=3, factor=0.5, verbose=True)\n",
        "\n",
        "# Early stopping state\n",
        "tune_best_loss = float('inf')\n",
        "tune_counter = 0\n",
        "tune_patience = 6\n",
        "\n",
        "for epoch in range(baseEpochs, baseEpochs + tuneEpochs):\n",
        "    model.load_state_dict(torch.load(\"models/best_model.pt\"))\n",
        "    model.train()\n",
        "    total_loss = 0\n",
        "    progress_bar = tqdm(dataloader, desc=f\"Tune Epoch {epoch+1}\", leave=False)\n",
        "\n",
        "    for batch in progress_bar:\n",
        "        input_ids = batch[\"input_ids\"].to(device)\n",
        "        attention_mask = batch[\"attention_mask\"].to(device)\n",
        "        labels = torch.tensor(batch[\"label\"]).to(device)\n",
        "\n",
        "        features = {\"input_ids\": input_ids, \"attention_mask\": attention_mask}\n",
        "        outputs = model(features)\n",
        "\n",
        "        loss = criterion(outputs, labels)\n",
        "        loss.backward()\n",
        "        optimizer.step()\n",
        "        optimizer.zero_grad()\n",
        "        total_loss += loss.item()\n",
        "\n",
        "    avg_loss = total_loss / len(dataloader)\n",
        "    print(f\"🛠️ Epoch {epoch+1} complete. Avg Loss: {avg_loss:.4f}\")\n",
        "\n",
        "    scheduler.step(avg_loss)\n",
        "\n",
        "    # Early stopping\n",
        "    if avg_loss < tune_best_loss:\n",
        "        tune_best_loss = avg_loss\n",
        "        tune_counter = 0\n",
        "        print(\"✅ Improvement detected — saving model\")\n",
        "        torch.save(model.state_dict(), \"models/best_model.pt\")\n",
        "    else:\n",
        "        tune_counter += 1\n",
        "        print(f\"⚠️ No improvement. Patience left: {tune_patience - tune_counter}\")\n",
        "        if tune_counter >= tune_patience:\n",
        "            print(\"⏹️ Early stopping triggered.\")\n",
        "            break"
      ],
      "metadata": {
        "colab": {
          "base_uri": "https://localhost:8080/"
        },
        "id": "1d7QOUWe2ydN",
        "outputId": "228a24b2-300f-4ba9-aabf-9b0c65dc366f"
      },
      "execution_count": 119,
      "outputs": [
        {
          "output_type": "stream",
          "name": "stderr",
          "text": [
            "\rTune Epoch 201:   0%|          | 0/156 [00:00<?, ?it/s]<ipython-input-119-cb77e44abd5f>:25: UserWarning: To copy construct from a tensor, it is recommended to use sourceTensor.clone().detach() or sourceTensor.clone().detach().requires_grad_(True), rather than torch.tensor(sourceTensor).\n",
            "  labels = torch.tensor(batch[\"label\"]).to(device)\n"
          ]
        },
        {
          "output_type": "stream",
          "name": "stdout",
          "text": [
            "🛠️ Epoch 201 complete. Avg Loss: 0.4883\n",
            "✅ Improvement detected — saving model\n"
          ]
        },
        {
          "output_type": "stream",
          "name": "stderr",
          "text": []
        },
        {
          "output_type": "stream",
          "name": "stdout",
          "text": [
            "🛠️ Epoch 202 complete. Avg Loss: 0.3108\n",
            "✅ Improvement detected — saving model\n"
          ]
        },
        {
          "output_type": "stream",
          "name": "stderr",
          "text": []
        },
        {
          "output_type": "stream",
          "name": "stdout",
          "text": [
            "🛠️ Epoch 203 complete. Avg Loss: 0.2218\n",
            "✅ Improvement detected — saving model\n"
          ]
        },
        {
          "output_type": "stream",
          "name": "stderr",
          "text": []
        },
        {
          "output_type": "stream",
          "name": "stdout",
          "text": [
            "🛠️ Epoch 204 complete. Avg Loss: 0.1292\n",
            "✅ Improvement detected — saving model\n"
          ]
        },
        {
          "output_type": "stream",
          "name": "stderr",
          "text": []
        },
        {
          "output_type": "stream",
          "name": "stdout",
          "text": [
            "🛠️ Epoch 205 complete. Avg Loss: 0.0820\n",
            "✅ Improvement detected — saving model\n"
          ]
        },
        {
          "output_type": "stream",
          "name": "stderr",
          "text": []
        },
        {
          "output_type": "stream",
          "name": "stdout",
          "text": [
            "🛠️ Epoch 206 complete. Avg Loss: 0.0604\n",
            "✅ Improvement detected — saving model\n"
          ]
        },
        {
          "output_type": "stream",
          "name": "stderr",
          "text": []
        },
        {
          "output_type": "stream",
          "name": "stdout",
          "text": [
            "🛠️ Epoch 207 complete. Avg Loss: 0.0549\n",
            "✅ Improvement detected — saving model\n"
          ]
        },
        {
          "output_type": "stream",
          "name": "stderr",
          "text": []
        },
        {
          "output_type": "stream",
          "name": "stdout",
          "text": [
            "🛠️ Epoch 208 complete. Avg Loss: 0.0377\n",
            "✅ Improvement detected — saving model\n"
          ]
        },
        {
          "output_type": "stream",
          "name": "stderr",
          "text": []
        },
        {
          "output_type": "stream",
          "name": "stdout",
          "text": [
            "🛠️ Epoch 209 complete. Avg Loss: 0.0362\n",
            "✅ Improvement detected — saving model\n"
          ]
        },
        {
          "output_type": "stream",
          "name": "stderr",
          "text": []
        },
        {
          "output_type": "stream",
          "name": "stdout",
          "text": [
            "🛠️ Epoch 210 complete. Avg Loss: 0.0234\n",
            "✅ Improvement detected — saving model\n"
          ]
        },
        {
          "output_type": "stream",
          "name": "stderr",
          "text": []
        },
        {
          "output_type": "stream",
          "name": "stdout",
          "text": [
            "🛠️ Epoch 211 complete. Avg Loss: 0.0234\n",
            "⚠️ No improvement. Patience left: 5\n"
          ]
        },
        {
          "output_type": "stream",
          "name": "stderr",
          "text": []
        },
        {
          "output_type": "stream",
          "name": "stdout",
          "text": [
            "🛠️ Epoch 212 complete. Avg Loss: 0.0588\n",
            "⚠️ No improvement. Patience left: 4\n"
          ]
        },
        {
          "output_type": "stream",
          "name": "stderr",
          "text": []
        },
        {
          "output_type": "stream",
          "name": "stdout",
          "text": [
            "🛠️ Epoch 213 complete. Avg Loss: 0.0233\n",
            "✅ Improvement detected — saving model\n"
          ]
        },
        {
          "output_type": "stream",
          "name": "stderr",
          "text": []
        },
        {
          "output_type": "stream",
          "name": "stdout",
          "text": [
            "🛠️ Epoch 214 complete. Avg Loss: 0.0586\n",
            "⚠️ No improvement. Patience left: 5\n"
          ]
        },
        {
          "output_type": "stream",
          "name": "stderr",
          "text": []
        },
        {
          "output_type": "stream",
          "name": "stdout",
          "text": [
            "🛠️ Epoch 215 complete. Avg Loss: 0.0227\n",
            "✅ Improvement detected — saving model\n"
          ]
        },
        {
          "output_type": "stream",
          "name": "stderr",
          "text": []
        },
        {
          "output_type": "stream",
          "name": "stdout",
          "text": [
            "🛠️ Epoch 216 complete. Avg Loss: 0.0239\n",
            "⚠️ No improvement. Patience left: 5\n"
          ]
        },
        {
          "output_type": "stream",
          "name": "stderr",
          "text": []
        },
        {
          "output_type": "stream",
          "name": "stdout",
          "text": [
            "🛠️ Epoch 217 complete. Avg Loss: 0.0198\n",
            "✅ Improvement detected — saving model\n"
          ]
        },
        {
          "output_type": "stream",
          "name": "stderr",
          "text": []
        },
        {
          "output_type": "stream",
          "name": "stdout",
          "text": [
            "🛠️ Epoch 218 complete. Avg Loss: 0.0089\n",
            "✅ Improvement detected — saving model\n"
          ]
        },
        {
          "output_type": "stream",
          "name": "stderr",
          "text": []
        },
        {
          "output_type": "stream",
          "name": "stdout",
          "text": [
            "🛠️ Epoch 219 complete. Avg Loss: 0.0045\n",
            "✅ Improvement detected — saving model\n"
          ]
        },
        {
          "output_type": "stream",
          "name": "stderr",
          "text": []
        },
        {
          "output_type": "stream",
          "name": "stdout",
          "text": [
            "🛠️ Epoch 220 complete. Avg Loss: 0.0046\n",
            "⚠️ No improvement. Patience left: 5\n"
          ]
        },
        {
          "output_type": "stream",
          "name": "stderr",
          "text": []
        },
        {
          "output_type": "stream",
          "name": "stdout",
          "text": [
            "🛠️ Epoch 221 complete. Avg Loss: 0.0073\n",
            "⚠️ No improvement. Patience left: 4\n"
          ]
        },
        {
          "output_type": "stream",
          "name": "stderr",
          "text": []
        },
        {
          "output_type": "stream",
          "name": "stdout",
          "text": [
            "🛠️ Epoch 222 complete. Avg Loss: 0.0409\n",
            "⚠️ No improvement. Patience left: 3\n"
          ]
        },
        {
          "output_type": "stream",
          "name": "stderr",
          "text": []
        },
        {
          "output_type": "stream",
          "name": "stdout",
          "text": [
            "🛠️ Epoch 223 complete. Avg Loss: 0.0061\n",
            "⚠️ No improvement. Patience left: 2\n"
          ]
        },
        {
          "output_type": "stream",
          "name": "stderr",
          "text": []
        },
        {
          "output_type": "stream",
          "name": "stdout",
          "text": [
            "🛠️ Epoch 224 complete. Avg Loss: 0.0029\n",
            "✅ Improvement detected — saving model\n"
          ]
        },
        {
          "output_type": "stream",
          "name": "stderr",
          "text": []
        },
        {
          "output_type": "stream",
          "name": "stdout",
          "text": [
            "🛠️ Epoch 225 complete. Avg Loss: 0.0033\n",
            "⚠️ No improvement. Patience left: 5\n"
          ]
        },
        {
          "output_type": "stream",
          "name": "stderr",
          "text": []
        },
        {
          "output_type": "stream",
          "name": "stdout",
          "text": [
            "🛠️ Epoch 226 complete. Avg Loss: 0.0030\n",
            "⚠️ No improvement. Patience left: 4\n"
          ]
        },
        {
          "output_type": "stream",
          "name": "stderr",
          "text": []
        },
        {
          "output_type": "stream",
          "name": "stdout",
          "text": [
            "🛠️ Epoch 227 complete. Avg Loss: 0.0038\n",
            "⚠️ No improvement. Patience left: 3\n"
          ]
        },
        {
          "output_type": "stream",
          "name": "stderr",
          "text": []
        },
        {
          "output_type": "stream",
          "name": "stdout",
          "text": [
            "🛠️ Epoch 228 complete. Avg Loss: 0.0026\n",
            "✅ Improvement detected — saving model\n"
          ]
        },
        {
          "output_type": "stream",
          "name": "stderr",
          "text": []
        },
        {
          "output_type": "stream",
          "name": "stdout",
          "text": [
            "🛠️ Epoch 229 complete. Avg Loss: 0.0022\n",
            "✅ Improvement detected — saving model\n"
          ]
        },
        {
          "output_type": "stream",
          "name": "stderr",
          "text": []
        },
        {
          "output_type": "stream",
          "name": "stdout",
          "text": [
            "🛠️ Epoch 230 complete. Avg Loss: 0.0039\n",
            "⚠️ No improvement. Patience left: 5\n"
          ]
        },
        {
          "output_type": "stream",
          "name": "stderr",
          "text": []
        },
        {
          "output_type": "stream",
          "name": "stdout",
          "text": [
            "🛠️ Epoch 231 complete. Avg Loss: 0.0016\n",
            "✅ Improvement detected — saving model\n"
          ]
        },
        {
          "output_type": "stream",
          "name": "stderr",
          "text": []
        },
        {
          "output_type": "stream",
          "name": "stdout",
          "text": [
            "🛠️ Epoch 232 complete. Avg Loss: 0.0018\n",
            "⚠️ No improvement. Patience left: 5\n"
          ]
        },
        {
          "output_type": "stream",
          "name": "stderr",
          "text": []
        },
        {
          "output_type": "stream",
          "name": "stdout",
          "text": [
            "🛠️ Epoch 233 complete. Avg Loss: 0.0024\n",
            "⚠️ No improvement. Patience left: 4\n"
          ]
        },
        {
          "output_type": "stream",
          "name": "stderr",
          "text": []
        },
        {
          "output_type": "stream",
          "name": "stdout",
          "text": [
            "🛠️ Epoch 234 complete. Avg Loss: 0.0024\n",
            "⚠️ No improvement. Patience left: 3\n"
          ]
        },
        {
          "output_type": "stream",
          "name": "stderr",
          "text": []
        },
        {
          "output_type": "stream",
          "name": "stdout",
          "text": [
            "🛠️ Epoch 235 complete. Avg Loss: 0.0022\n",
            "⚠️ No improvement. Patience left: 2\n"
          ]
        },
        {
          "output_type": "stream",
          "name": "stderr",
          "text": []
        },
        {
          "output_type": "stream",
          "name": "stdout",
          "text": [
            "🛠️ Epoch 236 complete. Avg Loss: 0.0056\n",
            "⚠️ No improvement. Patience left: 1\n"
          ]
        },
        {
          "output_type": "stream",
          "name": "stderr",
          "text": [
            "                                                                 "
          ]
        },
        {
          "output_type": "stream",
          "name": "stdout",
          "text": [
            "🛠️ Epoch 237 complete. Avg Loss: 0.0037\n",
            "⚠️ No improvement. Patience left: 0\n",
            "⏹️ Early stopping triggered.\n"
          ]
        },
        {
          "output_type": "stream",
          "name": "stderr",
          "text": [
            "\r"
          ]
        }
      ]
    },
    {
      "cell_type": "code",
      "source": [
        "model.load_state_dict(torch.load(\"models/best_model.pt\"))\n",
        "torch.save(model.base_model.state_dict(), \"models/model1.pt\")"
      ],
      "metadata": {
        "id": "fMWAyFF7vWCd"
      },
      "execution_count": 120,
      "outputs": []
    },
    {
      "cell_type": "markdown",
      "source": [
        "# TEST"
      ],
      "metadata": {
        "id": "os8zFDaJvOFG"
      }
    },
    {
      "cell_type": "code",
      "source": [
        "encoder = SentenceTransformer(modelName)\n",
        "resume = \"Master's in Computer Science\"\n",
        "jd = \"Bachelor's in Healthcare or related fields\"\n",
        "resumeEmbeddings = encoder.encode([resume])\n",
        "jdEmbeddings = encoder.encode([jd])\n",
        "similarity = cosine_similarity(resumeEmbeddings, jdEmbeddings)[0][0]\n",
        "print(\"Similarity : \", similarity)\n",
        "original_weights = encoder[0].auto_model.encoder.layer[0].attention.attn.q.weight.clone().detach()"
      ],
      "metadata": {
        "colab": {
          "base_uri": "https://localhost:8080/"
        },
        "id": "f88rtd5CtXBx",
        "outputId": "f0265bac-cc6b-4389-d70d-8b718b48a131"
      },
      "execution_count": 136,
      "outputs": [
        {
          "output_type": "stream",
          "name": "stdout",
          "text": [
            "Similarity :  0.45878172\n"
          ]
        }
      ]
    },
    {
      "cell_type": "code",
      "source": [
        "encoder = SentenceTransformer(modelName)\n",
        "encoder.load_state_dict(torch.load(\"models/model1.pt\"))\n",
        "resume = \"Master's in Computer Science\"\n",
        "jd = \"Bachelor's in Healthcare or related fields\"\n",
        "resumeEmbeddings = encoder.encode([resume])\n",
        "jdEmbeddings = encoder.encode([jd])\n",
        "similarity = cosine_similarity(resumeEmbeddings, jdEmbeddings)[0][0]\n",
        "print(\"Similarity : \", similarity)\n",
        "finetuned_weights = encoder[0].auto_model.encoder.layer[0].attention.attn.q.weight"
      ],
      "metadata": {
        "colab": {
          "base_uri": "https://localhost:8080/"
        },
        "id": "2LEB3soovP3j",
        "outputId": "037f49b3-f987-403d-8470-f2612253ace2"
      },
      "execution_count": 138,
      "outputs": [
        {
          "output_type": "stream",
          "name": "stdout",
          "text": [
            "Similarity :  0.3088787\n"
          ]
        }
      ]
    },
    {
      "cell_type": "code",
      "source": [
        "is_same = torch.equal(original_weights, finetuned_weights)\n",
        "print(\"Weights changed?\" , not is_same)"
      ],
      "metadata": {
        "colab": {
          "base_uri": "https://localhost:8080/"
        },
        "id": "pveDTDA0vUe3",
        "outputId": "09e56965-8180-43bb-b1fb-91a66b551575"
      },
      "execution_count": 139,
      "outputs": [
        {
          "output_type": "stream",
          "name": "stdout",
          "text": [
            "Weights changed? True\n"
          ]
        }
      ]
    }
  ],
  "metadata": {
    "kernelspec": {
      "display_name": "Python 3",
      "name": "python3"
    },
    "language_info": {
      "codemirror_mode": {
        "name": "ipython",
        "version": 3
      },
      "file_extension": ".py",
      "mimetype": "text/x-python",
      "name": "python",
      "nbconvert_exporter": "python",
      "pygments_lexer": "ipython3",
      "version": "3.11.12"
    },
    "colab": {
      "provenance": [],
      "machine_shape": "hm",
      "gpuType": "A100"
    },
    "accelerator": "GPU"
  },
  "nbformat": 4,
  "nbformat_minor": 0
}