{
  "cells": [
    {
      "cell_type": "markdown",
      "metadata": {
        "id": "A9CMk590ryHG"
      },
      "source": [
        "# Fine-Tune \"sentence-transformers/paraphrase-MiniLM-L3-v2\" Sentence Transformer"
      ]
    },
    {
      "cell_type": "code",
      "execution_count": 152,
      "metadata": {
        "id": "YZGVSF55ryHH"
      },
      "outputs": [],
      "source": [
        "modelName= \"sentence-transformers/paraphrase-MiniLM-L3-v2\""
      ]
    },
    {
      "cell_type": "code",
      "execution_count": 153,
      "metadata": {
        "id": "1OizvZk9ryHH"
      },
      "outputs": [],
      "source": [
        "import pandas as pd\n",
        "from sklearn.preprocessing import LabelEncoder\n",
        "from torch.utils.data import Dataset, DataLoader\n",
        "import torch\n",
        "from torch import nn, optim\n",
        "from sentence_transformers import SentenceTransformer, models, losses, InputExample, models\n",
        "from sentence_transformers.evaluation import LabelAccuracyEvaluator\n",
        "from transformers import AutoTokenizer\n",
        "from tqdm import tqdm\n",
        "from sklearn.metrics.pairwise import cosine_similarity"
      ]
    },
    {
      "cell_type": "code",
      "execution_count": 154,
      "metadata": {
        "id": "nv7Vri9lryHI"
      },
      "outputs": [],
      "source": [
        "df = pd.read_csv(\"datasets/resume.csv\")  # Replace with actual path\n",
        "df = df[[\"Resume_str\", \"Category\"]]\n",
        "\n",
        "label_encoder = LabelEncoder()\n",
        "df['label'] = label_encoder.fit_transform(df['Category'])\n",
        "\n",
        "texts = df['Resume_str'].tolist()\n",
        "labels = df['label'].tolist()"
      ]
    },
    {
      "cell_type": "code",
      "execution_count": 155,
      "metadata": {
        "id": "YOpNdExFryHI"
      },
      "outputs": [],
      "source": [
        "class ResumeDataset(Dataset):\n",
        "    def __init__(self, texts, labels, tokenizer):\n",
        "        self.tokenized = tokenizer(texts, padding=True, truncation=True, return_tensors=\"pt\")\n",
        "        self.labels = labels\n",
        "\n",
        "    def __len__(self):\n",
        "        return len(self.labels)\n",
        "\n",
        "    def __getitem__(self, idx):\n",
        "        return {\n",
        "            \"input_ids\": self.tokenized[\"input_ids\"][idx],\n",
        "            \"attention_mask\": self.tokenized[\"attention_mask\"][idx],\n",
        "            \"label\": self.labels[idx]\n",
        "        }\n",
        "\n",
        "tokenizer = AutoTokenizer.from_pretrained(\"sentence-transformers/all-mpnet-base-v2\")\n",
        "dataset = ResumeDataset(texts, labels, tokenizer)\n",
        "dataloader = DataLoader(dataset, batch_size=16, shuffle=True)"
      ]
    },
    {
      "cell_type": "code",
      "execution_count": 156,
      "metadata": {
        "id": "YgsVFhGhryHI"
      },
      "outputs": [],
      "source": [
        "# Step 1: Build SentenceTransformer-style base model\n",
        "word_embedding_model = models.Transformer(modelName)\n",
        "pooling_model = models.Pooling(word_embedding_model.get_word_embedding_dimension())\n",
        "base_model = SentenceTransformer(modules=[word_embedding_model, pooling_model])\n",
        "\n",
        "# Step 2: Define classification head\n",
        "class SentenceClassifier(nn.Module):\n",
        "    def __init__(self, base_model, num_classes):\n",
        "        super(SentenceClassifier, self).__init__()\n",
        "        self.base_model = base_model  # SentenceTransformer model\n",
        "        self.classifier = nn.Sequential(\n",
        "            nn.Linear(base_model.get_sentence_embedding_dimension(), 256),\n",
        "            nn.ReLU(),\n",
        "            nn.Dropout(0.5),\n",
        "            nn.Linear(256, num_classes)\n",
        "        )\n",
        "\n",
        "    def forward(self, features):\n",
        "        # Allow gradients for fine-tuning base model\n",
        "        embeddings = self.base_model.forward(features)['sentence_embedding']\n",
        "        return self.classifier(embeddings)\n",
        "\n",
        "# Step 3: Instantiate classifier model\n",
        "model = SentenceClassifier(base_model, num_classes=len(label_encoder.classes_))"
      ]
    },
    {
      "cell_type": "code",
      "source": [
        "import torch\n",
        "import torch.nn as nn\n",
        "import torch.optim as optim\n",
        "from tqdm import tqdm\n",
        "\n",
        "# Early Stopping Setup\n",
        "best_loss = float('inf')\n",
        "patience = 6\n",
        "counter = 0\n",
        "\n",
        "# Training config\n",
        "baseEpochs = 200\n",
        "device = torch.device('cuda' if torch.cuda.is_available else 'mps' if torch.mps.is_available else 'cpu')\n",
        "print(\"Using device:\", device)\n",
        "model = model.to(device)\n",
        "\n",
        "# Freeze base model initially\n",
        "for param in model.base_model.parameters():\n",
        "    param.requires_grad = False\n",
        "\n",
        "criterion = nn.CrossEntropyLoss()\n",
        "optimizer = optim.AdamW(model.parameters(), lr=5e-4)\n",
        "\n",
        "# Learning Rate Scheduler (optional for frozen phase)\n",
        "scheduler = optim.lr_scheduler.ReduceLROnPlateau(optimizer, mode='min', patience=3, factor=0.5, verbose=True)\n",
        "\n",
        "torch.save(model.state_dict(), \"models/best_model.pt\")\n",
        "for epoch in range(baseEpochs):\n",
        "    model.load_state_dict(torch.load(\"models/best_model.pt\"))\n",
        "    model.train()\n",
        "    total_loss = 0\n",
        "    progress_bar = tqdm(dataloader, desc=f\"Epoch {epoch+1}\", leave=False)\n",
        "\n",
        "    for batch in progress_bar:\n",
        "        input_ids = batch[\"input_ids\"].to(device)\n",
        "        attention_mask = batch[\"attention_mask\"].to(device)\n",
        "        labels = torch.tensor(batch[\"label\"]).to(device)\n",
        "\n",
        "        features = {\"input_ids\": input_ids, \"attention_mask\": attention_mask}\n",
        "        outputs = model(features)\n",
        "\n",
        "        loss = criterion(outputs, labels)\n",
        "        loss.backward()\n",
        "        optimizer.step()\n",
        "        optimizer.zero_grad()\n",
        "\n",
        "        total_loss += loss.item()\n",
        "\n",
        "    avg_loss = total_loss / len(dataloader)\n",
        "    print(f\"Epoch {epoch+1} complete. Avg Loss: {avg_loss:.4f}\")\n",
        "\n",
        "    # Step the scheduler\n",
        "    scheduler.step(avg_loss)\n",
        "\n",
        "    # Early Stopping Check\n",
        "    if avg_loss < best_loss:\n",
        "        best_loss = avg_loss\n",
        "        counter = 0\n",
        "        print(\"✅ Improvement detected — saving model\")\n",
        "        torch.save(model.state_dict(), \"models/best_model.pt\")\n",
        "    else:\n",
        "        counter += 1\n",
        "        print(f\"⚠️ No improvement. Patience left: {patience - counter}\")\n",
        "        if counter >= patience:\n",
        "            print(\"⏹️ Early stopping triggered.\")\n",
        "            break"
      ],
      "metadata": {
        "colab": {
          "base_uri": "https://localhost:8080/"
        },
        "id": "m8kxjbc72XMf",
        "outputId": "70c8e5da-402b-4a67-878f-3270b0825a92"
      },
      "execution_count": 157,
      "outputs": [
        {
          "output_type": "stream",
          "name": "stdout",
          "text": [
            "Using device: cuda\n"
          ]
        },
        {
          "output_type": "stream",
          "name": "stderr",
          "text": [
            "Epoch 1:   0%|          | 0/156 [00:00<?, ?it/s]<ipython-input-157-f8a4cc2551eb>:37: UserWarning: To copy construct from a tensor, it is recommended to use sourceTensor.clone().detach() or sourceTensor.clone().detach().requires_grad_(True), rather than torch.tensor(sourceTensor).\n",
            "  labels = torch.tensor(batch[\"label\"]).to(device)\n"
          ]
        },
        {
          "output_type": "stream",
          "name": "stdout",
          "text": [
            "Epoch 1 complete. Avg Loss: 3.1331\n",
            "✅ Improvement detected — saving model\n"
          ]
        },
        {
          "output_type": "stream",
          "name": "stderr",
          "text": []
        },
        {
          "output_type": "stream",
          "name": "stdout",
          "text": [
            "Epoch 2 complete. Avg Loss: 3.0254\n",
            "✅ Improvement detected — saving model\n"
          ]
        },
        {
          "output_type": "stream",
          "name": "stderr",
          "text": []
        },
        {
          "output_type": "stream",
          "name": "stdout",
          "text": [
            "Epoch 3 complete. Avg Loss: 2.8772\n",
            "✅ Improvement detected — saving model\n"
          ]
        },
        {
          "output_type": "stream",
          "name": "stderr",
          "text": []
        },
        {
          "output_type": "stream",
          "name": "stdout",
          "text": [
            "Epoch 4 complete. Avg Loss: 2.6860\n",
            "✅ Improvement detected — saving model\n"
          ]
        },
        {
          "output_type": "stream",
          "name": "stderr",
          "text": []
        },
        {
          "output_type": "stream",
          "name": "stdout",
          "text": [
            "Epoch 5 complete. Avg Loss: 2.5052\n",
            "✅ Improvement detected — saving model\n"
          ]
        },
        {
          "output_type": "stream",
          "name": "stderr",
          "text": []
        },
        {
          "output_type": "stream",
          "name": "stdout",
          "text": [
            "Epoch 6 complete. Avg Loss: 2.3578\n",
            "✅ Improvement detected — saving model\n"
          ]
        },
        {
          "output_type": "stream",
          "name": "stderr",
          "text": []
        },
        {
          "output_type": "stream",
          "name": "stdout",
          "text": [
            "Epoch 7 complete. Avg Loss: 2.2188\n",
            "✅ Improvement detected — saving model\n"
          ]
        },
        {
          "output_type": "stream",
          "name": "stderr",
          "text": []
        },
        {
          "output_type": "stream",
          "name": "stdout",
          "text": [
            "Epoch 8 complete. Avg Loss: 2.1409\n",
            "✅ Improvement detected — saving model\n"
          ]
        },
        {
          "output_type": "stream",
          "name": "stderr",
          "text": []
        },
        {
          "output_type": "stream",
          "name": "stdout",
          "text": [
            "Epoch 9 complete. Avg Loss: 2.0579\n",
            "✅ Improvement detected — saving model\n"
          ]
        },
        {
          "output_type": "stream",
          "name": "stderr",
          "text": []
        },
        {
          "output_type": "stream",
          "name": "stdout",
          "text": [
            "Epoch 10 complete. Avg Loss: 1.9896\n",
            "✅ Improvement detected — saving model\n"
          ]
        },
        {
          "output_type": "stream",
          "name": "stderr",
          "text": []
        },
        {
          "output_type": "stream",
          "name": "stdout",
          "text": [
            "Epoch 11 complete. Avg Loss: 1.9407\n",
            "✅ Improvement detected — saving model\n"
          ]
        },
        {
          "output_type": "stream",
          "name": "stderr",
          "text": []
        },
        {
          "output_type": "stream",
          "name": "stdout",
          "text": [
            "Epoch 12 complete. Avg Loss: 1.8808\n",
            "✅ Improvement detected — saving model\n"
          ]
        },
        {
          "output_type": "stream",
          "name": "stderr",
          "text": []
        },
        {
          "output_type": "stream",
          "name": "stdout",
          "text": [
            "Epoch 13 complete. Avg Loss: 1.8279\n",
            "✅ Improvement detected — saving model\n"
          ]
        },
        {
          "output_type": "stream",
          "name": "stderr",
          "text": []
        },
        {
          "output_type": "stream",
          "name": "stdout",
          "text": [
            "Epoch 14 complete. Avg Loss: 1.7950\n",
            "✅ Improvement detected — saving model\n"
          ]
        },
        {
          "output_type": "stream",
          "name": "stderr",
          "text": []
        },
        {
          "output_type": "stream",
          "name": "stdout",
          "text": [
            "Epoch 15 complete. Avg Loss: 1.7529\n",
            "✅ Improvement detected — saving model\n"
          ]
        },
        {
          "output_type": "stream",
          "name": "stderr",
          "text": []
        },
        {
          "output_type": "stream",
          "name": "stdout",
          "text": [
            "Epoch 16 complete. Avg Loss: 1.7184\n",
            "✅ Improvement detected — saving model\n"
          ]
        },
        {
          "output_type": "stream",
          "name": "stderr",
          "text": []
        },
        {
          "output_type": "stream",
          "name": "stdout",
          "text": [
            "Epoch 17 complete. Avg Loss: 1.6709\n",
            "✅ Improvement detected — saving model\n"
          ]
        },
        {
          "output_type": "stream",
          "name": "stderr",
          "text": []
        },
        {
          "output_type": "stream",
          "name": "stdout",
          "text": [
            "Epoch 18 complete. Avg Loss: 1.6546\n",
            "✅ Improvement detected — saving model\n"
          ]
        },
        {
          "output_type": "stream",
          "name": "stderr",
          "text": []
        },
        {
          "output_type": "stream",
          "name": "stdout",
          "text": [
            "Epoch 19 complete. Avg Loss: 1.6297\n",
            "✅ Improvement detected — saving model\n"
          ]
        },
        {
          "output_type": "stream",
          "name": "stderr",
          "text": []
        },
        {
          "output_type": "stream",
          "name": "stdout",
          "text": [
            "Epoch 20 complete. Avg Loss: 1.5981\n",
            "✅ Improvement detected — saving model\n"
          ]
        },
        {
          "output_type": "stream",
          "name": "stderr",
          "text": []
        },
        {
          "output_type": "stream",
          "name": "stdout",
          "text": [
            "Epoch 21 complete. Avg Loss: 1.5661\n",
            "✅ Improvement detected — saving model\n"
          ]
        },
        {
          "output_type": "stream",
          "name": "stderr",
          "text": []
        },
        {
          "output_type": "stream",
          "name": "stdout",
          "text": [
            "Epoch 22 complete. Avg Loss: 1.5523\n",
            "✅ Improvement detected — saving model\n"
          ]
        },
        {
          "output_type": "stream",
          "name": "stderr",
          "text": []
        },
        {
          "output_type": "stream",
          "name": "stdout",
          "text": [
            "Epoch 23 complete. Avg Loss: 1.5400\n",
            "✅ Improvement detected — saving model\n"
          ]
        },
        {
          "output_type": "stream",
          "name": "stderr",
          "text": []
        },
        {
          "output_type": "stream",
          "name": "stdout",
          "text": [
            "Epoch 24 complete. Avg Loss: 1.4940\n",
            "✅ Improvement detected — saving model\n"
          ]
        },
        {
          "output_type": "stream",
          "name": "stderr",
          "text": []
        },
        {
          "output_type": "stream",
          "name": "stdout",
          "text": [
            "Epoch 25 complete. Avg Loss: 1.4840\n",
            "✅ Improvement detected — saving model\n"
          ]
        },
        {
          "output_type": "stream",
          "name": "stderr",
          "text": []
        },
        {
          "output_type": "stream",
          "name": "stdout",
          "text": [
            "Epoch 26 complete. Avg Loss: 1.4770\n",
            "✅ Improvement detected — saving model\n"
          ]
        },
        {
          "output_type": "stream",
          "name": "stderr",
          "text": []
        },
        {
          "output_type": "stream",
          "name": "stdout",
          "text": [
            "Epoch 27 complete. Avg Loss: 1.4532\n",
            "✅ Improvement detected — saving model\n"
          ]
        },
        {
          "output_type": "stream",
          "name": "stderr",
          "text": []
        },
        {
          "output_type": "stream",
          "name": "stdout",
          "text": [
            "Epoch 28 complete. Avg Loss: 1.4271\n",
            "✅ Improvement detected — saving model\n"
          ]
        },
        {
          "output_type": "stream",
          "name": "stderr",
          "text": []
        },
        {
          "output_type": "stream",
          "name": "stdout",
          "text": [
            "Epoch 29 complete. Avg Loss: 1.4119\n",
            "✅ Improvement detected — saving model\n"
          ]
        },
        {
          "output_type": "stream",
          "name": "stderr",
          "text": []
        },
        {
          "output_type": "stream",
          "name": "stdout",
          "text": [
            "Epoch 30 complete. Avg Loss: 1.4054\n",
            "✅ Improvement detected — saving model\n"
          ]
        },
        {
          "output_type": "stream",
          "name": "stderr",
          "text": []
        },
        {
          "output_type": "stream",
          "name": "stdout",
          "text": [
            "Epoch 31 complete. Avg Loss: 1.3969\n",
            "✅ Improvement detected — saving model\n"
          ]
        },
        {
          "output_type": "stream",
          "name": "stderr",
          "text": []
        },
        {
          "output_type": "stream",
          "name": "stdout",
          "text": [
            "Epoch 32 complete. Avg Loss: 1.3549\n",
            "✅ Improvement detected — saving model\n"
          ]
        },
        {
          "output_type": "stream",
          "name": "stderr",
          "text": []
        },
        {
          "output_type": "stream",
          "name": "stdout",
          "text": [
            "Epoch 33 complete. Avg Loss: 1.3389\n",
            "✅ Improvement detected — saving model\n"
          ]
        },
        {
          "output_type": "stream",
          "name": "stderr",
          "text": []
        },
        {
          "output_type": "stream",
          "name": "stdout",
          "text": [
            "Epoch 34 complete. Avg Loss: 1.3322\n",
            "✅ Improvement detected — saving model\n"
          ]
        },
        {
          "output_type": "stream",
          "name": "stderr",
          "text": []
        },
        {
          "output_type": "stream",
          "name": "stdout",
          "text": [
            "Epoch 35 complete. Avg Loss: 1.3178\n",
            "✅ Improvement detected — saving model\n"
          ]
        },
        {
          "output_type": "stream",
          "name": "stderr",
          "text": []
        },
        {
          "output_type": "stream",
          "name": "stdout",
          "text": [
            "Epoch 36 complete. Avg Loss: 1.3169\n",
            "✅ Improvement detected — saving model\n"
          ]
        },
        {
          "output_type": "stream",
          "name": "stderr",
          "text": []
        },
        {
          "output_type": "stream",
          "name": "stdout",
          "text": [
            "Epoch 37 complete. Avg Loss: 1.3072\n",
            "✅ Improvement detected — saving model\n"
          ]
        },
        {
          "output_type": "stream",
          "name": "stderr",
          "text": []
        },
        {
          "output_type": "stream",
          "name": "stdout",
          "text": [
            "Epoch 38 complete. Avg Loss: 1.2825\n",
            "✅ Improvement detected — saving model\n"
          ]
        },
        {
          "output_type": "stream",
          "name": "stderr",
          "text": []
        },
        {
          "output_type": "stream",
          "name": "stdout",
          "text": [
            "Epoch 39 complete. Avg Loss: 1.2527\n",
            "✅ Improvement detected — saving model\n"
          ]
        },
        {
          "output_type": "stream",
          "name": "stderr",
          "text": []
        },
        {
          "output_type": "stream",
          "name": "stdout",
          "text": [
            "Epoch 40 complete. Avg Loss: 1.2541\n",
            "⚠️ No improvement. Patience left: 5\n"
          ]
        },
        {
          "output_type": "stream",
          "name": "stderr",
          "text": []
        },
        {
          "output_type": "stream",
          "name": "stdout",
          "text": [
            "Epoch 41 complete. Avg Loss: 1.2560\n",
            "⚠️ No improvement. Patience left: 4\n"
          ]
        },
        {
          "output_type": "stream",
          "name": "stderr",
          "text": []
        },
        {
          "output_type": "stream",
          "name": "stdout",
          "text": [
            "Epoch 42 complete. Avg Loss: 1.2557\n",
            "⚠️ No improvement. Patience left: 3\n"
          ]
        },
        {
          "output_type": "stream",
          "name": "stderr",
          "text": []
        },
        {
          "output_type": "stream",
          "name": "stdout",
          "text": [
            "Epoch 43 complete. Avg Loss: 1.2504\n",
            "✅ Improvement detected — saving model\n"
          ]
        },
        {
          "output_type": "stream",
          "name": "stderr",
          "text": []
        },
        {
          "output_type": "stream",
          "name": "stdout",
          "text": [
            "Epoch 44 complete. Avg Loss: 1.2454\n",
            "✅ Improvement detected — saving model\n"
          ]
        },
        {
          "output_type": "stream",
          "name": "stderr",
          "text": []
        },
        {
          "output_type": "stream",
          "name": "stdout",
          "text": [
            "Epoch 45 complete. Avg Loss: 1.2170\n",
            "✅ Improvement detected — saving model\n"
          ]
        },
        {
          "output_type": "stream",
          "name": "stderr",
          "text": []
        },
        {
          "output_type": "stream",
          "name": "stdout",
          "text": [
            "Epoch 46 complete. Avg Loss: 1.2457\n",
            "⚠️ No improvement. Patience left: 5\n"
          ]
        },
        {
          "output_type": "stream",
          "name": "stderr",
          "text": []
        },
        {
          "output_type": "stream",
          "name": "stdout",
          "text": [
            "Epoch 47 complete. Avg Loss: 1.2229\n",
            "⚠️ No improvement. Patience left: 4\n"
          ]
        },
        {
          "output_type": "stream",
          "name": "stderr",
          "text": []
        },
        {
          "output_type": "stream",
          "name": "stdout",
          "text": [
            "Epoch 48 complete. Avg Loss: 1.2343\n",
            "⚠️ No improvement. Patience left: 3\n"
          ]
        },
        {
          "output_type": "stream",
          "name": "stderr",
          "text": []
        },
        {
          "output_type": "stream",
          "name": "stdout",
          "text": [
            "Epoch 49 complete. Avg Loss: 1.2478\n",
            "⚠️ No improvement. Patience left: 2\n"
          ]
        },
        {
          "output_type": "stream",
          "name": "stderr",
          "text": []
        },
        {
          "output_type": "stream",
          "name": "stdout",
          "text": [
            "Epoch 50 complete. Avg Loss: 1.2177\n",
            "⚠️ No improvement. Patience left: 1\n"
          ]
        },
        {
          "output_type": "stream",
          "name": "stderr",
          "text": []
        },
        {
          "output_type": "stream",
          "name": "stdout",
          "text": [
            "Epoch 51 complete. Avg Loss: 1.1972\n",
            "✅ Improvement detected — saving model\n"
          ]
        },
        {
          "output_type": "stream",
          "name": "stderr",
          "text": []
        },
        {
          "output_type": "stream",
          "name": "stdout",
          "text": [
            "Epoch 52 complete. Avg Loss: 1.1877\n",
            "✅ Improvement detected — saving model\n"
          ]
        },
        {
          "output_type": "stream",
          "name": "stderr",
          "text": []
        },
        {
          "output_type": "stream",
          "name": "stdout",
          "text": [
            "Epoch 53 complete. Avg Loss: 1.1874\n",
            "✅ Improvement detected — saving model\n"
          ]
        },
        {
          "output_type": "stream",
          "name": "stderr",
          "text": []
        },
        {
          "output_type": "stream",
          "name": "stdout",
          "text": [
            "Epoch 54 complete. Avg Loss: 1.1764\n",
            "✅ Improvement detected — saving model\n"
          ]
        },
        {
          "output_type": "stream",
          "name": "stderr",
          "text": []
        },
        {
          "output_type": "stream",
          "name": "stdout",
          "text": [
            "Epoch 55 complete. Avg Loss: 1.1860\n",
            "⚠️ No improvement. Patience left: 5\n"
          ]
        },
        {
          "output_type": "stream",
          "name": "stderr",
          "text": []
        },
        {
          "output_type": "stream",
          "name": "stdout",
          "text": [
            "Epoch 56 complete. Avg Loss: 1.1720\n",
            "✅ Improvement detected — saving model\n"
          ]
        },
        {
          "output_type": "stream",
          "name": "stderr",
          "text": []
        },
        {
          "output_type": "stream",
          "name": "stdout",
          "text": [
            "Epoch 57 complete. Avg Loss: 1.1758\n",
            "⚠️ No improvement. Patience left: 5\n"
          ]
        },
        {
          "output_type": "stream",
          "name": "stderr",
          "text": []
        },
        {
          "output_type": "stream",
          "name": "stdout",
          "text": [
            "Epoch 58 complete. Avg Loss: 1.1710\n",
            "✅ Improvement detected — saving model\n"
          ]
        },
        {
          "output_type": "stream",
          "name": "stderr",
          "text": []
        },
        {
          "output_type": "stream",
          "name": "stdout",
          "text": [
            "Epoch 59 complete. Avg Loss: 1.1544\n",
            "✅ Improvement detected — saving model\n"
          ]
        },
        {
          "output_type": "stream",
          "name": "stderr",
          "text": []
        },
        {
          "output_type": "stream",
          "name": "stdout",
          "text": [
            "Epoch 60 complete. Avg Loss: 1.1637\n",
            "⚠️ No improvement. Patience left: 5\n"
          ]
        },
        {
          "output_type": "stream",
          "name": "stderr",
          "text": []
        },
        {
          "output_type": "stream",
          "name": "stdout",
          "text": [
            "Epoch 61 complete. Avg Loss: 1.1567\n",
            "⚠️ No improvement. Patience left: 4\n"
          ]
        },
        {
          "output_type": "stream",
          "name": "stderr",
          "text": []
        },
        {
          "output_type": "stream",
          "name": "stdout",
          "text": [
            "Epoch 62 complete. Avg Loss: 1.1705\n",
            "⚠️ No improvement. Patience left: 3\n"
          ]
        },
        {
          "output_type": "stream",
          "name": "stderr",
          "text": []
        },
        {
          "output_type": "stream",
          "name": "stdout",
          "text": [
            "Epoch 63 complete. Avg Loss: 1.1535\n",
            "✅ Improvement detected — saving model\n"
          ]
        },
        {
          "output_type": "stream",
          "name": "stderr",
          "text": []
        },
        {
          "output_type": "stream",
          "name": "stdout",
          "text": [
            "Epoch 64 complete. Avg Loss: 1.1481\n",
            "✅ Improvement detected — saving model\n"
          ]
        },
        {
          "output_type": "stream",
          "name": "stderr",
          "text": []
        },
        {
          "output_type": "stream",
          "name": "stdout",
          "text": [
            "Epoch 65 complete. Avg Loss: 1.1405\n",
            "✅ Improvement detected — saving model\n"
          ]
        },
        {
          "output_type": "stream",
          "name": "stderr",
          "text": []
        },
        {
          "output_type": "stream",
          "name": "stdout",
          "text": [
            "Epoch 66 complete. Avg Loss: 1.1336\n",
            "✅ Improvement detected — saving model\n"
          ]
        },
        {
          "output_type": "stream",
          "name": "stderr",
          "text": []
        },
        {
          "output_type": "stream",
          "name": "stdout",
          "text": [
            "Epoch 67 complete. Avg Loss: 1.1333\n",
            "✅ Improvement detected — saving model\n"
          ]
        },
        {
          "output_type": "stream",
          "name": "stderr",
          "text": []
        },
        {
          "output_type": "stream",
          "name": "stdout",
          "text": [
            "Epoch 68 complete. Avg Loss: 1.1217\n",
            "✅ Improvement detected — saving model\n"
          ]
        },
        {
          "output_type": "stream",
          "name": "stderr",
          "text": []
        },
        {
          "output_type": "stream",
          "name": "stdout",
          "text": [
            "Epoch 69 complete. Avg Loss: 1.1330\n",
            "⚠️ No improvement. Patience left: 5\n"
          ]
        },
        {
          "output_type": "stream",
          "name": "stderr",
          "text": []
        },
        {
          "output_type": "stream",
          "name": "stdout",
          "text": [
            "Epoch 70 complete. Avg Loss: 1.1214\n",
            "✅ Improvement detected — saving model\n"
          ]
        },
        {
          "output_type": "stream",
          "name": "stderr",
          "text": []
        },
        {
          "output_type": "stream",
          "name": "stdout",
          "text": [
            "Epoch 71 complete. Avg Loss: 1.1170\n",
            "✅ Improvement detected — saving model\n"
          ]
        },
        {
          "output_type": "stream",
          "name": "stderr",
          "text": []
        },
        {
          "output_type": "stream",
          "name": "stdout",
          "text": [
            "Epoch 72 complete. Avg Loss: 1.1095\n",
            "✅ Improvement detected — saving model\n"
          ]
        },
        {
          "output_type": "stream",
          "name": "stderr",
          "text": []
        },
        {
          "output_type": "stream",
          "name": "stdout",
          "text": [
            "Epoch 73 complete. Avg Loss: 1.1194\n",
            "⚠️ No improvement. Patience left: 5\n"
          ]
        },
        {
          "output_type": "stream",
          "name": "stderr",
          "text": []
        },
        {
          "output_type": "stream",
          "name": "stdout",
          "text": [
            "Epoch 74 complete. Avg Loss: 1.1100\n",
            "⚠️ No improvement. Patience left: 4\n"
          ]
        },
        {
          "output_type": "stream",
          "name": "stderr",
          "text": []
        },
        {
          "output_type": "stream",
          "name": "stdout",
          "text": [
            "Epoch 75 complete. Avg Loss: 1.1135\n",
            "⚠️ No improvement. Patience left: 3\n"
          ]
        },
        {
          "output_type": "stream",
          "name": "stderr",
          "text": []
        },
        {
          "output_type": "stream",
          "name": "stdout",
          "text": [
            "Epoch 76 complete. Avg Loss: 1.1123\n",
            "⚠️ No improvement. Patience left: 2\n"
          ]
        },
        {
          "output_type": "stream",
          "name": "stderr",
          "text": []
        },
        {
          "output_type": "stream",
          "name": "stdout",
          "text": [
            "Epoch 77 complete. Avg Loss: 1.1133\n",
            "⚠️ No improvement. Patience left: 1\n"
          ]
        },
        {
          "output_type": "stream",
          "name": "stderr",
          "text": []
        },
        {
          "output_type": "stream",
          "name": "stdout",
          "text": [
            "Epoch 78 complete. Avg Loss: 1.0986\n",
            "✅ Improvement detected — saving model\n"
          ]
        },
        {
          "output_type": "stream",
          "name": "stderr",
          "text": []
        },
        {
          "output_type": "stream",
          "name": "stdout",
          "text": [
            "Epoch 79 complete. Avg Loss: 1.1145\n",
            "⚠️ No improvement. Patience left: 5\n"
          ]
        },
        {
          "output_type": "stream",
          "name": "stderr",
          "text": []
        },
        {
          "output_type": "stream",
          "name": "stdout",
          "text": [
            "Epoch 80 complete. Avg Loss: 1.0803\n",
            "✅ Improvement detected — saving model\n"
          ]
        },
        {
          "output_type": "stream",
          "name": "stderr",
          "text": []
        },
        {
          "output_type": "stream",
          "name": "stdout",
          "text": [
            "Epoch 81 complete. Avg Loss: 1.0879\n",
            "⚠️ No improvement. Patience left: 5\n"
          ]
        },
        {
          "output_type": "stream",
          "name": "stderr",
          "text": []
        },
        {
          "output_type": "stream",
          "name": "stdout",
          "text": [
            "Epoch 82 complete. Avg Loss: 1.0824\n",
            "⚠️ No improvement. Patience left: 4\n"
          ]
        },
        {
          "output_type": "stream",
          "name": "stderr",
          "text": []
        },
        {
          "output_type": "stream",
          "name": "stdout",
          "text": [
            "Epoch 83 complete. Avg Loss: 1.0949\n",
            "⚠️ No improvement. Patience left: 3\n"
          ]
        },
        {
          "output_type": "stream",
          "name": "stderr",
          "text": []
        },
        {
          "output_type": "stream",
          "name": "stdout",
          "text": [
            "Epoch 84 complete. Avg Loss: 1.1000\n",
            "⚠️ No improvement. Patience left: 2\n"
          ]
        },
        {
          "output_type": "stream",
          "name": "stderr",
          "text": []
        },
        {
          "output_type": "stream",
          "name": "stdout",
          "text": [
            "Epoch 85 complete. Avg Loss: 1.0752\n",
            "✅ Improvement detected — saving model\n"
          ]
        },
        {
          "output_type": "stream",
          "name": "stderr",
          "text": []
        },
        {
          "output_type": "stream",
          "name": "stdout",
          "text": [
            "Epoch 86 complete. Avg Loss: 1.0779\n",
            "⚠️ No improvement. Patience left: 5\n"
          ]
        },
        {
          "output_type": "stream",
          "name": "stderr",
          "text": []
        },
        {
          "output_type": "stream",
          "name": "stdout",
          "text": [
            "Epoch 87 complete. Avg Loss: 1.0872\n",
            "⚠️ No improvement. Patience left: 4\n"
          ]
        },
        {
          "output_type": "stream",
          "name": "stderr",
          "text": []
        },
        {
          "output_type": "stream",
          "name": "stdout",
          "text": [
            "Epoch 88 complete. Avg Loss: 1.0792\n",
            "⚠️ No improvement. Patience left: 3\n"
          ]
        },
        {
          "output_type": "stream",
          "name": "stderr",
          "text": []
        },
        {
          "output_type": "stream",
          "name": "stdout",
          "text": [
            "Epoch 89 complete. Avg Loss: 1.0928\n",
            "⚠️ No improvement. Patience left: 2\n"
          ]
        },
        {
          "output_type": "stream",
          "name": "stderr",
          "text": []
        },
        {
          "output_type": "stream",
          "name": "stdout",
          "text": [
            "Epoch 90 complete. Avg Loss: 1.0853\n",
            "⚠️ No improvement. Patience left: 1\n"
          ]
        },
        {
          "output_type": "stream",
          "name": "stderr",
          "text": [
            "                                                           "
          ]
        },
        {
          "output_type": "stream",
          "name": "stdout",
          "text": [
            "Epoch 91 complete. Avg Loss: 1.0804\n",
            "⚠️ No improvement. Patience left: 0\n",
            "⏹️ Early stopping triggered.\n"
          ]
        },
        {
          "output_type": "stream",
          "name": "stderr",
          "text": [
            "\r"
          ]
        }
      ]
    },
    {
      "cell_type": "code",
      "source": [
        "tuneEpochs = 20\n",
        "\n",
        "# 🔓 Unfreeze base model\n",
        "for param in model.base_model.parameters():\n",
        "    param.requires_grad = True\n",
        "\n",
        "# 🔁 New optimizer & scheduler for fine-tuning\n",
        "optimizer = optim.AdamW(model.parameters(), lr=2e-5)\n",
        "scheduler = optim.lr_scheduler.ReduceLROnPlateau(optimizer, mode='min', patience=3, factor=0.5, verbose=True)\n",
        "\n",
        "# Early stopping state\n",
        "tune_best_loss = float('inf')\n",
        "tune_counter = 0\n",
        "tune_patience = 6\n",
        "\n",
        "for epoch in range(baseEpochs, baseEpochs + tuneEpochs):\n",
        "    model.load_state_dict(torch.load(\"models/best_model.pt\"))\n",
        "    model.train()\n",
        "    total_loss = 0\n",
        "    progress_bar = tqdm(dataloader, desc=f\"Tune Epoch {epoch+1}\", leave=False)\n",
        "\n",
        "    for batch in progress_bar:\n",
        "        input_ids = batch[\"input_ids\"].to(device)\n",
        "        attention_mask = batch[\"attention_mask\"].to(device)\n",
        "        labels = torch.tensor(batch[\"label\"]).to(device)\n",
        "\n",
        "        features = {\"input_ids\": input_ids, \"attention_mask\": attention_mask}\n",
        "        outputs = model(features)\n",
        "\n",
        "        loss = criterion(outputs, labels)\n",
        "        loss.backward()\n",
        "        optimizer.step()\n",
        "        optimizer.zero_grad()\n",
        "        total_loss += loss.item()\n",
        "\n",
        "    avg_loss = total_loss / len(dataloader)\n",
        "    print(f\"🛠️ Epoch {epoch+1} complete. Avg Loss: {avg_loss:.4f}\")\n",
        "\n",
        "    scheduler.step(avg_loss)\n",
        "\n",
        "    # Early stopping\n",
        "    if avg_loss < tune_best_loss:\n",
        "        tune_best_loss = avg_loss\n",
        "        tune_counter = 0\n",
        "        print(\"✅ Improvement detected — saving model\")\n",
        "        torch.save(model.state_dict(), \"models/best_model.pt\")\n",
        "    else:\n",
        "        tune_counter += 1\n",
        "        print(f\"⚠️ No improvement. Patience left: {tune_patience - tune_counter}\")\n",
        "        if tune_counter >= tune_patience:\n",
        "            print(\"⏹️ Early stopping triggered.\")\n",
        "            break"
      ],
      "metadata": {
        "colab": {
          "base_uri": "https://localhost:8080/"
        },
        "id": "1d7QOUWe2ydN",
        "outputId": "ff1264b3-a067-497c-a990-8daebe006f41"
      },
      "execution_count": 158,
      "outputs": [
        {
          "output_type": "stream",
          "name": "stderr",
          "text": [
            "\rTune Epoch 201:   0%|          | 0/156 [00:00<?, ?it/s]<ipython-input-158-04f3c0236ff8>:25: UserWarning: To copy construct from a tensor, it is recommended to use sourceTensor.clone().detach() or sourceTensor.clone().detach().requires_grad_(True), rather than torch.tensor(sourceTensor).\n",
            "  labels = torch.tensor(batch[\"label\"]).to(device)\n"
          ]
        },
        {
          "output_type": "stream",
          "name": "stdout",
          "text": [
            "🛠️ Epoch 201 complete. Avg Loss: 1.0300\n",
            "✅ Improvement detected — saving model\n"
          ]
        },
        {
          "output_type": "stream",
          "name": "stderr",
          "text": []
        },
        {
          "output_type": "stream",
          "name": "stdout",
          "text": [
            "🛠️ Epoch 202 complete. Avg Loss: 0.7516\n",
            "✅ Improvement detected — saving model\n"
          ]
        },
        {
          "output_type": "stream",
          "name": "stderr",
          "text": []
        },
        {
          "output_type": "stream",
          "name": "stdout",
          "text": [
            "🛠️ Epoch 203 complete. Avg Loss: 0.6303\n",
            "✅ Improvement detected — saving model\n"
          ]
        },
        {
          "output_type": "stream",
          "name": "stderr",
          "text": []
        },
        {
          "output_type": "stream",
          "name": "stdout",
          "text": [
            "🛠️ Epoch 204 complete. Avg Loss: 0.5337\n",
            "✅ Improvement detected — saving model\n"
          ]
        },
        {
          "output_type": "stream",
          "name": "stderr",
          "text": []
        },
        {
          "output_type": "stream",
          "name": "stdout",
          "text": [
            "🛠️ Epoch 205 complete. Avg Loss: 0.4718\n",
            "✅ Improvement detected — saving model\n"
          ]
        },
        {
          "output_type": "stream",
          "name": "stderr",
          "text": []
        },
        {
          "output_type": "stream",
          "name": "stdout",
          "text": [
            "🛠️ Epoch 206 complete. Avg Loss: 0.3731\n",
            "✅ Improvement detected — saving model\n"
          ]
        },
        {
          "output_type": "stream",
          "name": "stderr",
          "text": []
        },
        {
          "output_type": "stream",
          "name": "stdout",
          "text": [
            "🛠️ Epoch 207 complete. Avg Loss: 0.3211\n",
            "✅ Improvement detected — saving model\n"
          ]
        },
        {
          "output_type": "stream",
          "name": "stderr",
          "text": []
        },
        {
          "output_type": "stream",
          "name": "stdout",
          "text": [
            "🛠️ Epoch 208 complete. Avg Loss: 0.2693\n",
            "✅ Improvement detected — saving model\n"
          ]
        },
        {
          "output_type": "stream",
          "name": "stderr",
          "text": []
        },
        {
          "output_type": "stream",
          "name": "stdout",
          "text": [
            "🛠️ Epoch 209 complete. Avg Loss: 0.2142\n",
            "✅ Improvement detected — saving model\n"
          ]
        },
        {
          "output_type": "stream",
          "name": "stderr",
          "text": []
        },
        {
          "output_type": "stream",
          "name": "stdout",
          "text": [
            "🛠️ Epoch 210 complete. Avg Loss: 0.1716\n",
            "✅ Improvement detected — saving model\n"
          ]
        },
        {
          "output_type": "stream",
          "name": "stderr",
          "text": []
        },
        {
          "output_type": "stream",
          "name": "stdout",
          "text": [
            "🛠️ Epoch 211 complete. Avg Loss: 0.1364\n",
            "✅ Improvement detected — saving model\n"
          ]
        },
        {
          "output_type": "stream",
          "name": "stderr",
          "text": []
        },
        {
          "output_type": "stream",
          "name": "stdout",
          "text": [
            "🛠️ Epoch 212 complete. Avg Loss: 0.1457\n",
            "⚠️ No improvement. Patience left: 5\n"
          ]
        },
        {
          "output_type": "stream",
          "name": "stderr",
          "text": []
        },
        {
          "output_type": "stream",
          "name": "stdout",
          "text": [
            "🛠️ Epoch 213 complete. Avg Loss: 0.1516\n",
            "⚠️ No improvement. Patience left: 4\n"
          ]
        },
        {
          "output_type": "stream",
          "name": "stderr",
          "text": []
        },
        {
          "output_type": "stream",
          "name": "stdout",
          "text": [
            "🛠️ Epoch 214 complete. Avg Loss: 0.1280\n",
            "✅ Improvement detected — saving model\n"
          ]
        },
        {
          "output_type": "stream",
          "name": "stderr",
          "text": []
        },
        {
          "output_type": "stream",
          "name": "stdout",
          "text": [
            "🛠️ Epoch 215 complete. Avg Loss: 0.0994\n",
            "✅ Improvement detected — saving model\n"
          ]
        },
        {
          "output_type": "stream",
          "name": "stderr",
          "text": []
        },
        {
          "output_type": "stream",
          "name": "stdout",
          "text": [
            "🛠️ Epoch 216 complete. Avg Loss: 0.1046\n",
            "⚠️ No improvement. Patience left: 5\n"
          ]
        },
        {
          "output_type": "stream",
          "name": "stderr",
          "text": []
        },
        {
          "output_type": "stream",
          "name": "stdout",
          "text": [
            "🛠️ Epoch 217 complete. Avg Loss: 0.1034\n",
            "⚠️ No improvement. Patience left: 4\n"
          ]
        },
        {
          "output_type": "stream",
          "name": "stderr",
          "text": []
        },
        {
          "output_type": "stream",
          "name": "stdout",
          "text": [
            "🛠️ Epoch 218 complete. Avg Loss: 0.1032\n",
            "⚠️ No improvement. Patience left: 3\n"
          ]
        },
        {
          "output_type": "stream",
          "name": "stderr",
          "text": []
        },
        {
          "output_type": "stream",
          "name": "stdout",
          "text": [
            "🛠️ Epoch 219 complete. Avg Loss: 0.1047\n",
            "⚠️ No improvement. Patience left: 2\n"
          ]
        },
        {
          "output_type": "stream",
          "name": "stderr",
          "text": []
        },
        {
          "output_type": "stream",
          "name": "stdout",
          "text": [
            "🛠️ Epoch 220 complete. Avg Loss: 0.0799\n",
            "✅ Improvement detected — saving model\n"
          ]
        }
      ]
    },
    {
      "cell_type": "code",
      "source": [
        "model.load_state_dict(torch.load(\"models/best_model.pt\"))\n",
        "torch.save(model.base_model.state_dict(), \"models/model2.pt\")"
      ],
      "metadata": {
        "id": "fMWAyFF7vWCd"
      },
      "execution_count": 162,
      "outputs": []
    },
    {
      "cell_type": "markdown",
      "source": [
        "# TEST"
      ],
      "metadata": {
        "id": "os8zFDaJvOFG"
      }
    },
    {
      "cell_type": "code",
      "source": [
        "encoder = SentenceTransformer(modelName)\n",
        "resume = \"Master's in Computer Science\"\n",
        "jd = \"Bachelor's in Healthcare or related fields\"\n",
        "resumeEmbeddings = encoder.encode([resume])\n",
        "jdEmbeddings = encoder.encode([jd])\n",
        "similarity = cosine_similarity(resumeEmbeddings, jdEmbeddings)[0][0]\n",
        "print(\"Similarity : \", similarity)"
      ],
      "metadata": {
        "colab": {
          "base_uri": "https://localhost:8080/"
        },
        "id": "f88rtd5CtXBx",
        "outputId": "d40fc9bf-91bb-4bb8-c44d-e1e67b9925ff"
      },
      "execution_count": 163,
      "outputs": [
        {
          "output_type": "stream",
          "name": "stdout",
          "text": [
            "Similarity :  0.2797977\n"
          ]
        }
      ]
    },
    {
      "cell_type": "code",
      "source": [
        "encoder = SentenceTransformer(modelName)\n",
        "encoder.load_state_dict(torch.load(\"models/model2.pt\"))\n",
        "resume = \"Master's in Computer Science\"\n",
        "jd = \"Bachelor's in Healthcare or related fields\"\n",
        "resumeEmbeddings = encoder.encode([resume])\n",
        "jdEmbeddings = encoder.encode([jd])\n",
        "similarity = cosine_similarity(resumeEmbeddings, jdEmbeddings)[0][0]\n",
        "print(\"Similarity : \", similarity)"
      ],
      "metadata": {
        "colab": {
          "base_uri": "https://localhost:8080/"
        },
        "id": "2LEB3soovP3j",
        "outputId": "f9820518-af0d-4ce4-81b5-02695efc027e"
      },
      "execution_count": 164,
      "outputs": [
        {
          "output_type": "stream",
          "name": "stdout",
          "text": [
            "Similarity :  0.3099702\n"
          ]
        }
      ]
    }
  ],
  "metadata": {
    "kernelspec": {
      "display_name": "Python 3",
      "name": "python3"
    },
    "language_info": {
      "codemirror_mode": {
        "name": "ipython",
        "version": 3
      },
      "file_extension": ".py",
      "mimetype": "text/x-python",
      "name": "python",
      "nbconvert_exporter": "python",
      "pygments_lexer": "ipython3",
      "version": "3.11.12"
    },
    "colab": {
      "provenance": [],
      "machine_shape": "hm",
      "gpuType": "A100"
    },
    "accelerator": "GPU"
  },
  "nbformat": 4,
  "nbformat_minor": 0
}