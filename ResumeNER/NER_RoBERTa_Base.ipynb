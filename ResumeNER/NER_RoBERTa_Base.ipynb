{
  "cells": [
    {
      "cell_type": "markdown",
      "id": "51290083",
      "metadata": {
        "id": "51290083"
      },
      "source": [
        " # NER MODEL - RoBERTa"
      ]
    },
    {
      "cell_type": "markdown",
      "id": "13608d5c",
      "metadata": {
        "id": "13608d5c"
      },
      "source": [
        "## Imports"
      ]
    },
    {
      "cell_type": "code",
      "execution_count": 3,
      "id": "IZUEE10J5Yyw",
      "metadata": {
        "id": "IZUEE10J5Yyw"
      },
      "outputs": [],
      "source": [
        "# ! pip install transformers\n",
        "# ! pip install datasets\n",
        "# ! pip install evaluate\n",
        "# ! pip install seqeval"
      ]
    },
    {
      "cell_type": "code",
      "execution_count": 4,
      "id": "aa47c4d3",
      "metadata": {
        "colab": {
          "base_uri": "https://localhost:8080/"
        },
        "id": "aa47c4d3",
        "outputId": "c052bcfe-e25e-4e10-e589-ada4d7bbf7f1"
      },
      "outputs": [
        {
          "name": "stdout",
          "output_type": "stream",
          "text": [
            "Mounted at /content/drive\n"
          ]
        }
      ],
      "source": [
        "import json\n",
        "import os\n",
        "import numpy as np\n",
        "import pandas as pd\n",
        "import datasets\n",
        "import transformers\n",
        "import evaluate\n",
        "import seqeval\n",
        "import tensorflow as tf\n",
        "import regex as re\n",
        "import matplotlib.pyplot as plt\n",
        "from google.colab import drive\n",
        "drive.mount('/content/drive')\n",
        "from google.colab import runtime"
      ]
    },
    {
      "cell_type": "markdown",
      "id": "4550af5b",
      "metadata": {
        "id": "4550af5b"
      },
      "source": [
        "## Data Preparation"
      ]
    },
    {
      "cell_type": "code",
      "execution_count": 5,
      "id": "773af2d0",
      "metadata": {
        "id": "773af2d0"
      },
      "outputs": [],
      "source": [
        "datasetFolderPath = \"/content/drive/MyDrive/ColabNotebooks/ScoreIT/Dataset/\"\n",
        "jsonFilePath = datasetFolderPath + \"ResumeDataset.json\"\n",
        "csvFilePath = datasetFolderPath + \"ResumeDataset.csv\"\n",
        "labelEncoderDecoderPath = datasetFolderPath + \"LabelEncoderDecoder.json\""
      ]
    },
    {
      "cell_type": "code",
      "execution_count": 6,
      "id": "YU-soiLY-Hzf",
      "metadata": {
        "id": "YU-soiLY-Hzf"
      },
      "outputs": [],
      "source": [
        "labelEncoderDecoder = json.load(open(labelEncoderDecoderPath))\n",
        "labelEncoder = labelEncoderDecoder['labelEncoder']\n",
        "labelDecoder = labelEncoderDecoder['labelDecoder']\n",
        "labelDecoder = {int(k): v for k, v in labelDecoder.items()}"
      ]
    },
    {
      "cell_type": "code",
      "execution_count": 7,
      "id": "HnvH8Oo8-LYc",
      "metadata": {
        "colab": {
          "base_uri": "https://localhost:8080/"
        },
        "id": "HnvH8Oo8-LYc",
        "outputId": "d4b201bc-51ab-4c74-ba0d-610d1e67d629"
      },
      "outputs": [
        {
          "data": {
            "text/plain": [
              "(73, 73)"
            ]
          },
          "execution_count": 7,
          "metadata": {},
          "output_type": "execute_result"
        }
      ],
      "source": [
        "len(labelEncoder), len(labelDecoder)"
      ]
    },
    {
      "cell_type": "code",
      "execution_count": 8,
      "id": "412d8ed2",
      "metadata": {
        "colab": {
          "base_uri": "https://localhost:8080/",
          "height": 118,
          "referenced_widgets": [
            "ab8db07f65eb489ea8b8cdbdeec3b2bd",
            "2c3b3612e9b84d2b9321d9174a23424f",
            "d03c21857a94445199914078f68e54e2",
            "7ecc0d2392e5450f97d226fb521c1aef",
            "5b6eab2866244e46a5decfe40a24c7dd",
            "cc69323ea6144aba9cd30c9c75058f17",
            "1f1ea9b5a16940c8ac306b34f49e82dd",
            "61830c4fb2af42d9abe80fde81c4aeac",
            "cf4d366e86624ee6a0d1bca370625156",
            "f53975276ef94877b7c7eb30be771803",
            "75c26271dd9b49efaba234a0c74d6b81"
          ]
        },
        "id": "412d8ed2",
        "outputId": "0b50cb76-6c8d-4543-a1d0-e231c2fb23c1"
      },
      "outputs": [
        {
          "data": {
            "application/vnd.jupyter.widget-view+json": {
              "model_id": "ab8db07f65eb489ea8b8cdbdeec3b2bd",
              "version_major": 2,
              "version_minor": 0
            },
            "text/plain": [
              "Generating train split: 0 examples [00:00, ? examples/s]"
            ]
          },
          "metadata": {},
          "output_type": "display_data"
        },
        {
          "data": {
            "text/plain": [
              "Dataset({\n",
              "    features: ['id', 'text', 'annotations', 'input', 'NER_LABELS', 'NER_TAGS'],\n",
              "    num_rows: 224\n",
              "})"
            ]
          },
          "execution_count": 8,
          "metadata": {},
          "output_type": "execute_result"
        }
      ],
      "source": [
        "dataset = datasets.Dataset.from_json(jsonFilePath)\n",
        "dataset"
      ]
    },
    {
      "cell_type": "code",
      "execution_count": 9,
      "id": "fa93cc03",
      "metadata": {
        "colab": {
          "base_uri": "https://localhost:8080/",
          "height": 301,
          "referenced_widgets": [
            "ad3f4e1fb6eb4649b6bf5d4d577b41c6",
            "5f9018286f144abc99ab701643c77805",
            "311064c747f24b6d9a45b1bf560e1791",
            "f5c06198b0a84bfa91555a611f4b0169",
            "8afe66d8c1374e1790f961ff7c22115c",
            "02d57ec7490d454dab8afe0420e51b70",
            "ccf09e59f83147d7b94b5c1a9a417932",
            "744460dbfdaa4b4c85b39857aab9eac4",
            "716b3dc52c33496c9863018c39a3f65d",
            "cde4b04d28bb4715b154d32893ab827b",
            "cb44ab24adb54493b501eda60f4718db",
            "a6538acbf1ee452980de181314562ed0",
            "8326e65f1e9444139a24f1be1c72c6f6",
            "c30c49907bfc46bf9b2a0ce663fd76bd",
            "68014863750e45569c2b0e3d2cd0caa9",
            "a9c385ac11c8427db719b9af07dea410",
            "855951fdce644aacb17f9f07dca16601",
            "7df4e9eb56024db984b85d8c16b1a15e",
            "b6e3f25521094ef28b64474ee24b36fe",
            "f705458b2b8445388744ab345d909861",
            "b3798f7752e3487786c0a13ebce9deaf",
            "27d0dfb765d341fa817962af74f8d0e7",
            "51a683621e884312bb5800b01e55413a",
            "1c35266b88e54cc0b719aa0d2ef7b09d",
            "f06c13a615ca44aaababb3ef17927209",
            "355f130d0b684163800dec57a91f9857",
            "bb28a85ff58243458dfb8c0edcb2a8bc",
            "262344c4c1e34c6bbab5bd1160af7ebb",
            "9d4b72a461cb4d39817898c35358506e",
            "9891b5983806498f980dc140e0fc7e4a",
            "ac86ae70b6cb491c847187c5caf42af0",
            "98da52a29e1d4432ba1e43f81121f4ef",
            "22992d95bc654089bb9111c53035880d",
            "67b1e98c2d74428abdea777fc7beaca5",
            "05e576ff35964f7da84a39878eff0e93",
            "58834e8d78ac4b5d9abd44336f91f18f",
            "674561dc18924b1282a163a2dcb4b7fc",
            "c6823935a17b446f9b506e64cbb36ef5",
            "7ee10b9fc725468db108f7ed4f5ac6d3",
            "37b16ec2cee0440a97d75d2dcd59c43c",
            "a1b988e569f84fbb97b9e0836d5fec7c",
            "7a7110f168c445058cd738fd0838aeda",
            "1546d4f0500545668d8a652e869b09e4",
            "d50f63adb3d54dd2bc0eac5d89edef22",
            "5cd2d2fa09c6448a99656b34e3501c98",
            "a1df2459b0e94013b038703a7ef7e5a9",
            "913d337306fb41bcb90c3b70644b50ce",
            "bdc6a3b6942a4ec190fc9f094e6b8f76",
            "4c88f8a9364941eaac14acdeaf60e28c",
            "3db75acf11324cbcae06d6d8d47a7605",
            "833657b8255b460999dd1b938bb2e51f",
            "bc0e31b1c84546ae97cce79caf8181b2",
            "1166f8e3a9294cb393e17823c2767e20",
            "f23db9752a394aedbdb29832d5cd38e1",
            "9977df4f04654019b81945f50da0d1b1"
          ]
        },
        "id": "fa93cc03",
        "outputId": "f9449604-64d8-4809-caa4-78c9e1432bd8"
      },
      "outputs": [
        {
          "name": "stderr",
          "output_type": "stream",
          "text": [
            "/usr/local/lib/python3.11/dist-packages/huggingface_hub/utils/_auth.py:94: UserWarning: \n",
            "The secret `HF_TOKEN` does not exist in your Colab secrets.\n",
            "To authenticate with the Hugging Face Hub, create a token in your settings tab (https://huggingface.co/settings/tokens), set it as secret in your Google Colab and restart your session.\n",
            "You will be able to reuse this secret in all of your notebooks.\n",
            "Please note that authentication is recommended but still optional to access public models or datasets.\n",
            "  warnings.warn(\n"
          ]
        },
        {
          "data": {
            "application/vnd.jupyter.widget-view+json": {
              "model_id": "ad3f4e1fb6eb4649b6bf5d4d577b41c6",
              "version_major": 2,
              "version_minor": 0
            },
            "text/plain": [
              "tokenizer_config.json:   0%|          | 0.00/25.0 [00:00<?, ?B/s]"
            ]
          },
          "metadata": {},
          "output_type": "display_data"
        },
        {
          "data": {
            "application/vnd.jupyter.widget-view+json": {
              "model_id": "a6538acbf1ee452980de181314562ed0",
              "version_major": 2,
              "version_minor": 0
            },
            "text/plain": [
              "vocab.json:   0%|          | 0.00/899k [00:00<?, ?B/s]"
            ]
          },
          "metadata": {},
          "output_type": "display_data"
        },
        {
          "data": {
            "application/vnd.jupyter.widget-view+json": {
              "model_id": "51a683621e884312bb5800b01e55413a",
              "version_major": 2,
              "version_minor": 0
            },
            "text/plain": [
              "merges.txt:   0%|          | 0.00/456k [00:00<?, ?B/s]"
            ]
          },
          "metadata": {},
          "output_type": "display_data"
        },
        {
          "data": {
            "application/vnd.jupyter.widget-view+json": {
              "model_id": "67b1e98c2d74428abdea777fc7beaca5",
              "version_major": 2,
              "version_minor": 0
            },
            "text/plain": [
              "tokenizer.json:   0%|          | 0.00/1.36M [00:00<?, ?B/s]"
            ]
          },
          "metadata": {},
          "output_type": "display_data"
        },
        {
          "data": {
            "application/vnd.jupyter.widget-view+json": {
              "model_id": "5cd2d2fa09c6448a99656b34e3501c98",
              "version_major": 2,
              "version_minor": 0
            },
            "text/plain": [
              "config.json:   0%|          | 0.00/481 [00:00<?, ?B/s]"
            ]
          },
          "metadata": {},
          "output_type": "display_data"
        }
      ],
      "source": [
        "modelID = 'roberta-base'\n",
        "tokenizer = transformers.RobertaTokenizerFast.from_pretrained(modelID, add_prefix_space=True)"
      ]
    },
    {
      "cell_type": "code",
      "execution_count": 10,
      "id": "480232d4",
      "metadata": {
        "id": "480232d4"
      },
      "outputs": [],
      "source": [
        "def alignLabelsWithTokens(labels, word_ids):\n",
        "    newLabels = []\n",
        "    currentWord = None\n",
        "    for wordID in word_ids:\n",
        "        if wordID is None:\n",
        "            newLabels.append(-100)\n",
        "        elif wordID != currentWord: # New Word\n",
        "            currentWord = wordID\n",
        "            newLabels.append(labels[wordID])\n",
        "        else: # Same Word\n",
        "            label = labels[wordID]\n",
        "            newLabels.append(label)\n",
        "    return newLabels"
      ]
    },
    {
      "cell_type": "code",
      "execution_count": 11,
      "id": "5f226e31",
      "metadata": {
        "id": "5f226e31"
      },
      "outputs": [],
      "source": [
        "def tokenizerFunction(dataset):\n",
        "    tokenized = tokenizer(dataset['input'], truncation=True, is_split_into_words=True, max_length=512, padding='max_length')\n",
        "    tokenized['labels'] =  alignLabelsWithTokens(dataset['NER_TAGS'], tokenized.word_ids())\n",
        "    return tokenized"
      ]
    },
    {
      "cell_type": "code",
      "execution_count": 12,
      "id": "F3jBusg7PHoZ",
      "metadata": {
        "colab": {
          "base_uri": "https://localhost:8080/",
          "height": 49,
          "referenced_widgets": [
            "1831d43651224045beb96605f31ea3e4",
            "a3ad9f92a22247358c1879d63262076f",
            "118f39cbc82746ea84899218e723f4ea",
            "9969806f54d64e348101a06e1d8f196a",
            "6574dd203b0a497c84583133e1c0f47d",
            "60cba6df435149c799050bc9ef7bdf94",
            "d044d399a48947279580742b74114280",
            "0950b04c2a46457fadbaf77490a88750",
            "88c0579107e647199bdf6632ba90a1f9",
            "a29eb18340f642408e091d20877339f7",
            "763b503a04be442cbffd6ebb429a97ef"
          ]
        },
        "id": "F3jBusg7PHoZ",
        "outputId": "98cfdbd0-c292-49c9-f1d0-9010992b7f90"
      },
      "outputs": [
        {
          "data": {
            "application/vnd.jupyter.widget-view+json": {
              "model_id": "1831d43651224045beb96605f31ea3e4",
              "version_major": 2,
              "version_minor": 0
            },
            "text/plain": [
              "Map:   0%|          | 0/224 [00:00<?, ? examples/s]"
            ]
          },
          "metadata": {},
          "output_type": "display_data"
        }
      ],
      "source": [
        "tokenizedDataset = dataset.map(tokenizerFunction, remove_columns=['id', 'input', 'NER_LABELS', 'NER_TAGS', 'text', 'annotations'])"
      ]
    },
    {
      "cell_type": "code",
      "execution_count": 13,
      "id": "864c6d04",
      "metadata": {
        "colab": {
          "base_uri": "https://localhost:8080/"
        },
        "id": "864c6d04",
        "outputId": "c18875ad-6018-4961-986b-22644667d000"
      },
      "outputs": [
        {
          "data": {
            "text/plain": [
              "Dataset({\n",
              "    features: ['input_ids', 'attention_mask', 'labels'],\n",
              "    num_rows: 224\n",
              "})"
            ]
          },
          "execution_count": 13,
          "metadata": {},
          "output_type": "execute_result"
        }
      ],
      "source": [
        "tokenizedDataset"
      ]
    },
    {
      "cell_type": "code",
      "execution_count": 14,
      "id": "2f1a3224",
      "metadata": {
        "id": "2f1a3224"
      },
      "outputs": [],
      "source": [
        "dataCollator = transformers.DataCollatorForTokenClassification(tokenizer=tokenizer, return_tensors='tf')"
      ]
    },
    {
      "cell_type": "code",
      "execution_count": 15,
      "id": "3a8655d7",
      "metadata": {
        "id": "3a8655d7"
      },
      "outputs": [],
      "source": [
        "BATCH_SIZE = 4"
      ]
    },
    {
      "cell_type": "code",
      "execution_count": 16,
      "id": "VmAOynN_PQfm",
      "metadata": {
        "id": "VmAOynN_PQfm"
      },
      "outputs": [],
      "source": [
        "tfDataset = tokenizedDataset.to_tf_dataset(\n",
        "    shuffle=True,\n",
        "    batch_size=BATCH_SIZE,\n",
        "    collate_fn=dataCollator,\n",
        ")"
      ]
    },
    {
      "cell_type": "code",
      "execution_count": 17,
      "id": "lxfILmy7aXiT",
      "metadata": {
        "id": "lxfILmy7aXiT"
      },
      "outputs": [],
      "source": [
        "trainDataset = tfDataset.take(int(len(tfDataset) * 0.9))\n",
        "remDataset = tfDataset.skip(int(len(tfDataset) * 0.9))\n",
        "valDataset = remDataset.take(int(len(remDataset) * 0.5))\n",
        "testDataset = remDataset.skip(int(len(remDataset) * 0.5))"
      ]
    },
    {
      "cell_type": "code",
      "execution_count": 18,
      "id": "ZULbRK8OaZPw",
      "metadata": {
        "colab": {
          "base_uri": "https://localhost:8080/"
        },
        "id": "ZULbRK8OaZPw",
        "outputId": "e6a7515e-6fa0-4067-90c7-3cc4d4f078c6"
      },
      "outputs": [
        {
          "data": {
            "text/plain": [
              "(50, 3, 3)"
            ]
          },
          "execution_count": 18,
          "metadata": {},
          "output_type": "execute_result"
        }
      ],
      "source": [
        "len(trainDataset), len(valDataset), len(testDataset)"
      ]
    },
    {
      "cell_type": "markdown",
      "id": "c76a9a54",
      "metadata": {
        "id": "c76a9a54"
      },
      "source": [
        "## Modeling"
      ]
    },
    {
      "cell_type": "code",
      "execution_count": 20,
      "id": "bd527ec1",
      "metadata": {
        "colab": {
          "base_uri": "https://localhost:8080/"
        },
        "id": "bd527ec1",
        "outputId": "8c4645ef-914d-4b52-a6cd-3657ea0cd49b"
      },
      "outputs": [
        {
          "name": "stderr",
          "output_type": "stream",
          "text": [
            "Some weights of the PyTorch model were not used when initializing the TF 2.0 model TFRobertaForTokenClassification: ['roberta.embeddings.position_ids']\n",
            "- This IS expected if you are initializing TFRobertaForTokenClassification from a PyTorch model trained on another task or with another architecture (e.g. initializing a TFBertForSequenceClassification model from a BertForPreTraining model).\n",
            "- This IS NOT expected if you are initializing TFRobertaForTokenClassification from a PyTorch model that you expect to be exactly identical (e.g. initializing a TFBertForSequenceClassification model from a BertForSequenceClassification model).\n",
            "Some weights or buffers of the TF 2.0 model TFRobertaForTokenClassification were not initialized from the PyTorch model and are newly initialized: ['classifier.weight', 'classifier.bias']\n",
            "You should probably TRAIN this model on a down-stream task to be able to use it for predictions and inference.\n"
          ]
        }
      ],
      "source": [
        "modelID = 'roberta-base'\n",
        "model = transformers.TFAutoModelForTokenClassification.from_pretrained(modelID, num_labels=73)"
      ]
    },
    {
      "cell_type": "code",
      "execution_count": 21,
      "id": "f07df39a",
      "metadata": {
        "colab": {
          "base_uri": "https://localhost:8080/"
        },
        "id": "f07df39a",
        "outputId": "14c5a79d-98c5-4d6b-9525-fa10eb2a5919"
      },
      "outputs": [
        {
          "name": "stdout",
          "output_type": "stream",
          "text": [
            "Model: \"tf_roberta_for_token_classification_1\"\n",
            "_________________________________________________________________\n",
            " Layer (type)                Output Shape              Param #   \n",
            "=================================================================\n",
            " roberta (TFRobertaMainLaye  multiple                  124055040 \n",
            " r)                                                              \n",
            "                                                                 \n",
            " dropout_75 (Dropout)        multiple                  0 (unused)\n",
            "                                                                 \n",
            " classifier (Dense)          multiple                  56137     \n",
            "                                                                 \n",
            "=================================================================\n",
            "Total params: 124111177 (473.45 MB)\n",
            "Trainable params: 124111177 (473.45 MB)\n",
            "Non-trainable params: 0 (0.00 Byte)\n",
            "_________________________________________________________________\n"
          ]
        }
      ],
      "source": [
        "model.summary()"
      ]
    },
    {
      "cell_type": "markdown",
      "id": "c4126207",
      "metadata": {
        "id": "c4126207"
      },
      "source": [
        "## Training"
      ]
    },
    {
      "cell_type": "code",
      "execution_count": 22,
      "id": "WRoZZ5_p58Jt",
      "metadata": {
        "id": "WRoZZ5_p58Jt"
      },
      "outputs": [],
      "source": [
        "earlyStopping = tf.keras.callbacks.EarlyStopping(monitor='val_loss', patience=6, restore_best_weights=True)"
      ]
    },
    {
      "cell_type": "code",
      "execution_count": 23,
      "id": "YnGg98KMYiFW",
      "metadata": {
        "id": "YnGg98KMYiFW"
      },
      "outputs": [],
      "source": [
        "learningRateScheduler = tf.keras.callbacks.ReduceLROnPlateau(monitor='val_loss', factor=0.5, patience=3, verbose=1)"
      ]
    },
    {
      "cell_type": "code",
      "execution_count": 24,
      "id": "ec826e20",
      "metadata": {
        "id": "ec826e20"
      },
      "outputs": [],
      "source": [
        "NUM_EPOCHS = 200\n",
        "batchesPerEpoch = len(tokenizedDataset) // BATCH_SIZE\n",
        "totalTrainSteps = batchesPerEpoch * NUM_EPOCHS\n",
        "optimizer, schedule = transformers.create_optimizer(init_lr=2e-5, num_warmup_steps=0, num_train_steps=totalTrainSteps)"
      ]
    },
    {
      "cell_type": "code",
      "execution_count": 25,
      "id": "5a32724b",
      "metadata": {
        "id": "5a32724b"
      },
      "outputs": [],
      "source": [
        "model.compile(optimizer=optimizer, metrics=['accuracy'])"
      ]
    },
    {
      "cell_type": "code",
      "execution_count": 26,
      "id": "984bca36",
      "metadata": {
        "colab": {
          "base_uri": "https://localhost:8080/"
        },
        "id": "984bca36",
        "outputId": "1f31b16b-8ffb-44e2-ad6e-3e0a05468665"
      },
      "outputs": [
        {
          "name": "stdout",
          "output_type": "stream",
          "text": [
            "Epoch 1/200\n",
            "50/50 [==============================] - 59s 318ms/step - loss: 2.6046 - accuracy: 0.3844 - val_loss: 2.4035 - val_accuracy: 0.3571 - lr: 1.9913e-05\n",
            "Epoch 2/200\n",
            "50/50 [==============================] - 11s 227ms/step - loss: 2.2865 - accuracy: 0.3949 - val_loss: 2.0913 - val_accuracy: 0.3901 - lr: 1.9823e-05\n",
            "Epoch 3/200\n",
            "50/50 [==============================] - 11s 229ms/step - loss: 2.0948 - accuracy: 0.3958 - val_loss: 1.8919 - val_accuracy: 0.3776 - lr: 1.9734e-05\n",
            "Epoch 4/200\n",
            "50/50 [==============================] - 11s 228ms/step - loss: 1.8017 - accuracy: 0.4147 - val_loss: 1.5715 - val_accuracy: 0.5000 - lr: 1.9645e-05\n",
            "Epoch 5/200\n",
            "50/50 [==============================] - 11s 223ms/step - loss: 1.6048 - accuracy: 0.4361 - val_loss: 1.3299 - val_accuracy: 0.3970 - lr: 1.9555e-05\n",
            "Epoch 6/200\n",
            "50/50 [==============================] - 11s 224ms/step - loss: 1.4874 - accuracy: 0.4422 - val_loss: 1.2800 - val_accuracy: 0.5312 - lr: 1.9466e-05\n",
            "Epoch 7/200\n",
            "50/50 [==============================] - 11s 224ms/step - loss: 1.3714 - accuracy: 0.4652 - val_loss: 1.1287 - val_accuracy: 0.5461 - lr: 1.9377e-05\n",
            "Epoch 8/200\n",
            "50/50 [==============================] - 11s 215ms/step - loss: 1.2465 - accuracy: 0.4883 - val_loss: 1.0688 - val_accuracy: 0.5057 - lr: 1.9287e-05\n",
            "Epoch 9/200\n",
            "50/50 [==============================] - 10s 209ms/step - loss: 1.2114 - accuracy: 0.4876 - val_loss: 1.1854 - val_accuracy: 0.5238 - lr: 1.9198e-05\n",
            "Epoch 10/200\n",
            "50/50 [==============================] - 11s 214ms/step - loss: 1.1131 - accuracy: 0.5057 - val_loss: 1.0423 - val_accuracy: 0.5404 - lr: 1.9109e-05\n",
            "Epoch 11/200\n",
            "50/50 [==============================] - 11s 215ms/step - loss: 1.0435 - accuracy: 0.5280 - val_loss: 0.6779 - val_accuracy: 0.6270 - lr: 1.9020e-05\n",
            "Epoch 12/200\n",
            "50/50 [==============================] - 11s 210ms/step - loss: 1.0030 - accuracy: 0.5354 - val_loss: 0.8680 - val_accuracy: 0.5928 - lr: 1.8930e-05\n",
            "Epoch 13/200\n",
            "50/50 [==============================] - 10s 209ms/step - loss: 0.9344 - accuracy: 0.5456 - val_loss: 0.9325 - val_accuracy: 0.6471 - lr: 1.8841e-05\n",
            "Epoch 14/200\n",
            "50/50 [==============================] - 11s 215ms/step - loss: 0.8469 - accuracy: 0.5690 - val_loss: 0.5789 - val_accuracy: 0.6608 - lr: 1.8752e-05\n",
            "Epoch 15/200\n",
            "50/50 [==============================] - 10s 208ms/step - loss: 0.8069 - accuracy: 0.5684 - val_loss: 0.7944 - val_accuracy: 0.6512 - lr: 1.8663e-05\n",
            "Epoch 16/200\n",
            "50/50 [==============================] - 11s 212ms/step - loss: 0.7771 - accuracy: 0.5814 - val_loss: 0.8286 - val_accuracy: 0.6326 - lr: 1.8573e-05\n",
            "Epoch 17/200\n",
            "50/50 [==============================] - 11s 214ms/step - loss: 0.7568 - accuracy: 0.5785 - val_loss: 0.5578 - val_accuracy: 0.4883 - lr: 1.8484e-05\n",
            "Epoch 18/200\n",
            "50/50 [==============================] - 10s 203ms/step - loss: 0.7112 - accuracy: 0.5949 - val_loss: 0.6552 - val_accuracy: 0.5576 - lr: 1.8395e-05\n",
            "Epoch 19/200\n",
            "50/50 [==============================] - 10s 207ms/step - loss: 0.6439 - accuracy: 0.6022 - val_loss: 0.5769 - val_accuracy: 0.5693 - lr: 1.8305e-05\n",
            "Epoch 20/200\n",
            "50/50 [==============================] - 11s 211ms/step - loss: 0.6274 - accuracy: 0.6190 - val_loss: 0.5308 - val_accuracy: 0.5641 - lr: 1.8216e-05\n",
            "Epoch 21/200\n",
            "50/50 [==============================] - 11s 211ms/step - loss: 0.5853 - accuracy: 0.6183 - val_loss: 0.4218 - val_accuracy: 0.6973 - lr: 1.8127e-05\n",
            "Epoch 22/200\n",
            "50/50 [==============================] - 11s 212ms/step - loss: 0.5404 - accuracy: 0.6274 - val_loss: 0.3243 - val_accuracy: 0.6273 - lr: 1.8037e-05\n",
            "Epoch 23/200\n",
            "50/50 [==============================] - 10s 205ms/step - loss: 0.5446 - accuracy: 0.6203 - val_loss: 0.5658 - val_accuracy: 0.6455 - lr: 1.7948e-05\n",
            "Epoch 24/200\n",
            "50/50 [==============================] - 10s 206ms/step - loss: 0.5212 - accuracy: 0.6300 - val_loss: 0.3830 - val_accuracy: 0.6204 - lr: 1.7859e-05\n",
            "Epoch 25/200\n",
            "50/50 [==============================] - 11s 211ms/step - loss: 0.4888 - accuracy: 0.6377 - val_loss: 0.2694 - val_accuracy: 0.7254 - lr: 1.7770e-05\n",
            "Epoch 26/200\n",
            "50/50 [==============================] - 10s 204ms/step - loss: 0.4391 - accuracy: 0.6460 - val_loss: 0.4171 - val_accuracy: 0.6128 - lr: 1.7680e-05\n",
            "Epoch 27/200\n",
            "50/50 [==============================] - 10s 206ms/step - loss: 0.4153 - accuracy: 0.6563 - val_loss: 0.3616 - val_accuracy: 0.4894 - lr: 1.7591e-05\n",
            "Epoch 28/200\n",
            "50/50 [==============================] - ETA: 0s - loss: 0.3982 - accuracy: 0.6501\n",
            "Epoch 28: ReduceLROnPlateau reducing learning rate to 8.750892448006198e-06.\n",
            "50/50 [==============================] - 10s 205ms/step - loss: 0.3982 - accuracy: 0.6501 - val_loss: 0.2984 - val_accuracy: 0.6263 - lr: 1.7502e-05\n",
            "Epoch 29/200\n",
            "50/50 [==============================] - 11s 213ms/step - loss: 0.3673 - accuracy: 0.6670 - val_loss: 0.2646 - val_accuracy: 0.7069 - lr: 1.7412e-05\n",
            "Epoch 30/200\n",
            "50/50 [==============================] - 11s 211ms/step - loss: 0.3763 - accuracy: 0.6529 - val_loss: 0.1898 - val_accuracy: 0.6838 - lr: 1.7323e-05\n",
            "Epoch 31/200\n",
            "50/50 [==============================] - 10s 205ms/step - loss: 0.3423 - accuracy: 0.6735 - val_loss: 0.4454 - val_accuracy: 0.6787 - lr: 1.7234e-05\n",
            "Epoch 32/200\n",
            "50/50 [==============================] - 11s 212ms/step - loss: 0.3463 - accuracy: 0.6674 - val_loss: 0.1539 - val_accuracy: 0.6896 - lr: 1.7145e-05\n",
            "Epoch 33/200\n",
            "50/50 [==============================] - 10s 203ms/step - loss: 0.3362 - accuracy: 0.6676 - val_loss: 0.1760 - val_accuracy: 0.8027 - lr: 1.7055e-05\n",
            "Epoch 34/200\n",
            "50/50 [==============================] - 10s 204ms/step - loss: 0.3071 - accuracy: 0.6687 - val_loss: 0.1818 - val_accuracy: 0.6074 - lr: 1.6966e-05\n",
            "Epoch 35/200\n",
            "50/50 [==============================] - ETA: 0s - loss: 0.3109 - accuracy: 0.6722\n",
            "Epoch 35: ReduceLROnPlateau reducing learning rate to 8.438392796961125e-06.\n",
            "50/50 [==============================] - 10s 203ms/step - loss: 0.3109 - accuracy: 0.6722 - val_loss: 0.2100 - val_accuracy: 0.6349 - lr: 1.6877e-05\n",
            "Epoch 36/200\n",
            "50/50 [==============================] - 10s 205ms/step - loss: 0.2990 - accuracy: 0.6693 - val_loss: 0.1927 - val_accuracy: 0.6875 - lr: 1.6788e-05\n",
            "Epoch 37/200\n",
            "50/50 [==============================] - 10s 210ms/step - loss: 0.2790 - accuracy: 0.6767 - val_loss: 0.1513 - val_accuracy: 0.7843 - lr: 1.6698e-05\n",
            "Epoch 38/200\n",
            "50/50 [==============================] - 11s 210ms/step - loss: 0.2777 - accuracy: 0.6862 - val_loss: 0.1084 - val_accuracy: 0.4832 - lr: 1.6609e-05\n",
            "Epoch 39/200\n",
            "50/50 [==============================] - 11s 210ms/step - loss: 0.2492 - accuracy: 0.6771 - val_loss: 0.0927 - val_accuracy: 0.6169 - lr: 1.6520e-05\n",
            "Epoch 40/200\n",
            "50/50 [==============================] - 10s 204ms/step - loss: 0.2210 - accuracy: 0.6949 - val_loss: 0.1368 - val_accuracy: 0.7090 - lr: 1.6430e-05\n",
            "Epoch 41/200\n",
            "50/50 [==============================] - 10s 202ms/step - loss: 0.2233 - accuracy: 0.7000 - val_loss: 0.1113 - val_accuracy: 0.6644 - lr: 1.6341e-05\n",
            "Epoch 42/200\n",
            "50/50 [==============================] - ETA: 0s - loss: 0.2224 - accuracy: 0.6878\n",
            "Epoch 42: ReduceLROnPlateau reducing learning rate to 8.12589223642135e-06.\n",
            "50/50 [==============================] - 10s 204ms/step - loss: 0.2224 - accuracy: 0.6878 - val_loss: 0.1616 - val_accuracy: 0.6541 - lr: 1.6252e-05\n",
            "Epoch 43/200\n",
            "50/50 [==============================] - 10s 203ms/step - loss: 0.2241 - accuracy: 0.6928 - val_loss: 0.0974 - val_accuracy: 0.8105 - lr: 1.6162e-05\n",
            "Epoch 44/200\n",
            "50/50 [==============================] - 10s 202ms/step - loss: 0.1978 - accuracy: 0.7022 - val_loss: 0.1183 - val_accuracy: 0.7887 - lr: 1.6073e-05\n",
            "Epoch 45/200\n",
            "50/50 [==============================] - ETA: 0s - loss: 0.2045 - accuracy: 0.7026\n",
            "Epoch 45: ReduceLROnPlateau reducing learning rate to 7.991963684617076e-06.\n",
            "50/50 [==============================] - 10s 203ms/step - loss: 0.2045 - accuracy: 0.7026 - val_loss: 0.2111 - val_accuracy: 0.5744 - lr: 1.5984e-05\n"
          ]
        }
      ],
      "source": [
        "history = model.fit(\n",
        "    trainDataset,\n",
        "    validation_data=valDataset,\n",
        "    epochs=NUM_EPOCHS,\n",
        "    callbacks=[earlyStopping, learningRateScheduler]\n",
        ")"
      ]
    },
    {
      "cell_type": "code",
      "execution_count": 27,
      "id": "ENPfn1-tSBx6",
      "metadata": {
        "colab": {
          "base_uri": "https://localhost:8080/",
          "height": 489
        },
        "id": "ENPfn1-tSBx6",
        "outputId": "6b08f953-92e9-4641-ab32-d066cd225832"
      },
      "outputs": [
        {
          "data": {
            "text/plain": [
              "<matplotlib.legend.Legend at 0x7952101cd9d0>"
            ]
          },
          "execution_count": 27,
          "metadata": {},
          "output_type": "execute_result"
        },
        {
          "data": {
            "image/png": "[encoded data removed]",
            "text/plain": [
              "<Figure size 640x480 with 1 Axes>"
            ]
          },
          "metadata": {},
          "output_type": "display_data"
        }
      ],
      "source": [
        "plt.plot(history.history['loss'])\n",
        "plt.plot(history.history['val_loss'])\n",
        "plt.title('Model Loss')\n",
        "plt.ylabel('Loss')\n",
        "plt.xlabel('Epoch')\n",
        "plt.legend(['Train', 'Validation'], loc='upper right')"
      ]
    },
    {
      "cell_type": "code",
      "execution_count": 28,
      "id": "i-PJozAvSELf",
      "metadata": {
        "colab": {
          "base_uri": "https://localhost:8080/",
          "height": 489
        },
        "id": "i-PJozAvSELf",
        "outputId": "b30a8e4a-fb4b-485e-95fa-6dbea303ba68"
      },
      "outputs": [
        {
          "data": {
            "text/plain": [
              "<matplotlib.legend.Legend at 0x7952114a4c90>"
            ]
          },
          "execution_count": 28,
          "metadata": {},
          "output_type": "execute_result"
        },
        {
          "data": {
            "image/png": "[encoded data removed]",
            "text/plain": [
              "<Figure size 640x480 with 1 Axes>"
            ]
          },
          "metadata": {},
          "output_type": "display_data"
        }
      ],
      "source": [
        "plt.plot(history.history['accuracy'])\n",
        "plt.plot(history.history['val_accuracy'])\n",
        "plt.title('Model Accuracy')\n",
        "plt.ylabel('Accuracy')\n",
        "plt.xlabel('Epoch')\n",
        "plt.legend(['Train', 'Validation'], loc='lower right')"
      ]
    },
    {
      "cell_type": "code",
      "execution_count": 29,
      "id": "3158c6e0",
      "metadata": {
        "id": "3158c6e0"
      },
      "outputs": [],
      "source": [
        "modelFolderPath = \"/content/drive/MyDrive/ColabNotebooks/ScoreIT/Models/\"\n",
        "model.save_pretrained(modelFolderPath + \"ResumeNERModel-RoBERTaBase\")"
      ]
    },
    {
      "cell_type": "markdown",
      "id": "ea68c2bd",
      "metadata": {
        "id": "ea68c2bd"
      },
      "source": [
        "## Testing"
      ]
    },
    {
      "cell_type": "code",
      "execution_count": 30,
      "id": "e0ec0c43",
      "metadata": {
        "colab": {
          "base_uri": "https://localhost:8080/"
        },
        "id": "e0ec0c43",
        "outputId": "367dc2b5-fc8f-4260-bc4d-83967a5f2e35"
      },
      "outputs": [
        {
          "name": "stderr",
          "output_type": "stream",
          "text": [
            "Some layers from the model checkpoint at /content/drive/MyDrive/ColabNotebooks/ScoreIT/Models/ResumeNERModel-RoBERTaBase were not used when initializing TFRobertaForTokenClassification: ['dropout_75']\n",
            "- This IS expected if you are initializing TFRobertaForTokenClassification from the checkpoint of a model trained on another task or with another architecture (e.g. initializing a BertForSequenceClassification model from a BertForPreTraining model).\n",
            "- This IS NOT expected if you are initializing TFRobertaForTokenClassification from the checkpoint of a model that you expect to be exactly identical (initializing a BertForSequenceClassification model from a BertForSequenceClassification model).\n",
            "All the layers of TFRobertaForTokenClassification were initialized from the model checkpoint at /content/drive/MyDrive/ColabNotebooks/ScoreIT/Models/ResumeNERModel-RoBERTaBase.\n",
            "If your task is similar to the task the model of the checkpoint was trained on, you can already use TFRobertaForTokenClassification for predictions without further training.\n"
          ]
        }
      ],
      "source": [
        "modelID = 'roberta-base'\n",
        "modelFolderPath = \"/content/drive/MyDrive/ColabNotebooks/ScoreIT/Models/\"\n",
        "modelPath = modelFolderPath + \"ResumeNERModel-RoBERTaBase\"\n",
        "tokenizer = transformers.RobertaTokenizerFast.from_pretrained(modelID, add_prefix_space=True)\n",
        "model = transformers.TFAutoModelForTokenClassification.from_pretrained(modelPath)"
      ]
    },
    {
      "cell_type": "code",
      "execution_count": 31,
      "id": "p5EEMO4CQE-A",
      "metadata": {
        "id": "p5EEMO4CQE-A"
      },
      "outputs": [],
      "source": [
        "def extract_tokens_from_resume(text):\n",
        "    if isinstance(text, list):\n",
        "        return\n",
        "    # Remove non-breaking spaces and normalize\n",
        "    text = text.replace(\"\\xa0\", \" \").strip()\n",
        "\n",
        "    # Split on words, numbers, and punctuation\n",
        "    tokens = re.findall(r'\\w+|[^\\w\\s]', text, re.UNICODE)\n",
        "    return tokens"
      ]
    },
    {
      "cell_type": "code",
      "execution_count": 32,
      "id": "ALr6wZCu-gzk",
      "metadata": {
        "id": "ALr6wZCu-gzk"
      },
      "outputs": [],
      "source": [
        "def getClasses(labelEncoder):\n",
        "    classes = set()\n",
        "    classes.add('O')\n",
        "    for label in labelEncoder.keys():\n",
        "        if label == 'O':\n",
        "            continue\n",
        "        l = label[2:]\n",
        "        classes.add(l)\n",
        "    classes = list(classes)\n",
        "    return classes"
      ]
    },
    {
      "cell_type": "code",
      "execution_count": 33,
      "id": "hK8y--C9-g5K",
      "metadata": {
        "id": "hK8y--C9-g5K"
      },
      "outputs": [],
      "source": [
        "def getResults(inputText, predictions, labelEncoderDecoder):\n",
        "    labelEncoder = labelEncoderDecoder['labelEncoder']\n",
        "    labelDecoder = labelEncoderDecoder['labelDecoder']\n",
        "    labelDecoder = {int(k): v for k, v in labelDecoder.items()}\n",
        "    classes = getClasses(labelEncoder)\n",
        "    results = {}\n",
        "    for label in classes:\n",
        "        results[label] = \"\"\n",
        "    for i, pred in enumerate(predictions):\n",
        "        pred = labelDecoder[pred]\n",
        "        if pred == 'O':\n",
        "            results['O'] += tokenizer.decode(inputText['input_ids'][0][i])\n",
        "        else:\n",
        "            prefix = pred[0]\n",
        "            pred = pred[2:]\n",
        "            if prefix == 'I':\n",
        "                results[pred] += tokenizer.decode(inputText['input_ids'][0][i])\n",
        "            else:\n",
        "                results[pred] = '\\n'\n",
        "                results[pred] = tokenizer.decode(inputText['input_ids'][0][i])\n",
        "    return results"
      ]
    },
    {
      "cell_type": "code",
      "execution_count": 34,
      "id": "3yKle-K3aA5G",
      "metadata": {
        "id": "3yKle-K3aA5G"
      },
      "outputs": [],
      "source": [
        "def infer(text, modelID, modelPath, labelEncoderDecoder):\n",
        "    tokenizer = transformers.RobertaTokenizerFast.from_pretrained(modelID, add_prefix_space=True)\n",
        "    model = transformers.TFAutoModelForTokenClassification.from_pretrained(modelPath)\n",
        "\n",
        "    if isinstance(text, str):\n",
        "        text = text.split(\" \")\n",
        "    inputText = tokenizer(text, is_split_into_words=True, truncation=True, padding='max_length', max_length=512, return_tensors='tf')\n",
        "\n",
        "    predictions = model(**inputText).logits\n",
        "    predictions = tf.argmax(predictions, axis=2).numpy()\n",
        "    predictions = np.squeeze(predictions)\n",
        "\n",
        "    results = getResults(inputText, predictions, labelEncoderDecoder)\n",
        "    return results"
      ]
    },
    {
      "cell_type": "code",
      "execution_count": 35,
      "id": "IVBO_uctQ59v",
      "metadata": {
        "id": "IVBO_uctQ59v"
      },
      "outputs": [],
      "source": [
        "def postprocess_resume_ner_output(raw_output):\n",
        "    processed = {}\n",
        "    multi_value_fields = {\n",
        "        'designation', 'company_name', 'technical_skills',\n",
        "        'soft-skills', 'work_year', 'achievement', 'certification',\n",
        "        'work_cities', 'languages_known'\n",
        "    }\n",
        "    for label, value in raw_output.items():\n",
        "        if not value or value.strip() == \"\":\n",
        "            continue\n",
        "\n",
        "        # Remove any stray special tokens or junk characters\n",
        "        cleaned = value.replace(\"<s>\", \"\").replace(\"</s>\", \"\").replace(\"<pad>\", \"\").strip()\n",
        "\n",
        "        # Remove excessive whitespace and punctuation artifacts\n",
        "        cleaned = \" \".join(cleaned.split())\n",
        "        cleaned = cleaned.replace(\" .\", \".\").replace(\" ,\", \",\").replace(\" :\", \":\").replace(\" %\", \"%\")\n",
        "\n",
        "        # Remove duplicate adjacent words\n",
        "        cleaned = re.sub(r'\\b(\\w+)( \\1\\b)+', r'\\1', cleaned)\n",
        "\n",
        "        # Remove excess punctuation and fix spacing\n",
        "        cleaned = re.sub(r'\\s+', ' ', cleaned)\n",
        "        cleaned = re.sub(r'[\\-\\–\\—]{2,}', '-', cleaned)\n",
        "        cleaned = re.sub(r'([,:;])\\1+', r'\\1', cleaned)\n",
        "\n",
        "        processed[label] = cleaned\n",
        "\n",
        "    return processed"
      ]
    },
    {
      "cell_type": "code",
      "execution_count": 36,
      "id": "bf07a534",
      "metadata": {
        "colab": {
          "base_uri": "https://localhost:8080/"
        },
        "id": "bf07a534",
        "outputId": "240cba5b-6e3c-4105-d1a1-4ad1413d8257"
      },
      "outputs": [
        {
          "data": {
            "text/plain": [
              "192"
            ]
          },
          "execution_count": 36,
          "metadata": {},
          "output_type": "execute_result"
        }
      ],
      "source": [
        "randomIndex = np.random.randint(1, 10)\n",
        "randomIndex *= -1\n",
        "testRecord = dataset[randomIndex]\n",
        "testInput = testRecord['text']\n",
        "testTokens = extract_tokens_from_resume(testInput)\n",
        "len(testTokens)"
      ]
    },
    {
      "cell_type": "code",
      "execution_count": 37,
      "id": "_LK3X3dV-9EB",
      "metadata": {
        "colab": {
          "base_uri": "https://localhost:8080/"
        },
        "id": "_LK3X3dV-9EB",
        "outputId": "e4a3ef4c-b431-4397-edad-566373e7ede7"
      },
      "outputs": [
        {
          "name": "stderr",
          "output_type": "stream",
          "text": [
            "Some layers from the model checkpoint at /content/drive/MyDrive/ColabNotebooks/ScoreIT/Models/ResumeNERModel-RoBERTaBase were not used when initializing TFRobertaForTokenClassification: ['dropout_75']\n",
            "- This IS expected if you are initializing TFRobertaForTokenClassification from the checkpoint of a model trained on another task or with another architecture (e.g. initializing a BertForSequenceClassification model from a BertForPreTraining model).\n",
            "- This IS NOT expected if you are initializing TFRobertaForTokenClassification from the checkpoint of a model that you expect to be exactly identical (initializing a BertForSequenceClassification model from a BertForSequenceClassification model).\n",
            "All the layers of TFRobertaForTokenClassification were initialized from the model checkpoint at /content/drive/MyDrive/ColabNotebooks/ScoreIT/Models/ResumeNERModel-RoBERTaBase.\n",
            "If your task is similar to the task the model of the checkpoint was trained on, you can already use TFRobertaForTokenClassification for predictions without further training.\n"
          ]
        }
      ],
      "source": [
        "result = infer(testTokens, modelID, modelPath, labelEncoderDecoder)\n",
        "result = postprocess_resume_ner_output(result)"
      ]
    },
    {
      "cell_type": "code",
      "execution_count": 38,
      "id": "9wcZet9N_FAY",
      "metadata": {
        "colab": {
          "base_uri": "https://localhost:8080/"
        },
        "id": "9wcZet9N_FAY",
        "outputId": "4e97d49c-3c77-460b-b6b1-3d7579304e5c"
      },
      "outputs": [
        {
          "name": "stdout",
          "output_type": "stream",
          "text": [
            "technical_skills: VMware\n",
            "planning: Design and implement availabilityscalability and performance plans for the managed service in Google Cloud Architected\n",
            "initiating_actions: ivered\n",
            "work_cities: Bengal\n",
            "O: GCPAzureAWS Accomplished Architect with of IT professional expertise with of experience on and experienced with migration of on premises to Cloud systems Work ExperienceGCPuru Karnataka and components were BigQueryCloud StorageData FusionCloud Composer Cloud Dataflow HardwareSoftware Network and Security Guided the team on using these tools and helping in deployments Education 2002 Skills IT Skills Ticketing Tools Service Now JIRA GCPRecommenderCompute EngineCloud Data FusionCloud ComposerBigQueryDatastoreCloud Deployment ManagerCloud Build Cloud FunctionsCloud IdentityCloud Load BalancingCloud Asset InventorySecurity Command CenterCloud StorageVirtual Private Cloud VPC 2 years AzureAdvisorVirtual MachinesData FactorySynapse AnalyticsCosmos DBDeployment ManagerDevOpsFunctions Serverless Compute Active DirectoryLoad BalancingSecurity ControlSecurity CenterDefenderBlob StorageVirtual Network 2 years Online Profile httpwwwlinkedincomindevendracsa Certifications and Licenses\n",
            "work_year: September 2021 to Present\n",
            "designation: Cloud Architect\n",
            "certification: Microsoft Certified Azure Solutions Architect Expert Google Cloud Certified Professional Cloud Architect\n",
            "applying_expertise: implemented to migrate analytics reporting workload from onprem to GCP\n",
            "deciding: Architect Solution decisions on the Cloud Infrastructure\n",
            "place_basic_education: Salem TN\n",
            "basic_education: BE in Electrical and Electronics Engineering\n",
            "candidate_city: uru Karnataka\n"
          ]
        }
      ],
      "source": [
        "for key, value in result.items():\n",
        "  if value == '':\n",
        "    continue\n",
        "  print(f\"{key}: {value}\")"
      ]
    },
    {
      "cell_type": "markdown",
      "id": "ced176c7",
      "metadata": {
        "id": "ced176c7"
      },
      "source": [
        "## Evaluation"
      ]
    },
    {
      "cell_type": "code",
      "execution_count": 39,
      "id": "052c3499",
      "metadata": {
        "colab": {
          "base_uri": "https://localhost:8080/",
          "height": 49,
          "referenced_widgets": [
            "dcbebf33440e496498787a95b187342f",
            "70d3e61a2a614b8a845ded2f4ce6e901",
            "971258e0076d4ce292ae6796f4c3b511",
            "41afd644921f4ca584f160ba3b78b691",
            "2dac564c25cc49c0b37b21b02b88c067",
            "a754a1155ced4cb3956c4c6b02661f0a",
            "6740fdebb7b34c63b4e51bb996ab226f",
            "47f951c194414308acc46a64148ceb9f",
            "80809b3a4c204b7091a79b3522829c80",
            "4589c6c620ae486787ac6e7157d9b4c0",
            "c8d15ebdd2c14db095dc2691a7081828"
          ]
        },
        "id": "052c3499",
        "outputId": "073249a3-6985-49e6-b509-ca51e569360d"
      },
      "outputs": [
        {
          "data": {
            "application/vnd.jupyter.widget-view+json": {
              "model_id": "dcbebf33440e496498787a95b187342f",
              "version_major": 2,
              "version_minor": 0
            },
            "text/plain": [
              "Downloading builder script:   0%|          | 0.00/6.34k [00:00<?, ?B/s]"
            ]
          },
          "metadata": {},
          "output_type": "display_data"
        }
      ],
      "source": [
        "metric = evaluate.load('seqeval')"
      ]
    },
    {
      "cell_type": "code",
      "execution_count": 40,
      "id": "0066249f",
      "metadata": {
        "id": "0066249f"
      },
      "outputs": [],
      "source": [
        "allPreds = []\n",
        "allLabels = []"
      ]
    },
    {
      "cell_type": "code",
      "execution_count": 41,
      "id": "80494498",
      "metadata": {
        "colab": {
          "base_uri": "https://localhost:8080/"
        },
        "id": "80494498",
        "outputId": "32c7f6d9-f194-49f0-abbf-e10f0ec7fbdc"
      },
      "outputs": [
        {
          "name": "stdout",
          "output_type": "stream",
          "text": [
            "1/1 [==============================] - 3s 3s/step\n",
            "1/1 [==============================] - 0s 74ms/step\n",
            "1/1 [==============================] - 0s 72ms/step\n"
          ]
        }
      ],
      "source": [
        "for batch in testDataset:\n",
        "    logits = model.predict(batch)['logits']\n",
        "    labels = batch['labels'].numpy()\n",
        "    predictions = tf.argmax(logits, axis=-1).numpy()\n",
        "    batchPred = []\n",
        "    batchLabels = []\n",
        "    for i in range(len(predictions)):\n",
        "        for j in range(len(predictions[i])):\n",
        "            if labels[i][j] != -100:\n",
        "                batchPred.append(labelDecoder[predictions[i][j]])\n",
        "                batchLabels.append(labelDecoder[labels[i][j]])\n",
        "    allPreds.append(batchPred)\n",
        "    allLabels.append(batchLabels)"
      ]
    },
    {
      "cell_type": "code",
      "execution_count": 42,
      "id": "b7961cba",
      "metadata": {
        "colab": {
          "base_uri": "https://localhost:8080/"
        },
        "id": "b7961cba",
        "outputId": "55842b19-a472-4c12-a496-0abf95125257"
      },
      "outputs": [
        {
          "data": {
            "text/plain": [
              "{'achievement': {'precision': np.float64(0.6428571428571429),\n",
              "  'recall': np.float64(0.42857142857142855),\n",
              "  'f1': np.float64(0.5142857142857143),\n",
              "  'number': np.int64(21)},\n",
              " 'adaption_to_change': {'precision': np.float64(0.75),\n",
              "  'recall': np.float64(0.6428571428571429),\n",
              "  'f1': np.float64(0.6923076923076924),\n",
              "  'number': np.int64(14)},\n",
              " 'analyzing': {'precision': np.float64(1.0),\n",
              "  'recall': np.float64(1.0),\n",
              "  'f1': np.float64(1.0),\n",
              "  'number': np.int64(2)},\n",
              " 'applying_expertise': {'precision': np.float64(0.7657657657657657),\n",
              "  'recall': np.float64(0.8018867924528302),\n",
              "  'f1': np.float64(0.783410138248848),\n",
              "  'number': np.int64(106)},\n",
              " 'basic_education': {'precision': np.float64(0.8571428571428571),\n",
              "  'recall': np.float64(0.8571428571428571),\n",
              "  'f1': np.float64(0.8571428571428571),\n",
              "  'number': np.int64(14)},\n",
              " 'birth_date': {'precision': np.float64(0.9230769230769231),\n",
              "  'recall': np.float64(0.8571428571428571),\n",
              "  'f1': np.float64(0.888888888888889),\n",
              "  'number': np.int64(14)},\n",
              " 'candidate_city': {'precision': np.float64(0.8947368421052632),\n",
              "  'recall': np.float64(0.8947368421052632),\n",
              "  'f1': np.float64(0.8947368421052632),\n",
              "  'number': np.int64(19)},\n",
              " 'certification': {'precision': np.float64(0.7272727272727273),\n",
              "  'recall': np.float64(0.6666666666666666),\n",
              "  'f1': np.float64(0.6956521739130435),\n",
              "  'number': np.int64(12)},\n",
              " 'commercial_thinking': {'precision': np.float64(1.0),\n",
              "  'recall': np.float64(0.5),\n",
              "  'f1': np.float64(0.6666666666666666),\n",
              "  'number': np.int64(2)},\n",
              " 'company_name': {'precision': np.float64(0.9390243902439024),\n",
              "  'recall': np.float64(0.9625),\n",
              "  'f1': np.float64(0.9506172839506174),\n",
              "  'number': np.int64(80)},\n",
              " 'creative': {'precision': np.float64(0.0),\n",
              "  'recall': np.float64(0.0),\n",
              "  'f1': np.float64(0.0),\n",
              "  'number': np.int64(5)},\n",
              " 'designation': {'precision': np.float64(0.975),\n",
              "  'recall': np.float64(1.0),\n",
              "  'f1': np.float64(0.9873417721518987),\n",
              "  'number': np.int64(39)},\n",
              " 'higher_education': {'precision': np.float64(1.0),\n",
              "  'recall': np.float64(0.75),\n",
              "  'f1': np.float64(0.8571428571428571),\n",
              "  'number': np.int64(4)},\n",
              " 'influencing': {'precision': np.float64(0.8333333333333334),\n",
              "  'recall': np.float64(1.0),\n",
              "  'f1': np.float64(0.9090909090909091),\n",
              "  'number': np.int64(5)},\n",
              " 'initiating_actions': {'precision': np.float64(1.0),\n",
              "  'recall': np.float64(0.8),\n",
              "  'f1': np.float64(0.888888888888889),\n",
              "  'number': np.int64(10)},\n",
              " 'innovative': {'precision': np.float64(0.375),\n",
              "  'recall': np.float64(0.75),\n",
              "  'f1': np.float64(0.5),\n",
              "  'number': np.int64(4)},\n",
              " 'languages_known': {'precision': np.float64(1.0),\n",
              "  'recall': np.float64(1.0),\n",
              "  'f1': np.float64(1.0),\n",
              "  'number': np.int64(6)},\n",
              " 'learning': {'precision': np.float64(0.5),\n",
              "  'recall': np.float64(0.2727272727272727),\n",
              "  'f1': np.float64(0.3529411764705882),\n",
              "  'number': np.int64(11)},\n",
              " 'organizing': {'precision': np.float64(0.45454545454545453),\n",
              "  'recall': np.float64(0.38461538461538464),\n",
              "  'f1': np.float64(0.41666666666666663),\n",
              "  'number': np.int64(13)},\n",
              " 'persuading': {'precision': np.float64(0.3333333333333333),\n",
              "  'recall': np.float64(0.1111111111111111),\n",
              "  'f1': np.float64(0.16666666666666666),\n",
              "  'number': np.int64(9)},\n",
              " 'place_basic_education': {'precision': np.float64(0.9411764705882353),\n",
              "  'recall': np.float64(0.8888888888888888),\n",
              "  'f1': np.float64(0.9142857142857143),\n",
              "  'number': np.int64(18)},\n",
              " 'place_higher_education': {'precision': np.float64(0.75),\n",
              "  'recall': np.float64(0.6),\n",
              "  'f1': np.float64(0.6666666666666665),\n",
              "  'number': np.int64(5)},\n",
              " 'planning': {'precision': np.float64(1.0),\n",
              "  'recall': np.float64(0.5),\n",
              "  'f1': np.float64(0.6666666666666666),\n",
              "  'number': np.int64(2)},\n",
              " 'researching': {'precision': np.float64(0.6666666666666666),\n",
              "  'recall': np.float64(0.4),\n",
              "  'f1': np.float64(0.5),\n",
              "  'number': np.int64(5)},\n",
              " 'soft-skills': {'precision': np.float64(0.0),\n",
              "  'recall': np.float64(0.0),\n",
              "  'f1': np.float64(0.0),\n",
              "  'number': np.int64(2)},\n",
              " 'supervising': {'precision': np.float64(0.625),\n",
              "  'recall': np.float64(0.5555555555555556),\n",
              "  'f1': np.float64(0.5882352941176471),\n",
              "  'number': np.int64(9)},\n",
              " 'technical_skills': {'precision': np.float64(0.8125),\n",
              "  'recall': np.float64(0.8455284552845529),\n",
              "  'f1': np.float64(0.8286852589641434),\n",
              "  'number': np.int64(123)},\n",
              " 'work_cities': {'precision': np.float64(1.0),\n",
              "  'recall': np.float64(1.0),\n",
              "  'f1': np.float64(1.0),\n",
              "  'number': np.int64(39)},\n",
              " 'work_with_people': {'precision': np.float64(0.6666666666666666),\n",
              "  'recall': np.float64(0.8571428571428571),\n",
              "  'f1': np.float64(0.75),\n",
              "  'number': np.int64(7)},\n",
              " 'work_year': {'precision': np.float64(0.8611111111111112),\n",
              "  'recall': np.float64(0.8611111111111112),\n",
              "  'f1': np.float64(0.8611111111111112),\n",
              "  'number': np.int64(36)},\n",
              " 'overall_precision': np.float64(0.8244766505636071),\n",
              " 'overall_recall': np.float64(0.8050314465408805),\n",
              " 'overall_f1': np.float64(0.8146380270485284),\n",
              " 'overall_accuracy': 0.9579310344827586}"
            ]
          },
          "execution_count": 42,
          "metadata": {},
          "output_type": "execute_result"
        }
      ],
      "source": [
        "metric.compute(predictions=allPreds, references=allLabels)"
      ]
    },
    {
      "cell_type": "code",
      "execution_count": null,
      "id": "343d1896",
      "metadata": {
        "id": "343d1896"
      },
      "outputs": [],
      "source": [
        "runtime.unassign()"
      ]
    }
  ],
  "metadata": {
    "accelerator": "GPU",
    "colab": {
      "gpuType": "L4",
      "machine_shape": "hm",
      "provenance": []
    },
    "kernelspec": {
      "display_name": "Python 3",
      "name": "python3"
    },
    "language_info": {
      "codemirror_mode": {
        "name": "ipython",
        "version": 3
      },
      "file_extension": ".py",
      "mimetype": "text/x-python",
      "name": "python",
      "nbconvert_exporter": "python",
      "pygments_lexer": "ipython3",
      "version": "3.11.12"
    },
    "widgets": {
      "application/vnd.jupyter.widget-state+json": {
        "02d57ec7490d454dab8afe0420e51b70": {
          "model_module": "@jupyter-widgets/base",
          "model_module_version": "1.2.0",
          "model_name": "LayoutModel",
          "state": {
            "_model_module": "@jupyter-widgets/base",
            "_model_module_version": "1.2.0",
            "_model_name": "LayoutModel",
            "_view_count": null,
            "_view_module": "@jupyter-widgets/base",
            "_view_module_version": "1.2.0",
            "_view_name": "LayoutView",
            "align_content": null,
            "align_items": null,
            "align_self": null,
            "border": null,
            "bottom": null,
            "display": null,
            "flex": null,
            "flex_flow": null,
            "grid_area": null,
            "grid_auto_columns": null,
            "grid_auto_flow": null,
            "grid_auto_rows": null,
            "grid_column": null,
            "grid_gap": null,
            "grid_row": null,
            "grid_template_areas": null,
            "grid_template_columns": null,
            "grid_template_rows": null,
            "height": null,
            "justify_content": null,
            "justify_items": null,
            "left": null,
            "margin": null,
            "max_height": null,
            "max_width": null,
            "min_height": null,
            "min_width": null,
            "object_fit": null,
            "object_position": null,
            "order": null,
            "overflow": null,
            "overflow_x": null,
            "overflow_y": null,
            "padding": null,
            "right": null,
            "top": null,
            "visibility": null,
            "width": null
          }
        },
        "05e576ff35964f7da84a39878eff0e93": {
          "model_module": "@jupyter-widgets/controls",
          "model_module_version": "1.5.0",
          "model_name": "HTMLModel",
          "state": {
            "_dom_classes": [],
            "_model_module": "@jupyter-widgets/controls",
            "_model_module_version": "1.5.0",
            "_model_name": "HTMLModel",
            "_view_count": null,
            "_view_module": "@jupyter-widgets/controls",
            "_view_module_version": "1.5.0",
            "_view_name": "HTMLView",
            "description": "",
            "description_tooltip": null,
            "layout": "IPY_MODEL_7ee10b9fc725468db108f7ed4f5ac6d3",
            "placeholder": "​",
            "style": "IPY_MODEL_37b16ec2cee0440a97d75d2dcd59c43c",
            "value": "tokenizer.json: 100%"
          }
        },
        "0950b04c2a46457fadbaf77490a88750": {
          "model_module": "@jupyter-widgets/base",
          "model_module_version": "1.2.0",
          "model_name": "LayoutModel",
          "state": {
            "_model_module": "@jupyter-widgets/base",
            "_model_module_version": "1.2.0",
            "_model_name": "LayoutModel",
            "_view_count": null,
            "_view_module": "@jupyter-widgets/base",
            "_view_module_version": "1.2.0",
            "_view_name": "LayoutView",
            "align_content": null,
            "align_items": null,
            "align_self": null,
            "border": null,
            "bottom": null,
            "display": null,
            "flex": null,
            "flex_flow": null,
            "grid_area": null,
            "grid_auto_columns": null,
            "grid_auto_flow": null,
            "grid_auto_rows": null,
            "grid_column": null,
            "grid_gap": null,
            "grid_row": null,
            "grid_template_areas": null,
            "grid_template_columns": null,
            "grid_template_rows": null,
            "height": null,
            "justify_content": null,
            "justify_items": null,
            "left": null,
            "margin": null,
            "max_height": null,
            "max_width": null,
            "min_height": null,
            "min_width": null,
            "object_fit": null,
            "object_position": null,
            "order": null,
            "overflow": null,
            "overflow_x": null,
            "overflow_y": null,
            "padding": null,
            "right": null,
            "top": null,
            "visibility": null,
            "width": null
          }
        },
        "1166f8e3a9294cb393e17823c2767e20": {
          "model_module": "@jupyter-widgets/controls",
          "model_module_version": "1.5.0",
          "model_name": "ProgressStyleModel",
          "state": {
            "_model_module": "@jupyter-widgets/controls",
            "_model_module_version": "1.5.0",
            "_model_name": "ProgressStyleModel",
            "_view_count": null,
            "_view_module": "@jupyter-widgets/base",
            "_view_module_version": "1.2.0",
            "_view_name": "StyleView",
            "bar_color": null,
            "description_width": ""
          }
        },
        "118f39cbc82746ea84899218e723f4ea": {
          "model_module": "@jupyter-widgets/controls",
          "model_module_version": "1.5.0",
          "model_name": "FloatProgressModel",
          "state": {
            "_dom_classes": [],
            "_model_module": "@jupyter-widgets/controls",
            "_model_module_version": "1.5.0",
            "_model_name": "FloatProgressModel",
            "_view_count": null,
            "_view_module": "@jupyter-widgets/controls",
            "_view_module_version": "1.5.0",
            "_view_name": "ProgressView",
            "bar_style": "success",
            "description": "",
            "description_tooltip": null,
            "layout": "IPY_MODEL_0950b04c2a46457fadbaf77490a88750",
            "max": 224,
            "min": 0,
            "orientation": "horizontal",
            "style": "IPY_MODEL_88c0579107e647199bdf6632ba90a1f9",
            "value": 224
          }
        },
        "1546d4f0500545668d8a652e869b09e4": {
          "model_module": "@jupyter-widgets/base",
          "model_module_version": "1.2.0",
          "model_name": "LayoutModel",
          "state": {
            "_model_module": "@jupyter-widgets/base",
            "_model_module_version": "1.2.0",
            "_model_name": "LayoutModel",
            "_view_count": null,
            "_view_module": "@jupyter-widgets/base",
            "_view_module_version": "1.2.0",
            "_view_name": "LayoutView",
            "align_content": null,
            "align_items": null,
            "align_self": null,
            "border": null,
            "bottom": null,
            "display": null,
            "flex": null,
            "flex_flow": null,
            "grid_area": null,
            "grid_auto_columns": null,
            "grid_auto_flow": null,
            "grid_auto_rows": null,
            "grid_column": null,
            "grid_gap": null,
            "grid_row": null,
            "grid_template_areas": null,
            "grid_template_columns": null,
            "grid_template_rows": null,
            "height": null,
            "justify_content": null,
            "justify_items": null,
            "left": null,
            "margin": null,
            "max_height": null,
            "max_width": null,
            "min_height": null,
            "min_width": null,
            "object_fit": null,
            "object_position": null,
            "order": null,
            "overflow": null,
            "overflow_x": null,
            "overflow_y": null,
            "padding": null,
            "right": null,
            "top": null,
            "visibility": null,
            "width": null
          }
        },
        "1831d43651224045beb96605f31ea3e4": {
          "model_module": "@jupyter-widgets/controls",
          "model_module_version": "1.5.0",
          "model_name": "HBoxModel",
          "state": {
            "_dom_classes": [],
            "_model_module": "@jupyter-widgets/controls",
            "_model_module_version": "1.5.0",
            "_model_name": "HBoxModel",
            "_view_count": null,
            "_view_module": "@jupyter-widgets/controls",
            "_view_module_version": "1.5.0",
            "_view_name": "HBoxView",
            "box_style": "",
            "children": [
              "IPY_MODEL_a3ad9f92a22247358c1879d63262076f",
              "IPY_MODEL_118f39cbc82746ea84899218e723f4ea",
              "IPY_MODEL_9969806f54d64e348101a06e1d8f196a"
            ],
            "layout": "IPY_MODEL_6574dd203b0a497c84583133e1c0f47d"
          }
        },
        "1c35266b88e54cc0b719aa0d2ef7b09d": {
          "model_module": "@jupyter-widgets/controls",
          "model_module_version": "1.5.0",
          "model_name": "HTMLModel",
          "state": {
            "_dom_classes": [],
            "_model_module": "@jupyter-widgets/controls",
            "_model_module_version": "1.5.0",
            "_model_name": "HTMLModel",
            "_view_count": null,
            "_view_module": "@jupyter-widgets/controls",
            "_view_module_version": "1.5.0",
            "_view_name": "HTMLView",
            "description": "",
            "description_tooltip": null,
            "layout": "IPY_MODEL_262344c4c1e34c6bbab5bd1160af7ebb",
            "placeholder": "​",
            "style": "IPY_MODEL_9d4b72a461cb4d39817898c35358506e",
            "value": "merges.txt: 100%"
          }
        },
        "1f1ea9b5a16940c8ac306b34f49e82dd": {
          "model_module": "@jupyter-widgets/controls",
          "model_module_version": "1.5.0",
          "model_name": "DescriptionStyleModel",
          "state": {
            "_model_module": "@jupyter-widgets/controls",
            "_model_module_version": "1.5.0",
            "_model_name": "DescriptionStyleModel",
            "_view_count": null,
            "_view_module": "@jupyter-widgets/base",
            "_view_module_version": "1.2.0",
            "_view_name": "StyleView",
            "description_width": ""
          }
        },
        "22992d95bc654089bb9111c53035880d": {
          "model_module": "@jupyter-widgets/controls",
          "model_module_version": "1.5.0",
          "model_name": "DescriptionStyleModel",
          "state": {
            "_model_module": "@jupyter-widgets/controls",
            "_model_module_version": "1.5.0",
            "_model_name": "DescriptionStyleModel",
            "_view_count": null,
            "_view_module": "@jupyter-widgets/base",
            "_view_module_version": "1.2.0",
            "_view_name": "StyleView",
            "description_width": ""
          }
        },
        "262344c4c1e34c6bbab5bd1160af7ebb": {
          "model_module": "@jupyter-widgets/base",
          "model_module_version": "1.2.0",
          "model_name": "LayoutModel",
          "state": {
            "_model_module": "@jupyter-widgets/base",
            "_model_module_version": "1.2.0",
            "_model_name": "LayoutModel",
            "_view_count": null,
            "_view_module": "@jupyter-widgets/base",
            "_view_module_version": "1.2.0",
            "_view_name": "LayoutView",
            "align_content": null,
            "align_items": null,
            "align_self": null,
            "border": null,
            "bottom": null,
            "display": null,
            "flex": null,
            "flex_flow": null,
            "grid_area": null,
            "grid_auto_columns": null,
            "grid_auto_flow": null,
            "grid_auto_rows": null,
            "grid_column": null,
            "grid_gap": null,
            "grid_row": null,
            "grid_template_areas": null,
            "grid_template_columns": null,
            "grid_template_rows": null,
            "height": null,
            "justify_content": null,
            "justify_items": null,
            "left": null,
            "margin": null,
            "max_height": null,
            "max_width": null,
            "min_height": null,
            "min_width": null,
            "object_fit": null,
            "object_position": null,
            "order": null,
            "overflow": null,
            "overflow_x": null,
            "overflow_y": null,
            "padding": null,
            "right": null,
            "top": null,
            "visibility": null,
            "width": null
          }
        },
        "27d0dfb765d341fa817962af74f8d0e7": {
          "model_module": "@jupyter-widgets/controls",
          "model_module_version": "1.5.0",
          "model_name": "DescriptionStyleModel",
          "state": {
            "_model_module": "@jupyter-widgets/controls",
            "_model_module_version": "1.5.0",
            "_model_name": "DescriptionStyleModel",
            "_view_count": null,
            "_view_module": "@jupyter-widgets/base",
            "_view_module_version": "1.2.0",
            "_view_name": "StyleView",
            "description_width": ""
          }
        },
        "2c3b3612e9b84d2b9321d9174a23424f": {
          "model_module": "@jupyter-widgets/controls",
          "model_module_version": "1.5.0",
          "model_name": "HTMLModel",
          "state": {
            "_dom_classes": [],
            "_model_module": "@jupyter-widgets/controls",
            "_model_module_version": "1.5.0",
            "_model_name": "HTMLModel",
            "_view_count": null,
            "_view_module": "@jupyter-widgets/controls",
            "_view_module_version": "1.5.0",
            "_view_name": "HTMLView",
            "description": "",
            "description_tooltip": null,
            "layout": "IPY_MODEL_cc69323ea6144aba9cd30c9c75058f17",
            "placeholder": "​",
            "style": "IPY_MODEL_1f1ea9b5a16940c8ac306b34f49e82dd",
            "value": "Generating train split: "
          }
        },
        "2dac564c25cc49c0b37b21b02b88c067": {
          "model_module": "@jupyter-widgets/base",
          "model_module_version": "1.2.0",
          "model_name": "LayoutModel",
          "state": {
            "_model_module": "@jupyter-widgets/base",
            "_model_module_version": "1.2.0",
            "_model_name": "LayoutModel",
            "_view_count": null,
            "_view_module": "@jupyter-widgets/base",
            "_view_module_version": "1.2.0",
            "_view_name": "LayoutView",
            "align_content": null,
            "align_items": null,
            "align_self": null,
            "border": null,
            "bottom": null,
            "display": null,
            "flex": null,
            "flex_flow": null,
            "grid_area": null,
            "grid_auto_columns": null,
            "grid_auto_flow": null,
            "grid_auto_rows": null,
            "grid_column": null,
            "grid_gap": null,
            "grid_row": null,
            "grid_template_areas": null,
            "grid_template_columns": null,
            "grid_template_rows": null,
            "height": null,
            "justify_content": null,
            "justify_items": null,
            "left": null,
            "margin": null,
            "max_height": null,
            "max_width": null,
            "min_height": null,
            "min_width": null,
            "object_fit": null,
            "object_position": null,
            "order": null,
            "overflow": null,
            "overflow_x": null,
            "overflow_y": null,
            "padding": null,
            "right": null,
            "top": null,
            "visibility": null,
            "width": null
          }
        },
        "311064c747f24b6d9a45b1bf560e1791": {
          "model_module": "@jupyter-widgets/controls",
          "model_module_version": "1.5.0",
          "model_name": "FloatProgressModel",
          "state": {
            "_dom_classes": [],
            "_model_module": "@jupyter-widgets/controls",
            "_model_module_version": "1.5.0",
            "_model_name": "FloatProgressModel",
            "_view_count": null,
            "_view_module": "@jupyter-widgets/controls",
            "_view_module_version": "1.5.0",
            "_view_name": "ProgressView",
            "bar_style": "success",
            "description": "",
            "description_tooltip": null,
            "layout": "IPY_MODEL_744460dbfdaa4b4c85b39857aab9eac4",
            "max": 25,
            "min": 0,
            "orientation": "horizontal",
            "style": "IPY_MODEL_716b3dc52c33496c9863018c39a3f65d",
            "value": 25
          }
        },
        "355f130d0b684163800dec57a91f9857": {
          "model_module": "@jupyter-widgets/controls",
          "model_module_version": "1.5.0",
          "model_name": "HTMLModel",
          "state": {
            "_dom_classes": [],
            "_model_module": "@jupyter-widgets/controls",
            "_model_module_version": "1.5.0",
            "_model_name": "HTMLModel",
            "_view_count": null,
            "_view_module": "@jupyter-widgets/controls",
            "_view_module_version": "1.5.0",
            "_view_name": "HTMLView",
            "description": "",
            "description_tooltip": null,
            "layout": "IPY_MODEL_98da52a29e1d4432ba1e43f81121f4ef",
            "placeholder": "​",
            "style": "IPY_MODEL_22992d95bc654089bb9111c53035880d",
            "value": " 456k/456k [00:00&lt;00:00, 3.14MB/s]"
          }
        },
        "37b16ec2cee0440a97d75d2dcd59c43c": {
          "model_module": "@jupyter-widgets/controls",
          "model_module_version": "1.5.0",
          "model_name": "DescriptionStyleModel",
          "state": {
            "_model_module": "@jupyter-widgets/controls",
            "_model_module_version": "1.5.0",
            "_model_name": "DescriptionStyleModel",
            "_view_count": null,
            "_view_module": "@jupyter-widgets/base",
            "_view_module_version": "1.2.0",
            "_view_name": "StyleView",
            "description_width": ""
          }
        },
        "3db75acf11324cbcae06d6d8d47a7605": {
          "model_module": "@jupyter-widgets/base",
          "model_module_version": "1.2.0",
          "model_name": "LayoutModel",
          "state": {
            "_model_module": "@jupyter-widgets/base",
            "_model_module_version": "1.2.0",
            "_model_name": "LayoutModel",
            "_view_count": null,
            "_view_module": "@jupyter-widgets/base",
            "_view_module_version": "1.2.0",
            "_view_name": "LayoutView",
            "align_content": null,
            "align_items": null,
            "align_self": null,
            "border": null,
            "bottom": null,
            "display": null,
            "flex": null,
            "flex_flow": null,
            "grid_area": null,
            "grid_auto_columns": null,
            "grid_auto_flow": null,
            "grid_auto_rows": null,
            "grid_column": null,
            "grid_gap": null,
            "grid_row": null,
            "grid_template_areas": null,
            "grid_template_columns": null,
            "grid_template_rows": null,
            "height": null,
            "justify_content": null,
            "justify_items": null,
            "left": null,
            "margin": null,
            "max_height": null,
            "max_width": null,
            "min_height": null,
            "min_width": null,
            "object_fit": null,
            "object_position": null,
            "order": null,
            "overflow": null,
            "overflow_x": null,
            "overflow_y": null,
            "padding": null,
            "right": null,
            "top": null,
            "visibility": null,
            "width": null
          }
        },
        "41afd644921f4ca584f160ba3b78b691": {
          "model_module": "@jupyter-widgets/controls",
          "model_module_version": "1.5.0",
          "model_name": "HTMLModel",
          "state": {
            "_dom_classes": [],
            "_model_module": "@jupyter-widgets/controls",
            "_model_module_version": "1.5.0",
            "_model_name": "HTMLModel",
            "_view_count": null,
            "_view_module": "@jupyter-widgets/controls",
            "_view_module_version": "1.5.0",
            "_view_name": "HTMLView",
            "description": "",
            "description_tooltip": null,
            "layout": "IPY_MODEL_4589c6c620ae486787ac6e7157d9b4c0",
            "placeholder": "​",
            "style": "IPY_MODEL_c8d15ebdd2c14db095dc2691a7081828",
            "value": " 6.34k/6.34k [00:00&lt;00:00, 702kB/s]"
          }
        },
        "4589c6c620ae486787ac6e7157d9b4c0": {
          "model_module": "@jupyter-widgets/base",
          "model_module_version": "1.2.0",
          "model_name": "LayoutModel",
          "state": {
            "_model_module": "@jupyter-widgets/base",
            "_model_module_version": "1.2.0",
            "_model_name": "LayoutModel",
            "_view_count": null,
            "_view_module": "@jupyter-widgets/base",
            "_view_module_version": "1.2.0",
            "_view_name": "LayoutView",
            "align_content": null,
            "align_items": null,
            "align_self": null,
            "border": null,
            "bottom": null,
            "display": null,
            "flex": null,
            "flex_flow": null,
            "grid_area": null,
            "grid_auto_columns": null,
            "grid_auto_flow": null,
            "grid_auto_rows": null,
            "grid_column": null,
            "grid_gap": null,
            "grid_row": null,
            "grid_template_areas": null,
            "grid_template_columns": null,
            "grid_template_rows": null,
            "height": null,
            "justify_content": null,
            "justify_items": null,
            "left": null,
            "margin": null,
            "max_height": null,
            "max_width": null,
            "min_height": null,
            "min_width": null,
            "object_fit": null,
            "object_position": null,
            "order": null,
            "overflow": null,
            "overflow_x": null,
            "overflow_y": null,
            "padding": null,
            "right": null,
            "top": null,
            "visibility": null,
            "width": null
          }
        },
        "47f951c194414308acc46a64148ceb9f": {
          "model_module": "@jupyter-widgets/base",
          "model_module_version": "1.2.0",
          "model_name": "LayoutModel",
          "state": {
            "_model_module": "@jupyter-widgets/base",
            "_model_module_version": "1.2.0",
            "_model_name": "LayoutModel",
            "_view_count": null,
            "_view_module": "@jupyter-widgets/base",
            "_view_module_version": "1.2.0",
            "_view_name": "LayoutView",
            "align_content": null,
            "align_items": null,
            "align_self": null,
            "border": null,
            "bottom": null,
            "display": null,
            "flex": null,
            "flex_flow": null,
            "grid_area": null,
            "grid_auto_columns": null,
            "grid_auto_flow": null,
            "grid_auto_rows": null,
            "grid_column": null,
            "grid_gap": null,
            "grid_row": null,
            "grid_template_areas": null,
            "grid_template_columns": null,
            "grid_template_rows": null,
            "height": null,
            "justify_content": null,
            "justify_items": null,
            "left": null,
            "margin": null,
            "max_height": null,
            "max_width": null,
            "min_height": null,
            "min_width": null,
            "object_fit": null,
            "object_position": null,
            "order": null,
            "overflow": null,
            "overflow_x": null,
            "overflow_y": null,
            "padding": null,
            "right": null,
            "top": null,
            "visibility": null,
            "width": null
          }
        },
        "4c88f8a9364941eaac14acdeaf60e28c": {
          "model_module": "@jupyter-widgets/base",
          "model_module_version": "1.2.0",
          "model_name": "LayoutModel",
          "state": {
            "_model_module": "@jupyter-widgets/base",
            "_model_module_version": "1.2.0",
            "_model_name": "LayoutModel",
            "_view_count": null,
            "_view_module": "@jupyter-widgets/base",
            "_view_module_version": "1.2.0",
            "_view_name": "LayoutView",
            "align_content": null,
            "align_items": null,
            "align_self": null,
            "border": null,
            "bottom": null,
            "display": null,
            "flex": null,
            "flex_flow": null,
            "grid_area": null,
            "grid_auto_columns": null,
            "grid_auto_flow": null,
            "grid_auto_rows": null,
            "grid_column": null,
            "grid_gap": null,
            "grid_row": null,
            "grid_template_areas": null,
            "grid_template_columns": null,
            "grid_template_rows": null,
            "height": null,
            "justify_content": null,
            "justify_items": null,
            "left": null,
            "margin": null,
            "max_height": null,
            "max_width": null,
            "min_height": null,
            "min_width": null,
            "object_fit": null,
            "object_position": null,
            "order": null,
            "overflow": null,
            "overflow_x": null,
            "overflow_y": null,
            "padding": null,
            "right": null,
            "top": null,
            "visibility": null,
            "width": null
          }
        },
        "51a683621e884312bb5800b01e55413a": {
          "model_module": "@jupyter-widgets/controls",
          "model_module_version": "1.5.0",
          "model_name": "HBoxModel",
          "state": {
            "_dom_classes": [],
            "_model_module": "@jupyter-widgets/controls",
            "_model_module_version": "1.5.0",
            "_model_name": "HBoxModel",
            "_view_count": null,
            "_view_module": "@jupyter-widgets/controls",
            "_view_module_version": "1.5.0",
            "_view_name": "HBoxView",
            "box_style": "",
            "children": [
              "IPY_MODEL_1c35266b88e54cc0b719aa0d2ef7b09d",
              "IPY_MODEL_f06c13a615ca44aaababb3ef17927209",
              "IPY_MODEL_355f130d0b684163800dec57a91f9857"
            ],
            "layout": "IPY_MODEL_bb28a85ff58243458dfb8c0edcb2a8bc"
          }
        },
        "58834e8d78ac4b5d9abd44336f91f18f": {
          "model_module": "@jupyter-widgets/controls",
          "model_module_version": "1.5.0",
          "model_name": "FloatProgressModel",
          "state": {
            "_dom_classes": [],
            "_model_module": "@jupyter-widgets/controls",
            "_model_module_version": "1.5.0",
            "_model_name": "FloatProgressModel",
            "_view_count": null,
            "_view_module": "@jupyter-widgets/controls",
            "_view_module_version": "1.5.0",
            "_view_name": "ProgressView",
            "bar_style": "success",
            "description": "",
            "description_tooltip": null,
            "layout": "IPY_MODEL_a1b988e569f84fbb97b9e0836d5fec7c",
            "max": 1355863,
            "min": 0,
            "orientation": "horizontal",
            "style": "IPY_MODEL_7a7110f168c445058cd738fd0838aeda",
            "value": 1355863
          }
        },
        "5b6eab2866244e46a5decfe40a24c7dd": {
          "model_module": "@jupyter-widgets/base",
          "model_module_version": "1.2.0",
          "model_name": "LayoutModel",
          "state": {
            "_model_module": "@jupyter-widgets/base",
            "_model_module_version": "1.2.0",
            "_model_name": "LayoutModel",
            "_view_count": null,
            "_view_module": "@jupyter-widgets/base",
            "_view_module_version": "1.2.0",
            "_view_name": "LayoutView",
            "align_content": null,
            "align_items": null,
            "align_self": null,
            "border": null,
            "bottom": null,
            "display": null,
            "flex": null,
            "flex_flow": null,
            "grid_area": null,
            "grid_auto_columns": null,
            "grid_auto_flow": null,
            "grid_auto_rows": null,
            "grid_column": null,
            "grid_gap": null,
            "grid_row": null,
            "grid_template_areas": null,
            "grid_template_columns": null,
            "grid_template_rows": null,
            "height": null,
            "justify_content": null,
            "justify_items": null,
            "left": null,
            "margin": null,
            "max_height": null,
            "max_width": null,
            "min_height": null,
            "min_width": null,
            "object_fit": null,
            "object_position": null,
            "order": null,
            "overflow": null,
            "overflow_x": null,
            "overflow_y": null,
            "padding": null,
            "right": null,
            "top": null,
            "visibility": null,
            "width": null
          }
        },
        "5cd2d2fa09c6448a99656b34e3501c98": {
          "model_module": "@jupyter-widgets/controls",
          "model_module_version": "1.5.0",
          "model_name": "HBoxModel",
          "state": {
            "_dom_classes": [],
            "_model_module": "@jupyter-widgets/controls",
            "_model_module_version": "1.5.0",
            "_model_name": "HBoxModel",
            "_view_count": null,
            "_view_module": "@jupyter-widgets/controls",
            "_view_module_version": "1.5.0",
            "_view_name": "HBoxView",
            "box_style": "",
            "children": [
              "IPY_MODEL_a1df2459b0e94013b038703a7ef7e5a9",
              "IPY_MODEL_913d337306fb41bcb90c3b70644b50ce",
              "IPY_MODEL_bdc6a3b6942a4ec190fc9f094e6b8f76"
            ],
            "layout": "IPY_MODEL_4c88f8a9364941eaac14acdeaf60e28c"
          }
        },
        "5f9018286f144abc99ab701643c77805": {
          "model_module": "@jupyter-widgets/controls",
          "model_module_version": "1.5.0",
          "model_name": "HTMLModel",
          "state": {
            "_dom_classes": [],
            "_model_module": "@jupyter-widgets/controls",
            "_model_module_version": "1.5.0",
            "_model_name": "HTMLModel",
            "_view_count": null,
            "_view_module": "@jupyter-widgets/controls",
            "_view_module_version": "1.5.0",
            "_view_name": "HTMLView",
            "description": "",
            "description_tooltip": null,
            "layout": "IPY_MODEL_02d57ec7490d454dab8afe0420e51b70",
            "placeholder": "​",
            "style": "IPY_MODEL_ccf09e59f83147d7b94b5c1a9a417932",
            "value": "tokenizer_config.json: 100%"
          }
        },
        "60cba6df435149c799050bc9ef7bdf94": {
          "model_module": "@jupyter-widgets/base",
          "model_module_version": "1.2.0",
          "model_name": "LayoutModel",
          "state": {
            "_model_module": "@jupyter-widgets/base",
            "_model_module_version": "1.2.0",
            "_model_name": "LayoutModel",
            "_view_count": null,
            "_view_module": "@jupyter-widgets/base",
            "_view_module_version": "1.2.0",
            "_view_name": "LayoutView",
            "align_content": null,
            "align_items": null,
            "align_self": null,
            "border": null,
            "bottom": null,
            "display": null,
            "flex": null,
            "flex_flow": null,
            "grid_area": null,
            "grid_auto_columns": null,
            "grid_auto_flow": null,
            "grid_auto_rows": null,
            "grid_column": null,
            "grid_gap": null,
            "grid_row": null,
            "grid_template_areas": null,
            "grid_template_columns": null,
            "grid_template_rows": null,
            "height": null,
            "justify_content": null,
            "justify_items": null,
            "left": null,
            "margin": null,
            "max_height": null,
            "max_width": null,
            "min_height": null,
            "min_width": null,
            "object_fit": null,
            "object_position": null,
            "order": null,
            "overflow": null,
            "overflow_x": null,
            "overflow_y": null,
            "padding": null,
            "right": null,
            "top": null,
            "visibility": null,
            "width": null
          }
        },
        "61830c4fb2af42d9abe80fde81c4aeac": {
          "model_module": "@jupyter-widgets/base",
          "model_module_version": "1.2.0",
          "model_name": "LayoutModel",
          "state": {
            "_model_module": "@jupyter-widgets/base",
            "_model_module_version": "1.2.0",
            "_model_name": "LayoutModel",
            "_view_count": null,
            "_view_module": "@jupyter-widgets/base",
            "_view_module_version": "1.2.0",
            "_view_name": "LayoutView",
            "align_content": null,
            "align_items": null,
            "align_self": null,
            "border": null,
            "bottom": null,
            "display": null,
            "flex": null,
            "flex_flow": null,
            "grid_area": null,
            "grid_auto_columns": null,
            "grid_auto_flow": null,
            "grid_auto_rows": null,
            "grid_column": null,
            "grid_gap": null,
            "grid_row": null,
            "grid_template_areas": null,
            "grid_template_columns": null,
            "grid_template_rows": null,
            "height": null,
            "justify_content": null,
            "justify_items": null,
            "left": null,
            "margin": null,
            "max_height": null,
            "max_width": null,
            "min_height": null,
            "min_width": null,
            "object_fit": null,
            "object_position": null,
            "order": null,
            "overflow": null,
            "overflow_x": null,
            "overflow_y": null,
            "padding": null,
            "right": null,
            "top": null,
            "visibility": null,
            "width": "20px"
          }
        },
        "6574dd203b0a497c84583133e1c0f47d": {
          "model_module": "@jupyter-widgets/base",
          "model_module_version": "1.2.0",
          "model_name": "LayoutModel",
          "state": {
            "_model_module": "@jupyter-widgets/base",
            "_model_module_version": "1.2.0",
            "_model_name": "LayoutModel",
            "_view_count": null,
            "_view_module": "@jupyter-widgets/base",
            "_view_module_version": "1.2.0",
            "_view_name": "LayoutView",
            "align_content": null,
            "align_items": null,
            "align_self": null,
            "border": null,
            "bottom": null,
            "display": null,
            "flex": null,
            "flex_flow": null,
            "grid_area": null,
            "grid_auto_columns": null,
            "grid_auto_flow": null,
            "grid_auto_rows": null,
            "grid_column": null,
            "grid_gap": null,
            "grid_row": null,
            "grid_template_areas": null,
            "grid_template_columns": null,
            "grid_template_rows": null,
            "height": null,
            "justify_content": null,
            "justify_items": null,
            "left": null,
            "margin": null,
            "max_height": null,
            "max_width": null,
            "min_height": null,
            "min_width": null,
            "object_fit": null,
            "object_position": null,
            "order": null,
            "overflow": null,
            "overflow_x": null,
            "overflow_y": null,
            "padding": null,
            "right": null,
            "top": null,
            "visibility": null,
            "width": null
          }
        },
        "6740fdebb7b34c63b4e51bb996ab226f": {
          "model_module": "@jupyter-widgets/controls",
          "model_module_version": "1.5.0",
          "model_name": "DescriptionStyleModel",
          "state": {
            "_model_module": "@jupyter-widgets/controls",
            "_model_module_version": "1.5.0",
            "_model_name": "DescriptionStyleModel",
            "_view_count": null,
            "_view_module": "@jupyter-widgets/base",
            "_view_module_version": "1.2.0",
            "_view_name": "StyleView",
            "description_width": ""
          }
        },
        "674561dc18924b1282a163a2dcb4b7fc": {
          "model_module": "@jupyter-widgets/controls",
          "model_module_version": "1.5.0",
          "model_name": "HTMLModel",
          "state": {
            "_dom_classes": [],
            "_model_module": "@jupyter-widgets/controls",
            "_model_module_version": "1.5.0",
            "_model_name": "HTMLModel",
            "_view_count": null,
            "_view_module": "@jupyter-widgets/controls",
            "_view_module_version": "1.5.0",
            "_view_name": "HTMLView",
            "description": "",
            "description_tooltip": null,
            "layout": "IPY_MODEL_1546d4f0500545668d8a652e869b09e4",
            "placeholder": "​",
            "style": "IPY_MODEL_d50f63adb3d54dd2bc0eac5d89edef22",
            "value": " 1.36M/1.36M [00:00&lt;00:00, 18.0MB/s]"
          }
        },
        "67b1e98c2d74428abdea777fc7beaca5": {
          "model_module": "@jupyter-widgets/controls",
          "model_module_version": "1.5.0",
          "model_name": "HBoxModel",
          "state": {
            "_dom_classes": [],
            "_model_module": "@jupyter-widgets/controls",
            "_model_module_version": "1.5.0",
            "_model_name": "HBoxModel",
            "_view_count": null,
            "_view_module": "@jupyter-widgets/controls",
            "_view_module_version": "1.5.0",
            "_view_name": "HBoxView",
            "box_style": "",
            "children": [
              "IPY_MODEL_05e576ff35964f7da84a39878eff0e93",
              "IPY_MODEL_58834e8d78ac4b5d9abd44336f91f18f",
              "IPY_MODEL_674561dc18924b1282a163a2dcb4b7fc"
            ],
            "layout": "IPY_MODEL_c6823935a17b446f9b506e64cbb36ef5"
          }
        },
        "68014863750e45569c2b0e3d2cd0caa9": {
          "model_module": "@jupyter-widgets/controls",
          "model_module_version": "1.5.0",
          "model_name": "HTMLModel",
          "state": {
            "_dom_classes": [],
            "_model_module": "@jupyter-widgets/controls",
            "_model_module_version": "1.5.0",
            "_model_name": "HTMLModel",
            "_view_count": null,
            "_view_module": "@jupyter-widgets/controls",
            "_view_module_version": "1.5.0",
            "_view_name": "HTMLView",
            "description": "",
            "description_tooltip": null,
            "layout": "IPY_MODEL_b3798f7752e3487786c0a13ebce9deaf",
            "placeholder": "​",
            "style": "IPY_MODEL_27d0dfb765d341fa817962af74f8d0e7",
            "value": " 899k/899k [00:00&lt;00:00, 6.08MB/s]"
          }
        },
        "70d3e61a2a614b8a845ded2f4ce6e901": {
          "model_module": "@jupyter-widgets/controls",
          "model_module_version": "1.5.0",
          "model_name": "HTMLModel",
          "state": {
            "_dom_classes": [],
            "_model_module": "@jupyter-widgets/controls",
            "_model_module_version": "1.5.0",
            "_model_name": "HTMLModel",
            "_view_count": null,
            "_view_module": "@jupyter-widgets/controls",
            "_view_module_version": "1.5.0",
            "_view_name": "HTMLView",
            "description": "",
            "description_tooltip": null,
            "layout": "IPY_MODEL_a754a1155ced4cb3956c4c6b02661f0a",
            "placeholder": "​",
            "style": "IPY_MODEL_6740fdebb7b34c63b4e51bb996ab226f",
            "value": "Downloading builder script: 100%"
          }
        },
        "716b3dc52c33496c9863018c39a3f65d": {
          "model_module": "@jupyter-widgets/controls",
          "model_module_version": "1.5.0",
          "model_name": "ProgressStyleModel",
          "state": {
            "_model_module": "@jupyter-widgets/controls",
            "_model_module_version": "1.5.0",
            "_model_name": "ProgressStyleModel",
            "_view_count": null,
            "_view_module": "@jupyter-widgets/base",
            "_view_module_version": "1.2.0",
            "_view_name": "StyleView",
            "bar_color": null,
            "description_width": ""
          }
        },
        "744460dbfdaa4b4c85b39857aab9eac4": {
          "model_module": "@jupyter-widgets/base",
          "model_module_version": "1.2.0",
          "model_name": "LayoutModel",
          "state": {
            "_model_module": "@jupyter-widgets/base",
            "_model_module_version": "1.2.0",
            "_model_name": "LayoutModel",
            "_view_count": null,
            "_view_module": "@jupyter-widgets/base",
            "_view_module_version": "1.2.0",
            "_view_name": "LayoutView",
            "align_content": null,
            "align_items": null,
            "align_self": null,
            "border": null,
            "bottom": null,
            "display": null,
            "flex": null,
            "flex_flow": null,
            "grid_area": null,
            "grid_auto_columns": null,
            "grid_auto_flow": null,
            "grid_auto_rows": null,
            "grid_column": null,
            "grid_gap": null,
            "grid_row": null,
            "grid_template_areas": null,
            "grid_template_columns": null,
            "grid_template_rows": null,
            "height": null,
            "justify_content": null,
            "justify_items": null,
            "left": null,
            "margin": null,
            "max_height": null,
            "max_width": null,
            "min_height": null,
            "min_width": null,
            "object_fit": null,
            "object_position": null,
            "order": null,
            "overflow": null,
            "overflow_x": null,
            "overflow_y": null,
            "padding": null,
            "right": null,
            "top": null,
            "visibility": null,
            "width": null
          }
        },
        "75c26271dd9b49efaba234a0c74d6b81": {
          "model_module": "@jupyter-widgets/controls",
          "model_module_version": "1.5.0",
          "model_name": "DescriptionStyleModel",
          "state": {
            "_model_module": "@jupyter-widgets/controls",
            "_model_module_version": "1.5.0",
            "_model_name": "DescriptionStyleModel",
            "_view_count": null,
            "_view_module": "@jupyter-widgets/base",
            "_view_module_version": "1.2.0",
            "_view_name": "StyleView",
            "description_width": ""
          }
        },
        "763b503a04be442cbffd6ebb429a97ef": {
          "model_module": "@jupyter-widgets/controls",
          "model_module_version": "1.5.0",
          "model_name": "DescriptionStyleModel",
          "state": {
            "_model_module": "@jupyter-widgets/controls",
            "_model_module_version": "1.5.0",
            "_model_name": "DescriptionStyleModel",
            "_view_count": null,
            "_view_module": "@jupyter-widgets/base",
            "_view_module_version": "1.2.0",
            "_view_name": "StyleView",
            "description_width": ""
          }
        },
        "7a7110f168c445058cd738fd0838aeda": {
          "model_module": "@jupyter-widgets/controls",
          "model_module_version": "1.5.0",
          "model_name": "ProgressStyleModel",
          "state": {
            "_model_module": "@jupyter-widgets/controls",
            "_model_module_version": "1.5.0",
            "_model_name": "ProgressStyleModel",
            "_view_count": null,
            "_view_module": "@jupyter-widgets/base",
            "_view_module_version": "1.2.0",
            "_view_name": "StyleView",
            "bar_color": null,
            "description_width": ""
          }
        },
        "7df4e9eb56024db984b85d8c16b1a15e": {
          "model_module": "@jupyter-widgets/controls",
          "model_module_version": "1.5.0",
          "model_name": "DescriptionStyleModel",
          "state": {
            "_model_module": "@jupyter-widgets/controls",
            "_model_module_version": "1.5.0",
            "_model_name": "DescriptionStyleModel",
            "_view_count": null,
            "_view_module": "@jupyter-widgets/base",
            "_view_module_version": "1.2.0",
            "_view_name": "StyleView",
            "description_width": ""
          }
        },
        "7ecc0d2392e5450f97d226fb521c1aef": {
          "model_module": "@jupyter-widgets/controls",
          "model_module_version": "1.5.0",
          "model_name": "HTMLModel",
          "state": {
            "_dom_classes": [],
            "_model_module": "@jupyter-widgets/controls",
            "_model_module_version": "1.5.0",
            "_model_name": "HTMLModel",
            "_view_count": null,
            "_view_module": "@jupyter-widgets/controls",
            "_view_module_version": "1.5.0",
            "_view_name": "HTMLView",
            "description": "",
            "description_tooltip": null,
            "layout": "IPY_MODEL_f53975276ef94877b7c7eb30be771803",
            "placeholder": "​",
            "style": "IPY_MODEL_75c26271dd9b49efaba234a0c74d6b81",
            "value": " 224/0 [00:00&lt;00:00, 347.04 examples/s]"
          }
        },
        "7ee10b9fc725468db108f7ed4f5ac6d3": {
          "model_module": "@jupyter-widgets/base",
          "model_module_version": "1.2.0",
          "model_name": "LayoutModel",
          "state": {
            "_model_module": "@jupyter-widgets/base",
            "_model_module_version": "1.2.0",
            "_model_name": "LayoutModel",
            "_view_count": null,
            "_view_module": "@jupyter-widgets/base",
            "_view_module_version": "1.2.0",
            "_view_name": "LayoutView",
            "align_content": null,
            "align_items": null,
            "align_self": null,
            "border": null,
            "bottom": null,
            "display": null,
            "flex": null,
            "flex_flow": null,
            "grid_area": null,
            "grid_auto_columns": null,
            "grid_auto_flow": null,
            "grid_auto_rows": null,
            "grid_column": null,
            "grid_gap": null,
            "grid_row": null,
            "grid_template_areas": null,
            "grid_template_columns": null,
            "grid_template_rows": null,
            "height": null,
            "justify_content": null,
            "justify_items": null,
            "left": null,
            "margin": null,
            "max_height": null,
            "max_width": null,
            "min_height": null,
            "min_width": null,
            "object_fit": null,
            "object_position": null,
            "order": null,
            "overflow": null,
            "overflow_x": null,
            "overflow_y": null,
            "padding": null,
            "right": null,
            "top": null,
            "visibility": null,
            "width": null
          }
        },
        "80809b3a4c204b7091a79b3522829c80": {
          "model_module": "@jupyter-widgets/controls",
          "model_module_version": "1.5.0",
          "model_name": "ProgressStyleModel",
          "state": {
            "_model_module": "@jupyter-widgets/controls",
            "_model_module_version": "1.5.0",
            "_model_name": "ProgressStyleModel",
            "_view_count": null,
            "_view_module": "@jupyter-widgets/base",
            "_view_module_version": "1.2.0",
            "_view_name": "StyleView",
            "bar_color": null,
            "description_width": ""
          }
        },
        "8326e65f1e9444139a24f1be1c72c6f6": {
          "model_module": "@jupyter-widgets/controls",
          "model_module_version": "1.5.0",
          "model_name": "HTMLModel",
          "state": {
            "_dom_classes": [],
            "_model_module": "@jupyter-widgets/controls",
            "_model_module_version": "1.5.0",
            "_model_name": "HTMLModel",
            "_view_count": null,
            "_view_module": "@jupyter-widgets/controls",
            "_view_module_version": "1.5.0",
            "_view_name": "HTMLView",
            "description": "",
            "description_tooltip": null,
            "layout": "IPY_MODEL_855951fdce644aacb17f9f07dca16601",
            "placeholder": "​",
            "style": "IPY_MODEL_7df4e9eb56024db984b85d8c16b1a15e",
            "value": "vocab.json: 100%"
          }
        },
        "833657b8255b460999dd1b938bb2e51f": {
          "model_module": "@jupyter-widgets/controls",
          "model_module_version": "1.5.0",
          "model_name": "DescriptionStyleModel",
          "state": {
            "_model_module": "@jupyter-widgets/controls",
            "_model_module_version": "1.5.0",
            "_model_name": "DescriptionStyleModel",
            "_view_count": null,
            "_view_module": "@jupyter-widgets/base",
            "_view_module_version": "1.2.0",
            "_view_name": "StyleView",
            "description_width": ""
          }
        },
        "855951fdce644aacb17f9f07dca16601": {
          "model_module": "@jupyter-widgets/base",
          "model_module_version": "1.2.0",
          "model_name": "LayoutModel",
          "state": {
            "_model_module": "@jupyter-widgets/base",
            "_model_module_version": "1.2.0",
            "_model_name": "LayoutModel",
            "_view_count": null,
            "_view_module": "@jupyter-widgets/base",
            "_view_module_version": "1.2.0",
            "_view_name": "LayoutView",
            "align_content": null,
            "align_items": null,
            "align_self": null,
            "border": null,
            "bottom": null,
            "display": null,
            "flex": null,
            "flex_flow": null,
            "grid_area": null,
            "grid_auto_columns": null,
            "grid_auto_flow": null,
            "grid_auto_rows": null,
            "grid_column": null,
            "grid_gap": null,
            "grid_row": null,
            "grid_template_areas": null,
            "grid_template_columns": null,
            "grid_template_rows": null,
            "height": null,
            "justify_content": null,
            "justify_items": null,
            "left": null,
            "margin": null,
            "max_height": null,
            "max_width": null,
            "min_height": null,
            "min_width": null,
            "object_fit": null,
            "object_position": null,
            "order": null,
            "overflow": null,
            "overflow_x": null,
            "overflow_y": null,
            "padding": null,
            "right": null,
            "top": null,
            "visibility": null,
            "width": null
          }
        },
        "88c0579107e647199bdf6632ba90a1f9": {
          "model_module": "@jupyter-widgets/controls",
          "model_module_version": "1.5.0",
          "model_name": "ProgressStyleModel",
          "state": {
            "_model_module": "@jupyter-widgets/controls",
            "_model_module_version": "1.5.0",
            "_model_name": "ProgressStyleModel",
            "_view_count": null,
            "_view_module": "@jupyter-widgets/base",
            "_view_module_version": "1.2.0",
            "_view_name": "StyleView",
            "bar_color": null,
            "description_width": ""
          }
        },
        "8afe66d8c1374e1790f961ff7c22115c": {
          "model_module": "@jupyter-widgets/base",
          "model_module_version": "1.2.0",
          "model_name": "LayoutModel",
          "state": {
            "_model_module": "@jupyter-widgets/base",
            "_model_module_version": "1.2.0",
            "_model_name": "LayoutModel",
            "_view_count": null,
            "_view_module": "@jupyter-widgets/base",
            "_view_module_version": "1.2.0",
            "_view_name": "LayoutView",
            "align_content": null,
            "align_items": null,
            "align_self": null,
            "border": null,
            "bottom": null,
            "display": null,
            "flex": null,
            "flex_flow": null,
            "grid_area": null,
            "grid_auto_columns": null,
            "grid_auto_flow": null,
            "grid_auto_rows": null,
            "grid_column": null,
            "grid_gap": null,
            "grid_row": null,
            "grid_template_areas": null,
            "grid_template_columns": null,
            "grid_template_rows": null,
            "height": null,
            "justify_content": null,
            "justify_items": null,
            "left": null,
            "margin": null,
            "max_height": null,
            "max_width": null,
            "min_height": null,
            "min_width": null,
            "object_fit": null,
            "object_position": null,
            "order": null,
            "overflow": null,
            "overflow_x": null,
            "overflow_y": null,
            "padding": null,
            "right": null,
            "top": null,
            "visibility": null,
            "width": null
          }
        },
        "913d337306fb41bcb90c3b70644b50ce": {
          "model_module": "@jupyter-widgets/controls",
          "model_module_version": "1.5.0",
          "model_name": "FloatProgressModel",
          "state": {
            "_dom_classes": [],
            "_model_module": "@jupyter-widgets/controls",
            "_model_module_version": "1.5.0",
            "_model_name": "FloatProgressModel",
            "_view_count": null,
            "_view_module": "@jupyter-widgets/controls",
            "_view_module_version": "1.5.0",
            "_view_name": "ProgressView",
            "bar_style": "success",
            "description": "",
            "description_tooltip": null,
            "layout": "IPY_MODEL_bc0e31b1c84546ae97cce79caf8181b2",
            "max": 481,
            "min": 0,
            "orientation": "horizontal",
            "style": "IPY_MODEL_1166f8e3a9294cb393e17823c2767e20",
            "value": 481
          }
        },
        "971258e0076d4ce292ae6796f4c3b511": {
          "model_module": "@jupyter-widgets/controls",
          "model_module_version": "1.5.0",
          "model_name": "FloatProgressModel",
          "state": {
            "_dom_classes": [],
            "_model_module": "@jupyter-widgets/controls",
            "_model_module_version": "1.5.0",
            "_model_name": "FloatProgressModel",
            "_view_count": null,
            "_view_module": "@jupyter-widgets/controls",
            "_view_module_version": "1.5.0",
            "_view_name": "ProgressView",
            "bar_style": "success",
            "description": "",
            "description_tooltip": null,
            "layout": "IPY_MODEL_47f951c194414308acc46a64148ceb9f",
            "max": 6338,
            "min": 0,
            "orientation": "horizontal",
            "style": "IPY_MODEL_80809b3a4c204b7091a79b3522829c80",
            "value": 6338
          }
        },
        "9891b5983806498f980dc140e0fc7e4a": {
          "model_module": "@jupyter-widgets/base",
          "model_module_version": "1.2.0",
          "model_name": "LayoutModel",
          "state": {
            "_model_module": "@jupyter-widgets/base",
            "_model_module_version": "1.2.0",
            "_model_name": "LayoutModel",
            "_view_count": null,
            "_view_module": "@jupyter-widgets/base",
            "_view_module_version": "1.2.0",
            "_view_name": "LayoutView",
            "align_content": null,
            "align_items": null,
            "align_self": null,
            "border": null,
            "bottom": null,
            "display": null,
            "flex": null,
            "flex_flow": null,
            "grid_area": null,
            "grid_auto_columns": null,
            "grid_auto_flow": null,
            "grid_auto_rows": null,
            "grid_column": null,
            "grid_gap": null,
            "grid_row": null,
            "grid_template_areas": null,
            "grid_template_columns": null,
            "grid_template_rows": null,
            "height": null,
            "justify_content": null,
            "justify_items": null,
            "left": null,
            "margin": null,
            "max_height": null,
            "max_width": null,
            "min_height": null,
            "min_width": null,
            "object_fit": null,
            "object_position": null,
            "order": null,
            "overflow": null,
            "overflow_x": null,
            "overflow_y": null,
            "padding": null,
            "right": null,
            "top": null,
            "visibility": null,
            "width": null
          }
        },
        "98da52a29e1d4432ba1e43f81121f4ef": {
          "model_module": "@jupyter-widgets/base",
          "model_module_version": "1.2.0",
          "model_name": "LayoutModel",
          "state": {
            "_model_module": "@jupyter-widgets/base",
            "_model_module_version": "1.2.0",
            "_model_name": "LayoutModel",
            "_view_count": null,
            "_view_module": "@jupyter-widgets/base",
            "_view_module_version": "1.2.0",
            "_view_name": "LayoutView",
            "align_content": null,
            "align_items": null,
            "align_self": null,
            "border": null,
            "bottom": null,
            "display": null,
            "flex": null,
            "flex_flow": null,
            "grid_area": null,
            "grid_auto_columns": null,
            "grid_auto_flow": null,
            "grid_auto_rows": null,
            "grid_column": null,
            "grid_gap": null,
            "grid_row": null,
            "grid_template_areas": null,
            "grid_template_columns": null,
            "grid_template_rows": null,
            "height": null,
            "justify_content": null,
            "justify_items": null,
            "left": null,
            "margin": null,
            "max_height": null,
            "max_width": null,
            "min_height": null,
            "min_width": null,
            "object_fit": null,
            "object_position": null,
            "order": null,
            "overflow": null,
            "overflow_x": null,
            "overflow_y": null,
            "padding": null,
            "right": null,
            "top": null,
            "visibility": null,
            "width": null
          }
        },
        "9969806f54d64e348101a06e1d8f196a": {
          "model_module": "@jupyter-widgets/controls",
          "model_module_version": "1.5.0",
          "model_name": "HTMLModel",
          "state": {
            "_dom_classes": [],
            "_model_module": "@jupyter-widgets/controls",
            "_model_module_version": "1.5.0",
            "_model_name": "HTMLModel",
            "_view_count": null,
            "_view_module": "@jupyter-widgets/controls",
            "_view_module_version": "1.5.0",
            "_view_name": "HTMLView",
            "description": "",
            "description_tooltip": null,
            "layout": "IPY_MODEL_a29eb18340f642408e091d20877339f7",
            "placeholder": "​",
            "style": "IPY_MODEL_763b503a04be442cbffd6ebb429a97ef",
            "value": " 224/224 [00:00&lt;00:00, 280.17 examples/s]"
          }
        },
        "9977df4f04654019b81945f50da0d1b1": {
          "model_module": "@jupyter-widgets/controls",
          "model_module_version": "1.5.0",
          "model_name": "DescriptionStyleModel",
          "state": {
            "_model_module": "@jupyter-widgets/controls",
            "_model_module_version": "1.5.0",
            "_model_name": "DescriptionStyleModel",
            "_view_count": null,
            "_view_module": "@jupyter-widgets/base",
            "_view_module_version": "1.2.0",
            "_view_name": "StyleView",
            "description_width": ""
          }
        },
        "9d4b72a461cb4d39817898c35358506e": {
          "model_module": "@jupyter-widgets/controls",
          "model_module_version": "1.5.0",
          "model_name": "DescriptionStyleModel",
          "state": {
            "_model_module": "@jupyter-widgets/controls",
            "_model_module_version": "1.5.0",
            "_model_name": "DescriptionStyleModel",
            "_view_count": null,
            "_view_module": "@jupyter-widgets/base",
            "_view_module_version": "1.2.0",
            "_view_name": "StyleView",
            "description_width": ""
          }
        },
        "a1b988e569f84fbb97b9e0836d5fec7c": {
          "model_module": "@jupyter-widgets/base",
          "model_module_version": "1.2.0",
          "model_name": "LayoutModel",
          "state": {
            "_model_module": "@jupyter-widgets/base",
            "_model_module_version": "1.2.0",
            "_model_name": "LayoutModel",
            "_view_count": null,
            "_view_module": "@jupyter-widgets/base",
            "_view_module_version": "1.2.0",
            "_view_name": "LayoutView",
            "align_content": null,
            "align_items": null,
            "align_self": null,
            "border": null,
            "bottom": null,
            "display": null,
            "flex": null,
            "flex_flow": null,
            "grid_area": null,
            "grid_auto_columns": null,
            "grid_auto_flow": null,
            "grid_auto_rows": null,
            "grid_column": null,
            "grid_gap": null,
            "grid_row": null,
            "grid_template_areas": null,
            "grid_template_columns": null,
            "grid_template_rows": null,
            "height": null,
            "justify_content": null,
            "justify_items": null,
            "left": null,
            "margin": null,
            "max_height": null,
            "max_width": null,
            "min_height": null,
            "min_width": null,
            "object_fit": null,
            "object_position": null,
            "order": null,
            "overflow": null,
            "overflow_x": null,
            "overflow_y": null,
            "padding": null,
            "right": null,
            "top": null,
            "visibility": null,
            "width": null
          }
        },
        "a1df2459b0e94013b038703a7ef7e5a9": {
          "model_module": "@jupyter-widgets/controls",
          "model_module_version": "1.5.0",
          "model_name": "HTMLModel",
          "state": {
            "_dom_classes": [],
            "_model_module": "@jupyter-widgets/controls",
            "_model_module_version": "1.5.0",
            "_model_name": "HTMLModel",
            "_view_count": null,
            "_view_module": "@jupyter-widgets/controls",
            "_view_module_version": "1.5.0",
            "_view_name": "HTMLView",
            "description": "",
            "description_tooltip": null,
            "layout": "IPY_MODEL_3db75acf11324cbcae06d6d8d47a7605",
            "placeholder": "​",
            "style": "IPY_MODEL_833657b8255b460999dd1b938bb2e51f",
            "value": "config.json: 100%"
          }
        },
        "a29eb18340f642408e091d20877339f7": {
          "model_module": "@jupyter-widgets/base",
          "model_module_version": "1.2.0",
          "model_name": "LayoutModel",
          "state": {
            "_model_module": "@jupyter-widgets/base",
            "_model_module_version": "1.2.0",
            "_model_name": "LayoutModel",
            "_view_count": null,
            "_view_module": "@jupyter-widgets/base",
            "_view_module_version": "1.2.0",
            "_view_name": "LayoutView",
            "align_content": null,
            "align_items": null,
            "align_self": null,
            "border": null,
            "bottom": null,
            "display": null,
            "flex": null,
            "flex_flow": null,
            "grid_area": null,
            "grid_auto_columns": null,
            "grid_auto_flow": null,
            "grid_auto_rows": null,
            "grid_column": null,
            "grid_gap": null,
            "grid_row": null,
            "grid_template_areas": null,
            "grid_template_columns": null,
            "grid_template_rows": null,
            "height": null,
            "justify_content": null,
            "justify_items": null,
            "left": null,
            "margin": null,
            "max_height": null,
            "max_width": null,
            "min_height": null,
            "min_width": null,
            "object_fit": null,
            "object_position": null,
            "order": null,
            "overflow": null,
            "overflow_x": null,
            "overflow_y": null,
            "padding": null,
            "right": null,
            "top": null,
            "visibility": null,
            "width": null
          }
        },
        "a3ad9f92a22247358c1879d63262076f": {
          "model_module": "@jupyter-widgets/controls",
          "model_module_version": "1.5.0",
          "model_name": "HTMLModel",
          "state": {
            "_dom_classes": [],
            "_model_module": "@jupyter-widgets/controls",
            "_model_module_version": "1.5.0",
            "_model_name": "HTMLModel",
            "_view_count": null,
            "_view_module": "@jupyter-widgets/controls",
            "_view_module_version": "1.5.0",
            "_view_name": "HTMLView",
            "description": "",
            "description_tooltip": null,
            "layout": "IPY_MODEL_60cba6df435149c799050bc9ef7bdf94",
            "placeholder": "​",
            "style": "IPY_MODEL_d044d399a48947279580742b74114280",
            "value": "Map: 100%"
          }
        },
        "a6538acbf1ee452980de181314562ed0": {
          "model_module": "@jupyter-widgets/controls",
          "model_module_version": "1.5.0",
          "model_name": "HBoxModel",
          "state": {
            "_dom_classes": [],
            "_model_module": "@jupyter-widgets/controls",
            "_model_module_version": "1.5.0",
            "_model_name": "HBoxModel",
            "_view_count": null,
            "_view_module": "@jupyter-widgets/controls",
            "_view_module_version": "1.5.0",
            "_view_name": "HBoxView",
            "box_style": "",
            "children": [
              "IPY_MODEL_8326e65f1e9444139a24f1be1c72c6f6",
              "IPY_MODEL_c30c49907bfc46bf9b2a0ce663fd76bd",
              "IPY_MODEL_68014863750e45569c2b0e3d2cd0caa9"
            ],
            "layout": "IPY_MODEL_a9c385ac11c8427db719b9af07dea410"
          }
        },
        "a754a1155ced4cb3956c4c6b02661f0a": {
          "model_module": "@jupyter-widgets/base",
          "model_module_version": "1.2.0",
          "model_name": "LayoutModel",
          "state": {
            "_model_module": "@jupyter-widgets/base",
            "_model_module_version": "1.2.0",
            "_model_name": "LayoutModel",
            "_view_count": null,
            "_view_module": "@jupyter-widgets/base",
            "_view_module_version": "1.2.0",
            "_view_name": "LayoutView",
            "align_content": null,
            "align_items": null,
            "align_self": null,
            "border": null,
            "bottom": null,
            "display": null,
            "flex": null,
            "flex_flow": null,
            "grid_area": null,
            "grid_auto_columns": null,
            "grid_auto_flow": null,
            "grid_auto_rows": null,
            "grid_column": null,
            "grid_gap": null,
            "grid_row": null,
            "grid_template_areas": null,
            "grid_template_columns": null,
            "grid_template_rows": null,
            "height": null,
            "justify_content": null,
            "justify_items": null,
            "left": null,
            "margin": null,
            "max_height": null,
            "max_width": null,
            "min_height": null,
            "min_width": null,
            "object_fit": null,
            "object_position": null,
            "order": null,
            "overflow": null,
            "overflow_x": null,
            "overflow_y": null,
            "padding": null,
            "right": null,
            "top": null,
            "visibility": null,
            "width": null
          }
        },
        "a9c385ac11c8427db719b9af07dea410": {
          "model_module": "@jupyter-widgets/base",
          "model_module_version": "1.2.0",
          "model_name": "LayoutModel",
          "state": {
            "_model_module": "@jupyter-widgets/base",
            "_model_module_version": "1.2.0",
            "_model_name": "LayoutModel",
            "_view_count": null,
            "_view_module": "@jupyter-widgets/base",
            "_view_module_version": "1.2.0",
            "_view_name": "LayoutView",
            "align_content": null,
            "align_items": null,
            "align_self": null,
            "border": null,
            "bottom": null,
            "display": null,
            "flex": null,
            "flex_flow": null,
            "grid_area": null,
            "grid_auto_columns": null,
            "grid_auto_flow": null,
            "grid_auto_rows": null,
            "grid_column": null,
            "grid_gap": null,
            "grid_row": null,
            "grid_template_areas": null,
            "grid_template_columns": null,
            "grid_template_rows": null,
            "height": null,
            "justify_content": null,
            "justify_items": null,
            "left": null,
            "margin": null,
            "max_height": null,
            "max_width": null,
            "min_height": null,
            "min_width": null,
            "object_fit": null,
            "object_position": null,
            "order": null,
            "overflow": null,
            "overflow_x": null,
            "overflow_y": null,
            "padding": null,
            "right": null,
            "top": null,
            "visibility": null,
            "width": null
          }
        },
        "ab8db07f65eb489ea8b8cdbdeec3b2bd": {
          "model_module": "@jupyter-widgets/controls",
          "model_module_version": "1.5.0",
          "model_name": "HBoxModel",
          "state": {
            "_dom_classes": [],
            "_model_module": "@jupyter-widgets/controls",
            "_model_module_version": "1.5.0",
            "_model_name": "HBoxModel",
            "_view_count": null,
            "_view_module": "@jupyter-widgets/controls",
            "_view_module_version": "1.5.0",
            "_view_name": "HBoxView",
            "box_style": "",
            "children": [
              "IPY_MODEL_2c3b3612e9b84d2b9321d9174a23424f",
              "IPY_MODEL_d03c21857a94445199914078f68e54e2",
              "IPY_MODEL_7ecc0d2392e5450f97d226fb521c1aef"
            ],
            "layout": "IPY_MODEL_5b6eab2866244e46a5decfe40a24c7dd"
          }
        },
        "ac86ae70b6cb491c847187c5caf42af0": {
          "model_module": "@jupyter-widgets/controls",
          "model_module_version": "1.5.0",
          "model_name": "ProgressStyleModel",
          "state": {
            "_model_module": "@jupyter-widgets/controls",
            "_model_module_version": "1.5.0",
            "_model_name": "ProgressStyleModel",
            "_view_count": null,
            "_view_module": "@jupyter-widgets/base",
            "_view_module_version": "1.2.0",
            "_view_name": "StyleView",
            "bar_color": null,
            "description_width": ""
          }
        },
        "ad3f4e1fb6eb4649b6bf5d4d577b41c6": {
          "model_module": "@jupyter-widgets/controls",
          "model_module_version": "1.5.0",
          "model_name": "HBoxModel",
          "state": {
            "_dom_classes": [],
            "_model_module": "@jupyter-widgets/controls",
            "_model_module_version": "1.5.0",
            "_model_name": "HBoxModel",
            "_view_count": null,
            "_view_module": "@jupyter-widgets/controls",
            "_view_module_version": "1.5.0",
            "_view_name": "HBoxView",
            "box_style": "",
            "children": [
              "IPY_MODEL_5f9018286f144abc99ab701643c77805",
              "IPY_MODEL_311064c747f24b6d9a45b1bf560e1791",
              "IPY_MODEL_f5c06198b0a84bfa91555a611f4b0169"
            ],
            "layout": "IPY_MODEL_8afe66d8c1374e1790f961ff7c22115c"
          }
        },
        "b3798f7752e3487786c0a13ebce9deaf": {
          "model_module": "@jupyter-widgets/base",
          "model_module_version": "1.2.0",
          "model_name": "LayoutModel",
          "state": {
            "_model_module": "@jupyter-widgets/base",
            "_model_module_version": "1.2.0",
            "_model_name": "LayoutModel",
            "_view_count": null,
            "_view_module": "@jupyter-widgets/base",
            "_view_module_version": "1.2.0",
            "_view_name": "LayoutView",
            "align_content": null,
            "align_items": null,
            "align_self": null,
            "border": null,
            "bottom": null,
            "display": null,
            "flex": null,
            "flex_flow": null,
            "grid_area": null,
            "grid_auto_columns": null,
            "grid_auto_flow": null,
            "grid_auto_rows": null,
            "grid_column": null,
            "grid_gap": null,
            "grid_row": null,
            "grid_template_areas": null,
            "grid_template_columns": null,
            "grid_template_rows": null,
            "height": null,
            "justify_content": null,
            "justify_items": null,
            "left": null,
            "margin": null,
            "max_height": null,
            "max_width": null,
            "min_height": null,
            "min_width": null,
            "object_fit": null,
            "object_position": null,
            "order": null,
            "overflow": null,
            "overflow_x": null,
            "overflow_y": null,
            "padding": null,
            "right": null,
            "top": null,
            "visibility": null,
            "width": null
          }
        },
        "b6e3f25521094ef28b64474ee24b36fe": {
          "model_module": "@jupyter-widgets/base",
          "model_module_version": "1.2.0",
          "model_name": "LayoutModel",
          "state": {
            "_model_module": "@jupyter-widgets/base",
            "_model_module_version": "1.2.0",
            "_model_name": "LayoutModel",
            "_view_count": null,
            "_view_module": "@jupyter-widgets/base",
            "_view_module_version": "1.2.0",
            "_view_name": "LayoutView",
            "align_content": null,
            "align_items": null,
            "align_self": null,
            "border": null,
            "bottom": null,
            "display": null,
            "flex": null,
            "flex_flow": null,
            "grid_area": null,
            "grid_auto_columns": null,
            "grid_auto_flow": null,
            "grid_auto_rows": null,
            "grid_column": null,
            "grid_gap": null,
            "grid_row": null,
            "grid_template_areas": null,
            "grid_template_columns": null,
            "grid_template_rows": null,
            "height": null,
            "justify_content": null,
            "justify_items": null,
            "left": null,
            "margin": null,
            "max_height": null,
            "max_width": null,
            "min_height": null,
            "min_width": null,
            "object_fit": null,
            "object_position": null,
            "order": null,
            "overflow": null,
            "overflow_x": null,
            "overflow_y": null,
            "padding": null,
            "right": null,
            "top": null,
            "visibility": null,
            "width": null
          }
        },
        "bb28a85ff58243458dfb8c0edcb2a8bc": {
          "model_module": "@jupyter-widgets/base",
          "model_module_version": "1.2.0",
          "model_name": "LayoutModel",
          "state": {
            "_model_module": "@jupyter-widgets/base",
            "_model_module_version": "1.2.0",
            "_model_name": "LayoutModel",
            "_view_count": null,
            "_view_module": "@jupyter-widgets/base",
            "_view_module_version": "1.2.0",
            "_view_name": "LayoutView",
            "align_content": null,
            "align_items": null,
            "align_self": null,
            "border": null,
            "bottom": null,
            "display": null,
            "flex": null,
            "flex_flow": null,
            "grid_area": null,
            "grid_auto_columns": null,
            "grid_auto_flow": null,
            "grid_auto_rows": null,
            "grid_column": null,
            "grid_gap": null,
            "grid_row": null,
            "grid_template_areas": null,
            "grid_template_columns": null,
            "grid_template_rows": null,
            "height": null,
            "justify_content": null,
            "justify_items": null,
            "left": null,
            "margin": null,
            "max_height": null,
            "max_width": null,
            "min_height": null,
            "min_width": null,
            "object_fit": null,
            "object_position": null,
            "order": null,
            "overflow": null,
            "overflow_x": null,
            "overflow_y": null,
            "padding": null,
            "right": null,
            "top": null,
            "visibility": null,
            "width": null
          }
        },
        "bc0e31b1c84546ae97cce79caf8181b2": {
          "model_module": "@jupyter-widgets/base",
          "model_module_version": "1.2.0",
          "model_name": "LayoutModel",
          "state": {
            "_model_module": "@jupyter-widgets/base",
            "_model_module_version": "1.2.0",
            "_model_name": "LayoutModel",
            "_view_count": null,
            "_view_module": "@jupyter-widgets/base",
            "_view_module_version": "1.2.0",
            "_view_name": "LayoutView",
            "align_content": null,
            "align_items": null,
            "align_self": null,
            "border": null,
            "bottom": null,
            "display": null,
            "flex": null,
            "flex_flow": null,
            "grid_area": null,
            "grid_auto_columns": null,
            "grid_auto_flow": null,
            "grid_auto_rows": null,
            "grid_column": null,
            "grid_gap": null,
            "grid_row": null,
            "grid_template_areas": null,
            "grid_template_columns": null,
            "grid_template_rows": null,
            "height": null,
            "justify_content": null,
            "justify_items": null,
            "left": null,
            "margin": null,
            "max_height": null,
            "max_width": null,
            "min_height": null,
            "min_width": null,
            "object_fit": null,
            "object_position": null,
            "order": null,
            "overflow": null,
            "overflow_x": null,
            "overflow_y": null,
            "padding": null,
            "right": null,
            "top": null,
            "visibility": null,
            "width": null
          }
        },
        "bdc6a3b6942a4ec190fc9f094e6b8f76": {
          "model_module": "@jupyter-widgets/controls",
          "model_module_version": "1.5.0",
          "model_name": "HTMLModel",
          "state": {
            "_dom_classes": [],
            "_model_module": "@jupyter-widgets/controls",
            "_model_module_version": "1.5.0",
            "_model_name": "HTMLModel",
            "_view_count": null,
            "_view_module": "@jupyter-widgets/controls",
            "_view_module_version": "1.5.0",
            "_view_name": "HTMLView",
            "description": "",
            "description_tooltip": null,
            "layout": "IPY_MODEL_f23db9752a394aedbdb29832d5cd38e1",
            "placeholder": "​",
            "style": "IPY_MODEL_9977df4f04654019b81945f50da0d1b1",
            "value": " 481/481 [00:00&lt;00:00, 63.6kB/s]"
          }
        },
        "c30c49907bfc46bf9b2a0ce663fd76bd": {
          "model_module": "@jupyter-widgets/controls",
          "model_module_version": "1.5.0",
          "model_name": "FloatProgressModel",
          "state": {
            "_dom_classes": [],
            "_model_module": "@jupyter-widgets/controls",
            "_model_module_version": "1.5.0",
            "_model_name": "FloatProgressModel",
            "_view_count": null,
            "_view_module": "@jupyter-widgets/controls",
            "_view_module_version": "1.5.0",
            "_view_name": "ProgressView",
            "bar_style": "success",
            "description": "",
            "description_tooltip": null,
            "layout": "IPY_MODEL_b6e3f25521094ef28b64474ee24b36fe",
            "max": 898823,
            "min": 0,
            "orientation": "horizontal",
            "style": "IPY_MODEL_f705458b2b8445388744ab345d909861",
            "value": 898823
          }
        },
        "c6823935a17b446f9b506e64cbb36ef5": {
          "model_module": "@jupyter-widgets/base",
          "model_module_version": "1.2.0",
          "model_name": "LayoutModel",
          "state": {
            "_model_module": "@jupyter-widgets/base",
            "_model_module_version": "1.2.0",
            "_model_name": "LayoutModel",
            "_view_count": null,
            "_view_module": "@jupyter-widgets/base",
            "_view_module_version": "1.2.0",
            "_view_name": "LayoutView",
            "align_content": null,
            "align_items": null,
            "align_self": null,
            "border": null,
            "bottom": null,
            "display": null,
            "flex": null,
            "flex_flow": null,
            "grid_area": null,
            "grid_auto_columns": null,
            "grid_auto_flow": null,
            "grid_auto_rows": null,
            "grid_column": null,
            "grid_gap": null,
            "grid_row": null,
            "grid_template_areas": null,
            "grid_template_columns": null,
            "grid_template_rows": null,
            "height": null,
            "justify_content": null,
            "justify_items": null,
            "left": null,
            "margin": null,
            "max_height": null,
            "max_width": null,
            "min_height": null,
            "min_width": null,
            "object_fit": null,
            "object_position": null,
            "order": null,
            "overflow": null,
            "overflow_x": null,
            "overflow_y": null,
            "padding": null,
            "right": null,
            "top": null,
            "visibility": null,
            "width": null
          }
        },
        "c8d15ebdd2c14db095dc2691a7081828": {
          "model_module": "@jupyter-widgets/controls",
          "model_module_version": "1.5.0",
          "model_name": "DescriptionStyleModel",
          "state": {
            "_model_module": "@jupyter-widgets/controls",
            "_model_module_version": "1.5.0",
            "_model_name": "DescriptionStyleModel",
            "_view_count": null,
            "_view_module": "@jupyter-widgets/base",
            "_view_module_version": "1.2.0",
            "_view_name": "StyleView",
            "description_width": ""
          }
        },
        "cb44ab24adb54493b501eda60f4718db": {
          "model_module": "@jupyter-widgets/controls",
          "model_module_version": "1.5.0",
          "model_name": "DescriptionStyleModel",
          "state": {
            "_model_module": "@jupyter-widgets/controls",
            "_model_module_version": "1.5.0",
            "_model_name": "DescriptionStyleModel",
            "_view_count": null,
            "_view_module": "@jupyter-widgets/base",
            "_view_module_version": "1.2.0",
            "_view_name": "StyleView",
            "description_width": ""
          }
        },
        "cc69323ea6144aba9cd30c9c75058f17": {
          "model_module": "@jupyter-widgets/base",
          "model_module_version": "1.2.0",
          "model_name": "LayoutModel",
          "state": {
            "_model_module": "@jupyter-widgets/base",
            "_model_module_version": "1.2.0",
            "_model_name": "LayoutModel",
            "_view_count": null,
            "_view_module": "@jupyter-widgets/base",
            "_view_module_version": "1.2.0",
            "_view_name": "LayoutView",
            "align_content": null,
            "align_items": null,
            "align_self": null,
            "border": null,
            "bottom": null,
            "display": null,
            "flex": null,
            "flex_flow": null,
            "grid_area": null,
            "grid_auto_columns": null,
            "grid_auto_flow": null,
            "grid_auto_rows": null,
            "grid_column": null,
            "grid_gap": null,
            "grid_row": null,
            "grid_template_areas": null,
            "grid_template_columns": null,
            "grid_template_rows": null,
            "height": null,
            "justify_content": null,
            "justify_items": null,
            "left": null,
            "margin": null,
            "max_height": null,
            "max_width": null,
            "min_height": null,
            "min_width": null,
            "object_fit": null,
            "object_position": null,
            "order": null,
            "overflow": null,
            "overflow_x": null,
            "overflow_y": null,
            "padding": null,
            "right": null,
            "top": null,
            "visibility": null,
            "width": null
          }
        },
        "ccf09e59f83147d7b94b5c1a9a417932": {
          "model_module": "@jupyter-widgets/controls",
          "model_module_version": "1.5.0",
          "model_name": "DescriptionStyleModel",
          "state": {
            "_model_module": "@jupyter-widgets/controls",
            "_model_module_version": "1.5.0",
            "_model_name": "DescriptionStyleModel",
            "_view_count": null,
            "_view_module": "@jupyter-widgets/base",
            "_view_module_version": "1.2.0",
            "_view_name": "StyleView",
            "description_width": ""
          }
        },
        "cde4b04d28bb4715b154d32893ab827b": {
          "model_module": "@jupyter-widgets/base",
          "model_module_version": "1.2.0",
          "model_name": "LayoutModel",
          "state": {
            "_model_module": "@jupyter-widgets/base",
            "_model_module_version": "1.2.0",
            "_model_name": "LayoutModel",
            "_view_count": null,
            "_view_module": "@jupyter-widgets/base",
            "_view_module_version": "1.2.0",
            "_view_name": "LayoutView",
            "align_content": null,
            "align_items": null,
            "align_self": null,
            "border": null,
            "bottom": null,
            "display": null,
            "flex": null,
            "flex_flow": null,
            "grid_area": null,
            "grid_auto_columns": null,
            "grid_auto_flow": null,
            "grid_auto_rows": null,
            "grid_column": null,
            "grid_gap": null,
            "grid_row": null,
            "grid_template_areas": null,
            "grid_template_columns": null,
            "grid_template_rows": null,
            "height": null,
            "justify_content": null,
            "justify_items": null,
            "left": null,
            "margin": null,
            "max_height": null,
            "max_width": null,
            "min_height": null,
            "min_width": null,
            "object_fit": null,
            "object_position": null,
            "order": null,
            "overflow": null,
            "overflow_x": null,
            "overflow_y": null,
            "padding": null,
            "right": null,
            "top": null,
            "visibility": null,
            "width": null
          }
        },
        "cf4d366e86624ee6a0d1bca370625156": {
          "model_module": "@jupyter-widgets/controls",
          "model_module_version": "1.5.0",
          "model_name": "ProgressStyleModel",
          "state": {
            "_model_module": "@jupyter-widgets/controls",
            "_model_module_version": "1.5.0",
            "_model_name": "ProgressStyleModel",
            "_view_count": null,
            "_view_module": "@jupyter-widgets/base",
            "_view_module_version": "1.2.0",
            "_view_name": "StyleView",
            "bar_color": null,
            "description_width": ""
          }
        },
        "d03c21857a94445199914078f68e54e2": {
          "model_module": "@jupyter-widgets/controls",
          "model_module_version": "1.5.0",
          "model_name": "FloatProgressModel",
          "state": {
            "_dom_classes": [],
            "_model_module": "@jupyter-widgets/controls",
            "_model_module_version": "1.5.0",
            "_model_name": "FloatProgressModel",
            "_view_count": null,
            "_view_module": "@jupyter-widgets/controls",
            "_view_module_version": "1.5.0",
            "_view_name": "ProgressView",
            "bar_style": "success",
            "description": "",
            "description_tooltip": null,
            "layout": "IPY_MODEL_61830c4fb2af42d9abe80fde81c4aeac",
            "max": 1,
            "min": 0,
            "orientation": "horizontal",
            "style": "IPY_MODEL_cf4d366e86624ee6a0d1bca370625156",
            "value": 1
          }
        },
        "d044d399a48947279580742b74114280": {
          "model_module": "@jupyter-widgets/controls",
          "model_module_version": "1.5.0",
          "model_name": "DescriptionStyleModel",
          "state": {
            "_model_module": "@jupyter-widgets/controls",
            "_model_module_version": "1.5.0",
            "_model_name": "DescriptionStyleModel",
            "_view_count": null,
            "_view_module": "@jupyter-widgets/base",
            "_view_module_version": "1.2.0",
            "_view_name": "StyleView",
            "description_width": ""
          }
        },
        "d50f63adb3d54dd2bc0eac5d89edef22": {
          "model_module": "@jupyter-widgets/controls",
          "model_module_version": "1.5.0",
          "model_name": "DescriptionStyleModel",
          "state": {
            "_model_module": "@jupyter-widgets/controls",
            "_model_module_version": "1.5.0",
            "_model_name": "DescriptionStyleModel",
            "_view_count": null,
            "_view_module": "@jupyter-widgets/base",
            "_view_module_version": "1.2.0",
            "_view_name": "StyleView",
            "description_width": ""
          }
        },
        "dcbebf33440e496498787a95b187342f": {
          "model_module": "@jupyter-widgets/controls",
          "model_module_version": "1.5.0",
          "model_name": "HBoxModel",
          "state": {
            "_dom_classes": [],
            "_model_module": "@jupyter-widgets/controls",
            "_model_module_version": "1.5.0",
            "_model_name": "HBoxModel",
            "_view_count": null,
            "_view_module": "@jupyter-widgets/controls",
            "_view_module_version": "1.5.0",
            "_view_name": "HBoxView",
            "box_style": "",
            "children": [
              "IPY_MODEL_70d3e61a2a614b8a845ded2f4ce6e901",
              "IPY_MODEL_971258e0076d4ce292ae6796f4c3b511",
              "IPY_MODEL_41afd644921f4ca584f160ba3b78b691"
            ],
            "layout": "IPY_MODEL_2dac564c25cc49c0b37b21b02b88c067"
          }
        },
        "f06c13a615ca44aaababb3ef17927209": {
          "model_module": "@jupyter-widgets/controls",
          "model_module_version": "1.5.0",
          "model_name": "FloatProgressModel",
          "state": {
            "_dom_classes": [],
            "_model_module": "@jupyter-widgets/controls",
            "_model_module_version": "1.5.0",
            "_model_name": "FloatProgressModel",
            "_view_count": null,
            "_view_module": "@jupyter-widgets/controls",
            "_view_module_version": "1.5.0",
            "_view_name": "ProgressView",
            "bar_style": "success",
            "description": "",
            "description_tooltip": null,
            "layout": "IPY_MODEL_9891b5983806498f980dc140e0fc7e4a",
            "max": 456318,
            "min": 0,
            "orientation": "horizontal",
            "style": "IPY_MODEL_ac86ae70b6cb491c847187c5caf42af0",
            "value": 456318
          }
        },
        "f23db9752a394aedbdb29832d5cd38e1": {
          "model_module": "@jupyter-widgets/base",
          "model_module_version": "1.2.0",
          "model_name": "LayoutModel",
          "state": {
            "_model_module": "@jupyter-widgets/base",
            "_model_module_version": "1.2.0",
            "_model_name": "LayoutModel",
            "_view_count": null,
            "_view_module": "@jupyter-widgets/base",
            "_view_module_version": "1.2.0",
            "_view_name": "LayoutView",
            "align_content": null,
            "align_items": null,
            "align_self": null,
            "border": null,
            "bottom": null,
            "display": null,
            "flex": null,
            "flex_flow": null,
            "grid_area": null,
            "grid_auto_columns": null,
            "grid_auto_flow": null,
            "grid_auto_rows": null,
            "grid_column": null,
            "grid_gap": null,
            "grid_row": null,
            "grid_template_areas": null,
            "grid_template_columns": null,
            "grid_template_rows": null,
            "height": null,
            "justify_content": null,
            "justify_items": null,
            "left": null,
            "margin": null,
            "max_height": null,
            "max_width": null,
            "min_height": null,
            "min_width": null,
            "object_fit": null,
            "object_position": null,
            "order": null,
            "overflow": null,
            "overflow_x": null,
            "overflow_y": null,
            "padding": null,
            "right": null,
            "top": null,
            "visibility": null,
            "width": null
          }
        },
        "f53975276ef94877b7c7eb30be771803": {
          "model_module": "@jupyter-widgets/base",
          "model_module_version": "1.2.0",
          "model_name": "LayoutModel",
          "state": {
            "_model_module": "@jupyter-widgets/base",
            "_model_module_version": "1.2.0",
            "_model_name": "LayoutModel",
            "_view_count": null,
            "_view_module": "@jupyter-widgets/base",
            "_view_module_version": "1.2.0",
            "_view_name": "LayoutView",
            "align_content": null,
            "align_items": null,
            "align_self": null,
            "border": null,
            "bottom": null,
            "display": null,
            "flex": null,
            "flex_flow": null,
            "grid_area": null,
            "grid_auto_columns": null,
            "grid_auto_flow": null,
            "grid_auto_rows": null,
            "grid_column": null,
            "grid_gap": null,
            "grid_row": null,
            "grid_template_areas": null,
            "grid_template_columns": null,
            "grid_template_rows": null,
            "height": null,
            "justify_content": null,
            "justify_items": null,
            "left": null,
            "margin": null,
            "max_height": null,
            "max_width": null,
            "min_height": null,
            "min_width": null,
            "object_fit": null,
            "object_position": null,
            "order": null,
            "overflow": null,
            "overflow_x": null,
            "overflow_y": null,
            "padding": null,
            "right": null,
            "top": null,
            "visibility": null,
            "width": null
          }
        },
        "f5c06198b0a84bfa91555a611f4b0169": {
          "model_module": "@jupyter-widgets/controls",
          "model_module_version": "1.5.0",
          "model_name": "HTMLModel",
          "state": {
            "_dom_classes": [],
            "_model_module": "@jupyter-widgets/controls",
            "_model_module_version": "1.5.0",
            "_model_name": "HTMLModel",
            "_view_count": null,
            "_view_module": "@jupyter-widgets/controls",
            "_view_module_version": "1.5.0",
            "_view_name": "HTMLView",
            "description": "",
            "description_tooltip": null,
            "layout": "IPY_MODEL_cde4b04d28bb4715b154d32893ab827b",
            "placeholder": "​",
            "style": "IPY_MODEL_cb44ab24adb54493b501eda60f4718db",
            "value": " 25.0/25.0 [00:00&lt;00:00, 3.06kB/s]"
          }
        },
        "f705458b2b8445388744ab345d909861": {
          "model_module": "@jupyter-widgets/controls",
          "model_module_version": "1.5.0",
          "model_name": "ProgressStyleModel",
          "state": {
            "_model_module": "@jupyter-widgets/controls",
            "_model_module_version": "1.5.0",
            "_model_name": "ProgressStyleModel",
            "_view_count": null,
            "_view_module": "@jupyter-widgets/base",
            "_view_module_version": "1.2.0",
            "_view_name": "StyleView",
            "bar_color": null,
            "description_width": ""
          }
        }
      }
    }
  },
  "nbformat": 4,
  "nbformat_minor": 5
}
